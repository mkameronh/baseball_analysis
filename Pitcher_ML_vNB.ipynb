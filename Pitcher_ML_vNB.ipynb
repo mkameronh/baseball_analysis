{
 "cells": [
  {
   "cell_type": "code",
   "execution_count": 74,
   "metadata": {},
   "outputs": [],
   "source": [
    "import warnings\n",
    "warnings.filterwarnings('ignore')"
   ]
  },
  {
   "cell_type": "code",
   "execution_count": 75,
   "metadata": {},
   "outputs": [],
   "source": [
    "from imblearn.ensemble import BalancedRandomForestClassifier\n",
    "import pandas as pd\n",
    "import numpy as np\n",
    "import matplotlib.pyplot as plt"
   ]
  },
  {
   "cell_type": "code",
   "execution_count": 76,
   "metadata": {},
   "outputs": [],
   "source": [
    "from sklearn.metrics import balanced_accuracy_score\n",
    "from sklearn.metrics import confusion_matrix\n",
    "from imblearn.metrics import classification_report_imbalanced"
   ]
  },
  {
   "cell_type": "code",
   "execution_count": 77,
   "metadata": {},
   "outputs": [],
   "source": [
    "pitchers_df = pd.read_csv('Combined CSV\\Pitchers_Complete.csv')\n"
   ]
  },
  {
   "cell_type": "code",
   "execution_count": 78,
   "metadata": {},
   "outputs": [
    {
     "data": {
      "text/plain": [
       "(9427, 35)"
      ]
     },
     "execution_count": 78,
     "metadata": {},
     "output_type": "execute_result"
    }
   ],
   "source": [
    "pitchers_df.shape"
   ]
  },
  {
   "cell_type": "code",
   "execution_count": 79,
   "metadata": {},
   "outputs": [
    {
     "data": {
      "text/plain": [
       "Index(['playerID', 'nameFirst', 'nameLast', 'weight', 'height', 'bats_L',\n",
       "       'bats_R', 'throws_L', 'throws_R', 'Seasons', 'Wins', 'Losses', 'Games',\n",
       "       'Pitch_Starts', 'Complete_Games', 'Shutouts', 'Saves', 'Outs_Pitched',\n",
       "       'Hits', 'Earned_Runs', 'Home_Runs', 'Walks', 'Strikeouts',\n",
       "       'Batters_Faced', 'Games_Finished', 'Runs_Allowed', 'finalGame',\n",
       "       'Retired_Years', 'inducted', 'yearID', 'index', 'Total_Games',\n",
       "       'Games_Started', 'Primary_Position', 'Hall_Eligible'],\n",
       "      dtype='object')"
      ]
     },
     "execution_count": 79,
     "metadata": {},
     "output_type": "execute_result"
    }
   ],
   "source": [
    "pitchers_df.columns"
   ]
  },
  {
   "cell_type": "code",
   "execution_count": 80,
   "metadata": {},
   "outputs": [
    {
     "data": {
      "text/html": [
       "<div>\n",
       "<style scoped>\n",
       "    .dataframe tbody tr th:only-of-type {\n",
       "        vertical-align: middle;\n",
       "    }\n",
       "\n",
       "    .dataframe tbody tr th {\n",
       "        vertical-align: top;\n",
       "    }\n",
       "\n",
       "    .dataframe thead th {\n",
       "        text-align: right;\n",
       "    }\n",
       "</style>\n",
       "<table border=\"1\" class=\"dataframe\">\n",
       "  <thead>\n",
       "    <tr style=\"text-align: right;\">\n",
       "      <th></th>\n",
       "      <th>playerID</th>\n",
       "      <th>nameFirst</th>\n",
       "      <th>nameLast</th>\n",
       "      <th>weight</th>\n",
       "      <th>height</th>\n",
       "      <th>bats_L</th>\n",
       "      <th>bats_R</th>\n",
       "      <th>throws_L</th>\n",
       "      <th>throws_R</th>\n",
       "      <th>Seasons</th>\n",
       "      <th>...</th>\n",
       "      <th>Runs_Allowed</th>\n",
       "      <th>finalGame</th>\n",
       "      <th>Retired_Years</th>\n",
       "      <th>inducted</th>\n",
       "      <th>yearID</th>\n",
       "      <th>index</th>\n",
       "      <th>Total_Games</th>\n",
       "      <th>Games_Started</th>\n",
       "      <th>Primary_Position</th>\n",
       "      <th>Hall_Eligible</th>\n",
       "    </tr>\n",
       "  </thead>\n",
       "  <tbody>\n",
       "    <tr>\n",
       "      <th>1</th>\n",
       "      <td>aasedo01</td>\n",
       "      <td>Don</td>\n",
       "      <td>Aase</td>\n",
       "      <td>190.0</td>\n",
       "      <td>75.0</td>\n",
       "      <td>0</td>\n",
       "      <td>1</td>\n",
       "      <td>0</td>\n",
       "      <td>1</td>\n",
       "      <td>13</td>\n",
       "      <td>...</td>\n",
       "      <td>503</td>\n",
       "      <td>1990-10-03</td>\n",
       "      <td>31.624658</td>\n",
       "      <td>N</td>\n",
       "      <td>0.0</td>\n",
       "      <td>3</td>\n",
       "      <td>448</td>\n",
       "      <td>91.0</td>\n",
       "      <td>Pitcher</td>\n",
       "      <td>eligible</td>\n",
       "    </tr>\n",
       "    <tr>\n",
       "      <th>6</th>\n",
       "      <td>abbotgl01</td>\n",
       "      <td>Glenn</td>\n",
       "      <td>Abbott</td>\n",
       "      <td>200.0</td>\n",
       "      <td>78.0</td>\n",
       "      <td>0</td>\n",
       "      <td>1</td>\n",
       "      <td>0</td>\n",
       "      <td>1</td>\n",
       "      <td>13</td>\n",
       "      <td>...</td>\n",
       "      <td>707</td>\n",
       "      <td>1984-08-08</td>\n",
       "      <td>37.780822</td>\n",
       "      <td>N</td>\n",
       "      <td>0.0</td>\n",
       "      <td>13</td>\n",
       "      <td>248</td>\n",
       "      <td>204.0</td>\n",
       "      <td>Pitcher</td>\n",
       "      <td>eligible</td>\n",
       "    </tr>\n",
       "    <tr>\n",
       "      <th>7</th>\n",
       "      <td>abbotji01</td>\n",
       "      <td>Jim</td>\n",
       "      <td>Abbott</td>\n",
       "      <td>200.0</td>\n",
       "      <td>75.0</td>\n",
       "      <td>1</td>\n",
       "      <td>0</td>\n",
       "      <td>1</td>\n",
       "      <td>0</td>\n",
       "      <td>12</td>\n",
       "      <td>...</td>\n",
       "      <td>880</td>\n",
       "      <td>1999-07-21</td>\n",
       "      <td>22.821918</td>\n",
       "      <td>N</td>\n",
       "      <td>0.0</td>\n",
       "      <td>15</td>\n",
       "      <td>263</td>\n",
       "      <td>254.0</td>\n",
       "      <td>Pitcher</td>\n",
       "      <td>eligible</td>\n",
       "    </tr>\n",
       "    <tr>\n",
       "      <th>9</th>\n",
       "      <td>abbotpa01</td>\n",
       "      <td>Paul</td>\n",
       "      <td>Abbott</td>\n",
       "      <td>185.0</td>\n",
       "      <td>75.0</td>\n",
       "      <td>0</td>\n",
       "      <td>1</td>\n",
       "      <td>0</td>\n",
       "      <td>1</td>\n",
       "      <td>13</td>\n",
       "      <td>...</td>\n",
       "      <td>421</td>\n",
       "      <td>2004-08-07</td>\n",
       "      <td>17.769863</td>\n",
       "      <td>N</td>\n",
       "      <td>0.0</td>\n",
       "      <td>19</td>\n",
       "      <td>162</td>\n",
       "      <td>112.0</td>\n",
       "      <td>Pitcher</td>\n",
       "      <td>eligible</td>\n",
       "    </tr>\n",
       "    <tr>\n",
       "      <th>10</th>\n",
       "      <td>aberal01</td>\n",
       "      <td>Al</td>\n",
       "      <td>Aber</td>\n",
       "      <td>195.0</td>\n",
       "      <td>74.0</td>\n",
       "      <td>1</td>\n",
       "      <td>0</td>\n",
       "      <td>1</td>\n",
       "      <td>0</td>\n",
       "      <td>10</td>\n",
       "      <td>...</td>\n",
       "      <td>205</td>\n",
       "      <td>1957-09-11</td>\n",
       "      <td>64.706849</td>\n",
       "      <td>N</td>\n",
       "      <td>0.0</td>\n",
       "      <td>20</td>\n",
       "      <td>168</td>\n",
       "      <td>30.0</td>\n",
       "      <td>Pitcher</td>\n",
       "      <td>eligible</td>\n",
       "    </tr>\n",
       "  </tbody>\n",
       "</table>\n",
       "<p>5 rows × 35 columns</p>\n",
       "</div>"
      ],
      "text/plain": [
       "     playerID nameFirst nameLast  weight  height  bats_L  bats_R  throws_L  \\\n",
       "1    aasedo01       Don     Aase   190.0    75.0       0       1         0   \n",
       "6   abbotgl01     Glenn   Abbott   200.0    78.0       0       1         0   \n",
       "7   abbotji01       Jim   Abbott   200.0    75.0       1       0         1   \n",
       "9   abbotpa01      Paul   Abbott   185.0    75.0       0       1         0   \n",
       "10   aberal01        Al     Aber   195.0    74.0       1       0         1   \n",
       "\n",
       "    throws_R  Seasons  ...  Runs_Allowed   finalGame  Retired_Years  inducted  \\\n",
       "1          1       13  ...           503  1990-10-03      31.624658         N   \n",
       "6          1       13  ...           707  1984-08-08      37.780822         N   \n",
       "7          0       12  ...           880  1999-07-21      22.821918         N   \n",
       "9          1       13  ...           421  2004-08-07      17.769863         N   \n",
       "10         0       10  ...           205  1957-09-11      64.706849         N   \n",
       "\n",
       "    yearID  index  Total_Games  Games_Started  Primary_Position  Hall_Eligible  \n",
       "1      0.0      3          448           91.0           Pitcher       eligible  \n",
       "6      0.0     13          248          204.0           Pitcher       eligible  \n",
       "7      0.0     15          263          254.0           Pitcher       eligible  \n",
       "9      0.0     19          162          112.0           Pitcher       eligible  \n",
       "10     0.0     20          168           30.0           Pitcher       eligible  \n",
       "\n",
       "[5 rows x 35 columns]"
      ]
     },
     "execution_count": 80,
     "metadata": {},
     "output_type": "execute_result"
    }
   ],
   "source": [
    "pitchers_train_model = pitchers_df[pitchers_df['Hall_Eligible']=='eligible']\n",
    "pitchers_train_model.head()"
   ]
  },
  {
   "cell_type": "code",
   "execution_count": 81,
   "metadata": {},
   "outputs": [
    {
     "name": "stdout",
     "output_type": "stream",
     "text": [
      "22.014492753623188\n"
     ]
    }
   ],
   "source": [
    "scale_pos_weight = (pitchers_train_model.inducted.value_counts()[0])/pitchers_train_model.inducted.value_counts()[1]\n",
    "print(scale_pos_weight)"
   ]
  },
  {
   "cell_type": "code",
   "execution_count": 82,
   "metadata": {},
   "outputs": [],
   "source": [
    "# Getting data ready for machine learning\n",
    "data = pitchers_train_model.drop(['inducted', \n",
    "                                  'playerID', \n",
    "                                  'nameFirst', \n",
    "                                  'nameLast', \n",
    "                                  'finalGame', \n",
    "                                  'bats_L',\n",
    "                                  'bats_R', \n",
    "                                  'throws_L', \n",
    "                                  'throws_R',\n",
    "                                  'weight', \n",
    "                                  'height',\n",
    "                                  'yearID',\n",
    "                                  'Retired_Years',\n",
    "                                  'Primary_Position',\n",
    "                                  'Hall_Eligible'], axis=1)\n",
    "data.fillna(0, inplace=True)\n",
    "data['Batters_Faced']=pd.to_numeric(data['Batters_Faced'])\n",
    "target = pitchers_train_model['inducted']\n",
    "target.fillna('N', inplace=True)\n",
    "feature_names = data.columns"
   ]
  },
  {
   "cell_type": "code",
   "execution_count": 83,
   "metadata": {},
   "outputs": [],
   "source": [
    "from sklearn.model_selection import train_test_split\n",
    "from sklearn.preprocessing import StandardScaler\n",
    "\n",
    "X_train, X_test, y_train, y_test = train_test_split(data, target, random_state=42)\n",
    "X_scaler = StandardScaler().fit(X_train)\n",
    "X_train_scaled = X_scaler.transform(X_train)\n",
    "X_test_scaled = X_scaler.transform(X_test)"
   ]
  },
  {
   "cell_type": "code",
   "execution_count": 84,
   "metadata": {},
   "outputs": [
    {
     "data": {
      "text/plain": [
       "397"
      ]
     },
     "execution_count": 84,
     "metadata": {},
     "output_type": "execute_result"
    }
   ],
   "source": [
    "len(X_test)"
   ]
  },
  {
   "cell_type": "code",
   "execution_count": 85,
   "metadata": {},
   "outputs": [
    {
     "data": {
      "text/plain": [
       "0.9118387909319899"
      ]
     },
     "execution_count": 85,
     "metadata": {},
     "output_type": "execute_result"
    }
   ],
   "source": [
    "#CLF = Classifier\n",
    "clf = BalancedRandomForestClassifier(n_estimators=100, random_state=1)\n",
    "clf = clf.fit(X_train_scaled, y_train)\n",
    "clf.score(X_test_scaled, y_test)"
   ]
  },
  {
   "cell_type": "code",
   "execution_count": 86,
   "metadata": {},
   "outputs": [
    {
     "name": "stdout",
     "output_type": "stream",
     "text": [
      "[[346  35]\n",
      " [  0  16]]\n"
     ]
    }
   ],
   "source": [
    "y_predicted = clf.predict(X_test_scaled)\n",
    "from sklearn.metrics import confusion_matrix, classification_report\n",
    "from imblearn.metrics import classification_report_imbalanced\n",
    "print(confusion_matrix(y_test, y_predicted))\n",
    "\n",
    "predictions_df = pd.concat([pd.DataFrame(X_test_scaled),              \n",
    "                            pd.DataFrame(dict(predicted= y_predicted,actual=y_test\n",
    "                            )).reset_index(drop=True)], axis=1)"
   ]
  },
  {
   "cell_type": "code",
   "execution_count": 87,
   "metadata": {},
   "outputs": [
    {
     "name": "stdout",
     "output_type": "stream",
     "text": [
      "                   pre       rec       spe        f1       geo       iba       sup\n",
      "\n",
      "          N       1.00      0.91      1.00      0.95      0.95      0.90       381\n",
      "          Y       0.31      1.00      0.91      0.48      0.95      0.92        16\n",
      "\n",
      "avg / total       0.97      0.91      1.00      0.93      0.95      0.90       397\n",
      "\n"
     ]
    }
   ],
   "source": [
    "# Print the imbalanced classification report\n",
    "print(classification_report_imbalanced(y_test, y_predicted))"
   ]
  },
  {
   "cell_type": "code",
   "execution_count": 88,
   "metadata": {},
   "outputs": [
    {
     "data": {
      "text/plain": [
       "0.9540682414698163"
      ]
     },
     "execution_count": 88,
     "metadata": {},
     "output_type": "execute_result"
    }
   ],
   "source": [
    "# Calculated the balanced accuracy score\n",
    "balanced_accuracy_score(y_test, y_predicted) "
   ]
  },
  {
   "cell_type": "code",
   "execution_count": 89,
   "metadata": {},
   "outputs": [
    {
     "data": {
      "text/plain": [
       "[(0.1296928771196275, 'Wins'),\n",
       " (0.12282556248219748, 'Batters_Faced'),\n",
       " (0.1204530781686861, 'Outs_Pitched'),\n",
       " (0.10353317357786974, 'Shutouts'),\n",
       " (0.06232340723497317, 'Strikeouts'),\n",
       " (0.061241050896433405, 'Pitch_Starts'),\n",
       " (0.058564812199126466, 'Complete_Games'),\n",
       " (0.0478335363095796, 'Games'),\n",
       " (0.04154715191060843, 'Losses'),\n",
       " (0.03912627067426384, 'Games_Finished'),\n",
       " (0.03594669985715756, 'Hits'),\n",
       " (0.03578248680066356, 'Walks'),\n",
       " (0.03222961773958889, 'Runs_Allowed'),\n",
       " (0.03026234119775583, 'Saves'),\n",
       " (0.02760515754822433, 'Total_Games'),\n",
       " (0.01940375207817222, 'Earned_Runs'),\n",
       " (0.010713109779580683, 'index'),\n",
       " (0.008790839454138282, 'Games_Started'),\n",
       " (0.006208741829258964, 'Home_Runs'),\n",
       " (0.005916333142093802, 'Seasons')]"
      ]
     },
     "execution_count": 89,
     "metadata": {},
     "output_type": "execute_result"
    }
   ],
   "source": [
    "# List the features sorted in descending order by feature importance\n",
    "sorted(zip(clf.feature_importances_, data.columns), reverse=True)"
   ]
  },
  {
   "cell_type": "code",
   "execution_count": 90,
   "metadata": {},
   "outputs": [
    {
     "data": {
      "text/plain": [
       "<BarContainer object of 20 artists>"
      ]
     },
     "execution_count": 90,
     "metadata": {},
     "output_type": "execute_result"
    },
    {
     "data": {
      "image/png": "[encoded data removed]",
      "text/plain": [
       "<Figure size 432x288 with 1 Axes>"
      ]
     },
     "metadata": {
      "needs_background": "light"
     },
     "output_type": "display_data"
    }
   ],
   "source": [
    "plt.barh(feature_names,clf.feature_importances_)"
   ]
  },
  {
   "cell_type": "code",
   "execution_count": 91,
   "metadata": {},
   "outputs": [
    {
     "data": {
      "text/html": [
       "<div>\n",
       "<style scoped>\n",
       "    .dataframe tbody tr th:only-of-type {\n",
       "        vertical-align: middle;\n",
       "    }\n",
       "\n",
       "    .dataframe tbody tr th {\n",
       "        vertical-align: top;\n",
       "    }\n",
       "\n",
       "    .dataframe thead th {\n",
       "        text-align: right;\n",
       "    }\n",
       "</style>\n",
       "<table border=\"1\" class=\"dataframe\">\n",
       "  <thead>\n",
       "    <tr style=\"text-align: right;\">\n",
       "      <th></th>\n",
       "      <th>0</th>\n",
       "      <th>1</th>\n",
       "      <th>2</th>\n",
       "      <th>3</th>\n",
       "      <th>4</th>\n",
       "      <th>5</th>\n",
       "      <th>6</th>\n",
       "      <th>7</th>\n",
       "      <th>8</th>\n",
       "      <th>9</th>\n",
       "      <th>...</th>\n",
       "      <th>12</th>\n",
       "      <th>13</th>\n",
       "      <th>14</th>\n",
       "      <th>15</th>\n",
       "      <th>16</th>\n",
       "      <th>17</th>\n",
       "      <th>18</th>\n",
       "      <th>19</th>\n",
       "      <th>predicted</th>\n",
       "      <th>actual</th>\n",
       "    </tr>\n",
       "  </thead>\n",
       "  <tbody>\n",
       "    <tr>\n",
       "      <th>0</th>\n",
       "      <td>0.987501</td>\n",
       "      <td>2.779308</td>\n",
       "      <td>1.410357</td>\n",
       "      <td>0.909812</td>\n",
       "      <td>2.336333</td>\n",
       "      <td>1.817139</td>\n",
       "      <td>3.739248</td>\n",
       "      <td>-0.429064</td>\n",
       "      <td>2.500401</td>\n",
       "      <td>1.941870</td>\n",
       "      <td>...</td>\n",
       "      <td>2.712745</td>\n",
       "      <td>2.380524</td>\n",
       "      <td>2.381079</td>\n",
       "      <td>-0.737260</td>\n",
       "      <td>1.455326</td>\n",
       "      <td>0.625373</td>\n",
       "      <td>0.937065</td>\n",
       "      <td>2.489993</td>\n",
       "      <td>Y</td>\n",
       "      <td>Y</td>\n",
       "    </tr>\n",
       "    <tr>\n",
       "      <th>1</th>\n",
       "      <td>0.750668</td>\n",
       "      <td>0.255197</td>\n",
       "      <td>0.268212</td>\n",
       "      <td>2.509055</td>\n",
       "      <td>-0.969060</td>\n",
       "      <td>-0.599408</td>\n",
       "      <td>-0.773630</td>\n",
       "      <td>2.562476</td>\n",
       "      <td>-0.117365</td>\n",
       "      <td>-0.130425</td>\n",
       "      <td>...</td>\n",
       "      <td>-0.489028</td>\n",
       "      <td>0.082060</td>\n",
       "      <td>-0.157516</td>\n",
       "      <td>3.763509</td>\n",
       "      <td>-0.276225</td>\n",
       "      <td>-0.819166</td>\n",
       "      <td>2.438233</td>\n",
       "      <td>-0.905380</td>\n",
       "      <td>N</td>\n",
       "      <td>N</td>\n",
       "    </tr>\n",
       "    <tr>\n",
       "      <th>2</th>\n",
       "      <td>0.513835</td>\n",
       "      <td>1.609598</td>\n",
       "      <td>0.789190</td>\n",
       "      <td>0.286659</td>\n",
       "      <td>1.145321</td>\n",
       "      <td>1.593167</td>\n",
       "      <td>1.780829</td>\n",
       "      <td>-0.286610</td>\n",
       "      <td>1.314453</td>\n",
       "      <td>1.296995</td>\n",
       "      <td>...</td>\n",
       "      <td>0.782909</td>\n",
       "      <td>0.534866</td>\n",
       "      <td>1.283611</td>\n",
       "      <td>-0.334687</td>\n",
       "      <td>0.957828</td>\n",
       "      <td>1.532936</td>\n",
       "      <td>0.302998</td>\n",
       "      <td>1.253449</td>\n",
       "      <td>Y</td>\n",
       "      <td>N</td>\n",
       "    </tr>\n",
       "    <tr>\n",
       "      <th>3</th>\n",
       "      <td>-1.143998</td>\n",
       "      <td>-1.053031</td>\n",
       "      <td>-1.054272</td>\n",
       "      <td>-1.533169</td>\n",
       "      <td>-0.674653</td>\n",
       "      <td>-0.516892</td>\n",
       "      <td>-0.092441</td>\n",
       "      <td>-0.460720</td>\n",
       "      <td>-1.042180</td>\n",
       "      <td>-1.129309</td>\n",
       "      <td>...</td>\n",
       "      <td>-0.883767</td>\n",
       "      <td>-0.833882</td>\n",
       "      <td>-1.061113</td>\n",
       "      <td>-0.688951</td>\n",
       "      <td>-1.066622</td>\n",
       "      <td>-1.221683</td>\n",
       "      <td>-1.528751</td>\n",
       "      <td>-0.604784</td>\n",
       "      <td>N</td>\n",
       "      <td>N</td>\n",
       "    </tr>\n",
       "    <tr>\n",
       "      <th>4</th>\n",
       "      <td>-1.143998</td>\n",
       "      <td>0.870834</td>\n",
       "      <td>0.689002</td>\n",
       "      <td>-0.182085</td>\n",
       "      <td>0.569888</td>\n",
       "      <td>1.498862</td>\n",
       "      <td>1.525383</td>\n",
       "      <td>-0.223297</td>\n",
       "      <td>0.896303</td>\n",
       "      <td>0.672822</td>\n",
       "      <td>...</td>\n",
       "      <td>0.641208</td>\n",
       "      <td>0.452225</td>\n",
       "      <td>0.806970</td>\n",
       "      <td>-0.197812</td>\n",
       "      <td>0.410796</td>\n",
       "      <td>-0.398353</td>\n",
       "      <td>0.102481</td>\n",
       "      <td>0.665919</td>\n",
       "      <td>N</td>\n",
       "      <td>N</td>\n",
       "    </tr>\n",
       "    <tr>\n",
       "      <th>...</th>\n",
       "      <td>...</td>\n",
       "      <td>...</td>\n",
       "      <td>...</td>\n",
       "      <td>...</td>\n",
       "      <td>...</td>\n",
       "      <td>...</td>\n",
       "      <td>...</td>\n",
       "      <td>...</td>\n",
       "      <td>...</td>\n",
       "      <td>...</td>\n",
       "      <td>...</td>\n",
       "      <td>...</td>\n",
       "      <td>...</td>\n",
       "      <td>...</td>\n",
       "      <td>...</td>\n",
       "      <td>...</td>\n",
       "      <td>...</td>\n",
       "      <td>...</td>\n",
       "      <td>...</td>\n",
       "      <td>...</td>\n",
       "      <td>...</td>\n",
       "    </tr>\n",
       "    <tr>\n",
       "      <th>392</th>\n",
       "      <td>-0.670331</td>\n",
       "      <td>-1.083813</td>\n",
       "      <td>-1.414950</td>\n",
       "      <td>-0.579138</td>\n",
       "      <td>-1.136337</td>\n",
       "      <td>-0.670137</td>\n",
       "      <td>-0.773630</td>\n",
       "      <td>-0.302438</td>\n",
       "      <td>-1.149685</td>\n",
       "      <td>-1.150011</td>\n",
       "      <td>...</td>\n",
       "      <td>-1.170543</td>\n",
       "      <td>-1.155839</td>\n",
       "      <td>-1.166817</td>\n",
       "      <td>-0.173657</td>\n",
       "      <td>-1.197996</td>\n",
       "      <td>-1.184573</td>\n",
       "      <td>-0.623715</td>\n",
       "      <td>-1.076174</td>\n",
       "      <td>N</td>\n",
       "      <td>N</td>\n",
       "    </tr>\n",
       "    <tr>\n",
       "      <th>393</th>\n",
       "      <td>-1.143998</td>\n",
       "      <td>-0.191139</td>\n",
       "      <td>-0.212692</td>\n",
       "      <td>-0.849355</td>\n",
       "      <td>-0.045691</td>\n",
       "      <td>0.237542</td>\n",
       "      <td>0.077856</td>\n",
       "      <td>-0.460720</td>\n",
       "      <td>-0.174678</td>\n",
       "      <td>-0.167689</td>\n",
       "      <td>...</td>\n",
       "      <td>0.610843</td>\n",
       "      <td>-0.635887</td>\n",
       "      <td>-0.120252</td>\n",
       "      <td>-0.487665</td>\n",
       "      <td>0.005906</td>\n",
       "      <td>-1.024395</td>\n",
       "      <td>-0.883845</td>\n",
       "      <td>0.030568</td>\n",
       "      <td>N</td>\n",
       "      <td>N</td>\n",
       "    </tr>\n",
       "    <tr>\n",
       "      <th>394</th>\n",
       "      <td>2.645334</td>\n",
       "      <td>1.624989</td>\n",
       "      <td>2.031523</td>\n",
       "      <td>0.970473</td>\n",
       "      <td>1.941559</td>\n",
       "      <td>1.251314</td>\n",
       "      <td>2.291721</td>\n",
       "      <td>-0.413236</td>\n",
       "      <td>1.890301</td>\n",
       "      <td>1.904606</td>\n",
       "      <td>...</td>\n",
       "      <td>1.876033</td>\n",
       "      <td>1.493850</td>\n",
       "      <td>1.901272</td>\n",
       "      <td>-0.423253</td>\n",
       "      <td>1.791298</td>\n",
       "      <td>1.131454</td>\n",
       "      <td>1.115905</td>\n",
       "      <td>2.066426</td>\n",
       "      <td>Y</td>\n",
       "      <td>N</td>\n",
       "    </tr>\n",
       "    <tr>\n",
       "      <th>395</th>\n",
       "      <td>0.513835</td>\n",
       "      <td>0.193634</td>\n",
       "      <td>0.228136</td>\n",
       "      <td>1.516421</td>\n",
       "      <td>-0.259806</td>\n",
       "      <td>-0.257555</td>\n",
       "      <td>-0.007292</td>\n",
       "      <td>1.802720</td>\n",
       "      <td>0.230246</td>\n",
       "      <td>0.187355</td>\n",
       "      <td>...</td>\n",
       "      <td>0.212730</td>\n",
       "      <td>0.471163</td>\n",
       "      <td>0.222433</td>\n",
       "      <td>2.201525</td>\n",
       "      <td>0.096360</td>\n",
       "      <td>-0.613765</td>\n",
       "      <td>1.533197</td>\n",
       "      <td>-0.181216</td>\n",
       "      <td>N</td>\n",
       "      <td>N</td>\n",
       "    </tr>\n",
       "    <tr>\n",
       "      <th>396</th>\n",
       "      <td>0.040168</td>\n",
       "      <td>-0.021839</td>\n",
       "      <td>0.228136</td>\n",
       "      <td>-0.413699</td>\n",
       "      <td>0.195187</td>\n",
       "      <td>-0.186827</td>\n",
       "      <td>0.333302</td>\n",
       "      <td>-0.460720</td>\n",
       "      <td>0.007436</td>\n",
       "      <td>0.082808</td>\n",
       "      <td>...</td>\n",
       "      <td>0.219478</td>\n",
       "      <td>0.188805</td>\n",
       "      <td>0.031728</td>\n",
       "      <td>-0.560128</td>\n",
       "      <td>0.033904</td>\n",
       "      <td>0.283614</td>\n",
       "      <td>-0.450295</td>\n",
       "      <td>0.283342</td>\n",
       "      <td>N</td>\n",
       "      <td>N</td>\n",
       "    </tr>\n",
       "  </tbody>\n",
       "</table>\n",
       "<p>397 rows × 22 columns</p>\n",
       "</div>"
      ],
      "text/plain": [
       "            0         1         2         3         4         5         6  \\\n",
       "0    0.987501  2.779308  1.410357  0.909812  2.336333  1.817139  3.739248   \n",
       "1    0.750668  0.255197  0.268212  2.509055 -0.969060 -0.599408 -0.773630   \n",
       "2    0.513835  1.609598  0.789190  0.286659  1.145321  1.593167  1.780829   \n",
       "3   -1.143998 -1.053031 -1.054272 -1.533169 -0.674653 -0.516892 -0.092441   \n",
       "4   -1.143998  0.870834  0.689002 -0.182085  0.569888  1.498862  1.525383   \n",
       "..        ...       ...       ...       ...       ...       ...       ...   \n",
       "392 -0.670331 -1.083813 -1.414950 -0.579138 -1.136337 -0.670137 -0.773630   \n",
       "393 -1.143998 -0.191139 -0.212692 -0.849355 -0.045691  0.237542  0.077856   \n",
       "394  2.645334  1.624989  2.031523  0.970473  1.941559  1.251314  2.291721   \n",
       "395  0.513835  0.193634  0.228136  1.516421 -0.259806 -0.257555 -0.007292   \n",
       "396  0.040168 -0.021839  0.228136 -0.413699  0.195187 -0.186827  0.333302   \n",
       "\n",
       "            7         8         9  ...        12        13        14  \\\n",
       "0   -0.429064  2.500401  1.941870  ...  2.712745  2.380524  2.381079   \n",
       "1    2.562476 -0.117365 -0.130425  ... -0.489028  0.082060 -0.157516   \n",
       "2   -0.286610  1.314453  1.296995  ...  0.782909  0.534866  1.283611   \n",
       "3   -0.460720 -1.042180 -1.129309  ... -0.883767 -0.833882 -1.061113   \n",
       "4   -0.223297  0.896303  0.672822  ...  0.641208  0.452225  0.806970   \n",
       "..        ...       ...       ...  ...       ...       ...       ...   \n",
       "392 -0.302438 -1.149685 -1.150011  ... -1.170543 -1.155839 -1.166817   \n",
       "393 -0.460720 -0.174678 -0.167689  ...  0.610843 -0.635887 -0.120252   \n",
       "394 -0.413236  1.890301  1.904606  ...  1.876033  1.493850  1.901272   \n",
       "395  1.802720  0.230246  0.187355  ...  0.212730  0.471163  0.222433   \n",
       "396 -0.460720  0.007436  0.082808  ...  0.219478  0.188805  0.031728   \n",
       "\n",
       "           15        16        17        18        19  predicted  actual  \n",
       "0   -0.737260  1.455326  0.625373  0.937065  2.489993          Y       Y  \n",
       "1    3.763509 -0.276225 -0.819166  2.438233 -0.905380          N       N  \n",
       "2   -0.334687  0.957828  1.532936  0.302998  1.253449          Y       N  \n",
       "3   -0.688951 -1.066622 -1.221683 -1.528751 -0.604784          N       N  \n",
       "4   -0.197812  0.410796 -0.398353  0.102481  0.665919          N       N  \n",
       "..        ...       ...       ...       ...       ...        ...     ...  \n",
       "392 -0.173657 -1.197996 -1.184573 -0.623715 -1.076174          N       N  \n",
       "393 -0.487665  0.005906 -1.024395 -0.883845  0.030568          N       N  \n",
       "394 -0.423253  1.791298  1.131454  1.115905  2.066426          Y       N  \n",
       "395  2.201525  0.096360 -0.613765  1.533197 -0.181216          N       N  \n",
       "396 -0.560128  0.033904  0.283614 -0.450295  0.283342          N       N  \n",
       "\n",
       "[397 rows x 22 columns]"
      ]
     },
     "execution_count": 91,
     "metadata": {},
     "output_type": "execute_result"
    }
   ],
   "source": [
    "predictions_df"
   ]
  },
  {
   "cell_type": "code",
   "execution_count": 93,
   "metadata": {},
   "outputs": [
    {
     "ename": "ImportError",
     "evalue": "cannot import name 'XGFClassimport' from 'sklearn' (c:\\Users\\nealb\\anaconda3\\envs\\mlenv\\lib\\site-packages\\sklearn\\__init__.py)",
     "output_type": "error",
     "traceback": [
      "\u001b[1;31m---------------------------------------------------------------------------\u001b[0m",
      "\u001b[1;31mImportError\u001b[0m                               Traceback (most recent call last)",
      "\u001b[1;32m~\\AppData\\Local\\Temp/ipykernel_34728/2327355782.py\u001b[0m in \u001b[0;36m<module>\u001b[1;34m\u001b[0m\n\u001b[1;32m----> 1\u001b[1;33m \u001b[1;32mfrom\u001b[0m \u001b[0msklearn\u001b[0m \u001b[1;32mimport\u001b[0m \u001b[0mXGFClassimport\u001b[0m\u001b[1;33m\u001b[0m\u001b[1;33m\u001b[0m\u001b[0m\n\u001b[0m",
      "\u001b[1;31mImportError\u001b[0m: cannot import name 'XGFClassimport' from 'sklearn' (c:\\Users\\nealb\\anaconda3\\envs\\mlenv\\lib\\site-packages\\sklearn\\__init__.py)"
     ]
    }
   ],
   "source": []
  },
  {
   "cell_type": "code",
   "execution_count": null,
   "metadata": {},
   "outputs": [],
   "source": []
  }
 ],
 "metadata": {
  "interpreter": {
   "hash": "93bd853f96cb809137bd5d63c1afc0b90ba524c51c69796064c9bdd19cca3416"
  },
  "kernelspec": {
   "display_name": "Python 3.7.11 ('mlenv')",
   "language": "python",
   "name": "python3"
  },
  "language_info": {
   "codemirror_mode": {
    "name": "ipython",
    "version": 3
   },
   "file_extension": ".py",
   "mimetype": "text/x-python",
   "name": "python",
   "nbconvert_exporter": "python",
   "pygments_lexer": "ipython3",
   "version": "3.7.11"
  },
  "orig_nbformat": 4
 },
 "nbformat": 4,
 "nbformat_minor": 2
}
