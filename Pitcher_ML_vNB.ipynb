{
 "cells": [
  {
   "cell_type": "code",
   "execution_count": 337,
   "metadata": {},
   "outputs": [],
   "source": [
    "import warnings\n",
    "warnings.filterwarnings('ignore')"
   ]
  },
  {
   "cell_type": "code",
   "execution_count": 338,
   "metadata": {},
   "outputs": [],
   "source": [
    "from imblearn.ensemble import BalancedRandomForestClassifier\n",
    "import pandas as pd\n",
    "import numpy as np\n",
    "import matplotlib.pyplot as plt"
   ]
  },
  {
   "cell_type": "code",
   "execution_count": 339,
   "metadata": {},
   "outputs": [],
   "source": [
    "from sklearn.metrics import balanced_accuracy_score\n",
    "from sklearn.metrics import confusion_matrix\n",
    "from imblearn.metrics import classification_report_imbalanced"
   ]
  },
  {
   "cell_type": "code",
   "execution_count": 340,
   "metadata": {},
   "outputs": [],
   "source": [
    "pitchers_df = pd.read_csv('Combined CSV\\Pitchers_Complete.csv')\n"
   ]
  },
  {
   "cell_type": "code",
   "execution_count": 341,
   "metadata": {},
   "outputs": [
    {
     "data": {
      "text/plain": [
       "(9427, 34)"
      ]
     },
     "execution_count": 341,
     "metadata": {},
     "output_type": "execute_result"
    }
   ],
   "source": [
    "pitchers_df.shape"
   ]
  },
  {
   "cell_type": "code",
   "execution_count": 342,
   "metadata": {},
   "outputs": [
    {
     "data": {
      "text/plain": [
       "Index(['playerID', 'nameFirst', 'nameLast', 'weight', 'height', 'bats_L',\n",
       "       'bats_R', 'throws_L', 'throws_R', 'Seasons', 'Wins', 'Losses', 'Games',\n",
       "       'Pitch_Starts', 'Complete_Games', 'Shutouts', 'Saves', 'Outs_Pitched',\n",
       "       'Hits', 'Earned_Runs', 'Home_Runs', 'Walks', 'Strikeouts',\n",
       "       'Batters_Faced', 'Games_Finished', 'Runs_Allowed', 'finalGame',\n",
       "       'Retired_Years', 'inducted', 'yearID', 'Total_Games', 'Games_Started',\n",
       "       'Primary_Position', 'Hall_Eligible'],\n",
       "      dtype='object')"
      ]
     },
     "execution_count": 342,
     "metadata": {},
     "output_type": "execute_result"
    }
   ],
   "source": [
    "pitchers_df.columns"
   ]
  },
  {
   "cell_type": "code",
   "execution_count": 343,
   "metadata": {},
   "outputs": [
    {
     "data": {
      "text/html": [
       "<div>\n",
       "<style scoped>\n",
       "    .dataframe tbody tr th:only-of-type {\n",
       "        vertical-align: middle;\n",
       "    }\n",
       "\n",
       "    .dataframe tbody tr th {\n",
       "        vertical-align: top;\n",
       "    }\n",
       "\n",
       "    .dataframe thead th {\n",
       "        text-align: right;\n",
       "    }\n",
       "</style>\n",
       "<table border=\"1\" class=\"dataframe\">\n",
       "  <thead>\n",
       "    <tr style=\"text-align: right;\">\n",
       "      <th></th>\n",
       "      <th>playerID</th>\n",
       "      <th>nameFirst</th>\n",
       "      <th>nameLast</th>\n",
       "      <th>weight</th>\n",
       "      <th>height</th>\n",
       "      <th>bats_L</th>\n",
       "      <th>bats_R</th>\n",
       "      <th>throws_L</th>\n",
       "      <th>throws_R</th>\n",
       "      <th>Seasons</th>\n",
       "      <th>...</th>\n",
       "      <th>Games_Finished</th>\n",
       "      <th>Runs_Allowed</th>\n",
       "      <th>finalGame</th>\n",
       "      <th>Retired_Years</th>\n",
       "      <th>inducted</th>\n",
       "      <th>yearID</th>\n",
       "      <th>Total_Games</th>\n",
       "      <th>Games_Started</th>\n",
       "      <th>Primary_Position</th>\n",
       "      <th>Hall_Eligible</th>\n",
       "    </tr>\n",
       "  </thead>\n",
       "  <tbody>\n",
       "    <tr>\n",
       "      <th>0</th>\n",
       "      <td>aardsda01</td>\n",
       "      <td>David</td>\n",
       "      <td>Aardsma</td>\n",
       "      <td>215.0</td>\n",
       "      <td>75.0</td>\n",
       "      <td>0</td>\n",
       "      <td>1</td>\n",
       "      <td>0</td>\n",
       "      <td>1</td>\n",
       "      <td>9</td>\n",
       "      <td>...</td>\n",
       "      <td>141</td>\n",
       "      <td>169</td>\n",
       "      <td>2015-08-23</td>\n",
       "      <td>6.720548</td>\n",
       "      <td>0</td>\n",
       "      <td>0.0</td>\n",
       "      <td>331</td>\n",
       "      <td>0.0</td>\n",
       "      <td>Pitcher</td>\n",
       "      <td>0</td>\n",
       "    </tr>\n",
       "    <tr>\n",
       "      <th>1</th>\n",
       "      <td>aasedo01</td>\n",
       "      <td>Don</td>\n",
       "      <td>Aase</td>\n",
       "      <td>190.0</td>\n",
       "      <td>75.0</td>\n",
       "      <td>0</td>\n",
       "      <td>1</td>\n",
       "      <td>0</td>\n",
       "      <td>1</td>\n",
       "      <td>13</td>\n",
       "      <td>...</td>\n",
       "      <td>235</td>\n",
       "      <td>503</td>\n",
       "      <td>1990-10-03</td>\n",
       "      <td>31.624658</td>\n",
       "      <td>0</td>\n",
       "      <td>0.0</td>\n",
       "      <td>448</td>\n",
       "      <td>91.0</td>\n",
       "      <td>Pitcher</td>\n",
       "      <td>1</td>\n",
       "    </tr>\n",
       "    <tr>\n",
       "      <th>2</th>\n",
       "      <td>abadfe01</td>\n",
       "      <td>Fernando</td>\n",
       "      <td>Abad</td>\n",
       "      <td>235.0</td>\n",
       "      <td>74.0</td>\n",
       "      <td>1</td>\n",
       "      <td>0</td>\n",
       "      <td>1</td>\n",
       "      <td>0</td>\n",
       "      <td>12</td>\n",
       "      <td>...</td>\n",
       "      <td>101</td>\n",
       "      <td>155</td>\n",
       "      <td>2021-10-01</td>\n",
       "      <td>0.608219</td>\n",
       "      <td>0</td>\n",
       "      <td>0.0</td>\n",
       "      <td>400</td>\n",
       "      <td>6.0</td>\n",
       "      <td>Pitcher</td>\n",
       "      <td>0</td>\n",
       "    </tr>\n",
       "    <tr>\n",
       "      <th>3</th>\n",
       "      <td>abbeybe01</td>\n",
       "      <td>Bert</td>\n",
       "      <td>Abbey</td>\n",
       "      <td>175.0</td>\n",
       "      <td>71.0</td>\n",
       "      <td>0</td>\n",
       "      <td>1</td>\n",
       "      <td>0</td>\n",
       "      <td>1</td>\n",
       "      <td>7</td>\n",
       "      <td>...</td>\n",
       "      <td>14</td>\n",
       "      <td>442</td>\n",
       "      <td>1896-09-23</td>\n",
       "      <td>125.712329</td>\n",
       "      <td>0</td>\n",
       "      <td>0.0</td>\n",
       "      <td>79</td>\n",
       "      <td>0.0</td>\n",
       "      <td>Pitcher</td>\n",
       "      <td>0</td>\n",
       "    </tr>\n",
       "    <tr>\n",
       "      <th>4</th>\n",
       "      <td>abbotco01</td>\n",
       "      <td>Cory</td>\n",
       "      <td>Abbott</td>\n",
       "      <td>210.0</td>\n",
       "      <td>73.0</td>\n",
       "      <td>0</td>\n",
       "      <td>1</td>\n",
       "      <td>0</td>\n",
       "      <td>1</td>\n",
       "      <td>1</td>\n",
       "      <td>...</td>\n",
       "      <td>2</td>\n",
       "      <td>15</td>\n",
       "      <td>2021-10-02</td>\n",
       "      <td>0.605479</td>\n",
       "      <td>0</td>\n",
       "      <td>0.0</td>\n",
       "      <td>8</td>\n",
       "      <td>1.0</td>\n",
       "      <td>Pitcher</td>\n",
       "      <td>0</td>\n",
       "    </tr>\n",
       "  </tbody>\n",
       "</table>\n",
       "<p>5 rows × 34 columns</p>\n",
       "</div>"
      ],
      "text/plain": [
       "    playerID nameFirst nameLast  weight  height  bats_L  bats_R  throws_L  \\\n",
       "0  aardsda01     David  Aardsma   215.0    75.0       0       1         0   \n",
       "1   aasedo01       Don     Aase   190.0    75.0       0       1         0   \n",
       "2   abadfe01  Fernando     Abad   235.0    74.0       1       0         1   \n",
       "3  abbeybe01      Bert    Abbey   175.0    71.0       0       1         0   \n",
       "4  abbotco01      Cory   Abbott   210.0    73.0       0       1         0   \n",
       "\n",
       "   throws_R  Seasons  ...  Games_Finished  Runs_Allowed   finalGame  \\\n",
       "0         1        9  ...             141           169  2015-08-23   \n",
       "1         1       13  ...             235           503  1990-10-03   \n",
       "2         0       12  ...             101           155  2021-10-01   \n",
       "3         1        7  ...              14           442  1896-09-23   \n",
       "4         1        1  ...               2            15  2021-10-02   \n",
       "\n",
       "   Retired_Years  inducted  yearID  Total_Games  Games_Started  \\\n",
       "0       6.720548         0     0.0          331            0.0   \n",
       "1      31.624658         0     0.0          448           91.0   \n",
       "2       0.608219         0     0.0          400            6.0   \n",
       "3     125.712329         0     0.0           79            0.0   \n",
       "4       0.605479         0     0.0            8            1.0   \n",
       "\n",
       "   Primary_Position  Hall_Eligible  \n",
       "0           Pitcher              0  \n",
       "1           Pitcher              1  \n",
       "2           Pitcher              0  \n",
       "3           Pitcher              0  \n",
       "4           Pitcher              0  \n",
       "\n",
       "[5 rows x 34 columns]"
      ]
     },
     "execution_count": 343,
     "metadata": {},
     "output_type": "execute_result"
    }
   ],
   "source": [
    "pitchers_df.head()"
   ]
  },
  {
   "cell_type": "code",
   "execution_count": 344,
   "metadata": {},
   "outputs": [
    {
     "data": {
      "text/html": [
       "<div>\n",
       "<style scoped>\n",
       "    .dataframe tbody tr th:only-of-type {\n",
       "        vertical-align: middle;\n",
       "    }\n",
       "\n",
       "    .dataframe tbody tr th {\n",
       "        vertical-align: top;\n",
       "    }\n",
       "\n",
       "    .dataframe thead th {\n",
       "        text-align: right;\n",
       "    }\n",
       "</style>\n",
       "<table border=\"1\" class=\"dataframe\">\n",
       "  <thead>\n",
       "    <tr style=\"text-align: right;\">\n",
       "      <th></th>\n",
       "      <th>playerID</th>\n",
       "      <th>nameFirst</th>\n",
       "      <th>nameLast</th>\n",
       "      <th>weight</th>\n",
       "      <th>height</th>\n",
       "      <th>bats_L</th>\n",
       "      <th>bats_R</th>\n",
       "      <th>throws_L</th>\n",
       "      <th>throws_R</th>\n",
       "      <th>Seasons</th>\n",
       "      <th>...</th>\n",
       "      <th>Games_Finished</th>\n",
       "      <th>Runs_Allowed</th>\n",
       "      <th>finalGame</th>\n",
       "      <th>Retired_Years</th>\n",
       "      <th>inducted</th>\n",
       "      <th>yearID</th>\n",
       "      <th>Total_Games</th>\n",
       "      <th>Games_Started</th>\n",
       "      <th>Primary_Position</th>\n",
       "      <th>Hall_Eligible</th>\n",
       "    </tr>\n",
       "  </thead>\n",
       "  <tbody>\n",
       "    <tr>\n",
       "      <th>1</th>\n",
       "      <td>aasedo01</td>\n",
       "      <td>Don</td>\n",
       "      <td>Aase</td>\n",
       "      <td>190.0</td>\n",
       "      <td>75.0</td>\n",
       "      <td>0</td>\n",
       "      <td>1</td>\n",
       "      <td>0</td>\n",
       "      <td>1</td>\n",
       "      <td>13</td>\n",
       "      <td>...</td>\n",
       "      <td>235</td>\n",
       "      <td>503</td>\n",
       "      <td>1990-10-03</td>\n",
       "      <td>31.624658</td>\n",
       "      <td>0</td>\n",
       "      <td>0.0</td>\n",
       "      <td>448</td>\n",
       "      <td>91.0</td>\n",
       "      <td>Pitcher</td>\n",
       "      <td>1</td>\n",
       "    </tr>\n",
       "    <tr>\n",
       "      <th>6</th>\n",
       "      <td>abbotgl01</td>\n",
       "      <td>Glenn</td>\n",
       "      <td>Abbott</td>\n",
       "      <td>200.0</td>\n",
       "      <td>78.0</td>\n",
       "      <td>0</td>\n",
       "      <td>1</td>\n",
       "      <td>0</td>\n",
       "      <td>1</td>\n",
       "      <td>13</td>\n",
       "      <td>...</td>\n",
       "      <td>13</td>\n",
       "      <td>707</td>\n",
       "      <td>1984-08-08</td>\n",
       "      <td>37.780822</td>\n",
       "      <td>0</td>\n",
       "      <td>0.0</td>\n",
       "      <td>248</td>\n",
       "      <td>204.0</td>\n",
       "      <td>Pitcher</td>\n",
       "      <td>1</td>\n",
       "    </tr>\n",
       "    <tr>\n",
       "      <th>7</th>\n",
       "      <td>abbotji01</td>\n",
       "      <td>Jim</td>\n",
       "      <td>Abbott</td>\n",
       "      <td>200.0</td>\n",
       "      <td>75.0</td>\n",
       "      <td>1</td>\n",
       "      <td>0</td>\n",
       "      <td>1</td>\n",
       "      <td>0</td>\n",
       "      <td>12</td>\n",
       "      <td>...</td>\n",
       "      <td>5</td>\n",
       "      <td>880</td>\n",
       "      <td>1999-07-21</td>\n",
       "      <td>22.821918</td>\n",
       "      <td>0</td>\n",
       "      <td>0.0</td>\n",
       "      <td>263</td>\n",
       "      <td>254.0</td>\n",
       "      <td>Pitcher</td>\n",
       "      <td>1</td>\n",
       "    </tr>\n",
       "    <tr>\n",
       "      <th>9</th>\n",
       "      <td>abbotpa01</td>\n",
       "      <td>Paul</td>\n",
       "      <td>Abbott</td>\n",
       "      <td>185.0</td>\n",
       "      <td>75.0</td>\n",
       "      <td>0</td>\n",
       "      <td>1</td>\n",
       "      <td>0</td>\n",
       "      <td>1</td>\n",
       "      <td>13</td>\n",
       "      <td>...</td>\n",
       "      <td>17</td>\n",
       "      <td>421</td>\n",
       "      <td>2004-08-07</td>\n",
       "      <td>17.769863</td>\n",
       "      <td>0</td>\n",
       "      <td>0.0</td>\n",
       "      <td>162</td>\n",
       "      <td>112.0</td>\n",
       "      <td>Pitcher</td>\n",
       "      <td>1</td>\n",
       "    </tr>\n",
       "    <tr>\n",
       "      <th>10</th>\n",
       "      <td>aberal01</td>\n",
       "      <td>Al</td>\n",
       "      <td>Aber</td>\n",
       "      <td>195.0</td>\n",
       "      <td>74.0</td>\n",
       "      <td>1</td>\n",
       "      <td>0</td>\n",
       "      <td>1</td>\n",
       "      <td>0</td>\n",
       "      <td>10</td>\n",
       "      <td>...</td>\n",
       "      <td>76</td>\n",
       "      <td>205</td>\n",
       "      <td>1957-09-11</td>\n",
       "      <td>64.706849</td>\n",
       "      <td>0</td>\n",
       "      <td>0.0</td>\n",
       "      <td>168</td>\n",
       "      <td>30.0</td>\n",
       "      <td>Pitcher</td>\n",
       "      <td>1</td>\n",
       "    </tr>\n",
       "  </tbody>\n",
       "</table>\n",
       "<p>5 rows × 34 columns</p>\n",
       "</div>"
      ],
      "text/plain": [
       "     playerID nameFirst nameLast  weight  height  bats_L  bats_R  throws_L  \\\n",
       "1    aasedo01       Don     Aase   190.0    75.0       0       1         0   \n",
       "6   abbotgl01     Glenn   Abbott   200.0    78.0       0       1         0   \n",
       "7   abbotji01       Jim   Abbott   200.0    75.0       1       0         1   \n",
       "9   abbotpa01      Paul   Abbott   185.0    75.0       0       1         0   \n",
       "10   aberal01        Al     Aber   195.0    74.0       1       0         1   \n",
       "\n",
       "    throws_R  Seasons  ...  Games_Finished  Runs_Allowed   finalGame  \\\n",
       "1          1       13  ...             235           503  1990-10-03   \n",
       "6          1       13  ...              13           707  1984-08-08   \n",
       "7          0       12  ...               5           880  1999-07-21   \n",
       "9          1       13  ...              17           421  2004-08-07   \n",
       "10         0       10  ...              76           205  1957-09-11   \n",
       "\n",
       "    Retired_Years  inducted  yearID  Total_Games  Games_Started  \\\n",
       "1       31.624658         0     0.0          448           91.0   \n",
       "6       37.780822         0     0.0          248          204.0   \n",
       "7       22.821918         0     0.0          263          254.0   \n",
       "9       17.769863         0     0.0          162          112.0   \n",
       "10      64.706849         0     0.0          168           30.0   \n",
       "\n",
       "    Primary_Position  Hall_Eligible  \n",
       "1            Pitcher              1  \n",
       "6            Pitcher              1  \n",
       "7            Pitcher              1  \n",
       "9            Pitcher              1  \n",
       "10           Pitcher              1  \n",
       "\n",
       "[5 rows x 34 columns]"
      ]
     },
     "execution_count": 344,
     "metadata": {},
     "output_type": "execute_result"
    }
   ],
   "source": [
    "pitchers_train_model = pitchers_df[pitchers_df['Hall_Eligible']==1]\n",
    "pitchers_train_model.head()"
   ]
  },
  {
   "cell_type": "code",
   "execution_count": 345,
   "metadata": {},
   "outputs": [
    {
     "name": "stdout",
     "output_type": "stream",
     "text": [
      "22.014492753623188\n"
     ]
    }
   ],
   "source": [
    "scale_pos_weight = (pitchers_train_model.inducted.value_counts()[0])/pitchers_train_model.inducted.value_counts()[1]\n",
    "print(scale_pos_weight)"
   ]
  },
  {
   "cell_type": "code",
   "execution_count": 346,
   "metadata": {},
   "outputs": [],
   "source": [
    "# Getting data ready for machine learning\n",
    "data = pitchers_train_model.drop(['inducted', \n",
    "                                  'playerID', \n",
    "                                  'nameFirst', \n",
    "                                  'nameLast', \n",
    "                                  'finalGame',\n",
    "                                  'yearID',\n",
    "                                  'Primary_Position',\n",
    "                                  'Hall_Eligible'], axis=1)\n",
    "data.fillna(0, inplace=True)\n",
    "data['Batters_Faced']=pd.to_numeric(data['Batters_Faced'])\n",
    "target = pitchers_train_model['inducted']\n",
    "target.fillna(0, inplace=True)\n",
    "feature_names = data.columns"
   ]
  },
  {
   "cell_type": "code",
   "execution_count": 347,
   "metadata": {},
   "outputs": [],
   "source": [
    "from sklearn.model_selection import train_test_split\n",
    "from sklearn.preprocessing import StandardScaler\n",
    "\n",
    "X_train, X_test, y_train, y_test = train_test_split(data, target, random_state=42)\n",
    "X_scaler = StandardScaler().fit(X_train)\n",
    "X_train_scaled = X_scaler.transform(X_train)\n",
    "X_test_scaled = X_scaler.transform(X_test)"
   ]
  },
  {
   "cell_type": "code",
   "execution_count": 348,
   "metadata": {},
   "outputs": [
    {
     "data": {
      "text/plain": [
       "397"
      ]
     },
     "execution_count": 348,
     "metadata": {},
     "output_type": "execute_result"
    }
   ],
   "source": [
    "len(X_test_scaled)"
   ]
  },
  {
   "cell_type": "code",
   "execution_count": 349,
   "metadata": {},
   "outputs": [
    {
     "data": {
      "text/plain": [
       "0.9219143576826196"
      ]
     },
     "execution_count": 349,
     "metadata": {},
     "output_type": "execute_result"
    }
   ],
   "source": [
    "#CLF = Classifier\n",
    "clf = BalancedRandomForestClassifier(n_estimators=100, random_state=1)\n",
    "clf = clf.fit(X_train_scaled, y_train)\n",
    "clf.score(X_test_scaled, y_test)"
   ]
  },
  {
   "cell_type": "code",
   "execution_count": 350,
   "metadata": {},
   "outputs": [
    {
     "name": "stdout",
     "output_type": "stream",
     "text": [
      "[[350  31]\n",
      " [  0  16]]\n"
     ]
    }
   ],
   "source": [
    "y_predicted = clf.predict(X_test_scaled)\n",
    "from sklearn.metrics import confusion_matrix, classification_report\n",
    "from imblearn.metrics import classification_report_imbalanced\n",
    "print(confusion_matrix(y_test, y_predicted))\n",
    "\n",
    "predictions_df = pd.concat([pd.DataFrame(X_test_scaled),              \n",
    "                            pd.DataFrame(dict(predicted= y_predicted,actual=y_test\n",
    "                            )).reset_index(drop=True)], axis=1)"
   ]
  },
  {
   "cell_type": "code",
   "execution_count": 351,
   "metadata": {},
   "outputs": [
    {
     "name": "stdout",
     "output_type": "stream",
     "text": [
      "                   pre       rec       spe        f1       geo       iba       sup\n",
      "\n",
      "          0       1.00      0.92      1.00      0.96      0.96      0.91       381\n",
      "          1       0.34      1.00      0.92      0.51      0.96      0.93        16\n",
      "\n",
      "avg / total       0.97      0.92      1.00      0.94      0.96      0.91       397\n",
      "\n"
     ]
    }
   ],
   "source": [
    "# Print the imbalanced classification report\n",
    "print(classification_report_imbalanced(y_test, y_predicted))"
   ]
  },
  {
   "cell_type": "code",
   "execution_count": 352,
   "metadata": {},
   "outputs": [
    {
     "data": {
      "text/plain": [
       "0.9593175853018372"
      ]
     },
     "execution_count": 352,
     "metadata": {},
     "output_type": "execute_result"
    }
   ],
   "source": [
    "# Calculated the balanced accuracy score\n",
    "balanced_accuracy_score(y_test, y_predicted) "
   ]
  },
  {
   "cell_type": "code",
   "execution_count": 353,
   "metadata": {},
   "outputs": [
    {
     "data": {
      "text/plain": [
       "[(0.1586112672389697, 'Wins'),\n",
       " (0.1365229854734174, 'Outs_Pitched'),\n",
       " (0.10715460250161965, 'Shutouts'),\n",
       " (0.10489289409961249, 'Strikeouts'),\n",
       " (0.06764524310560809, 'Batters_Faced'),\n",
       " (0.052056718413331315, 'Complete_Games'),\n",
       " (0.05161646969595953, 'Pitch_Starts'),\n",
       " (0.04424683075999263, 'Hits'),\n",
       " (0.04042479652192527, 'Runs_Allowed'),\n",
       " (0.038932207965740095, 'Walks'),\n",
       " (0.033800190863598985, 'Games'),\n",
       " (0.03249699219842107, 'Saves'),\n",
       " (0.02271652468224265, 'Losses'),\n",
       " (0.022187582229952818, 'Total_Games'),\n",
       " (0.020098856798359245, 'Games_Finished'),\n",
       " (0.012149858608534356, 'Games_Started'),\n",
       " (0.011251825472080932, 'Retired_Years'),\n",
       " (0.010121353657768043, 'Earned_Runs'),\n",
       " (0.009412998463399557, 'weight'),\n",
       " (0.0063490938225452005, 'Home_Runs'),\n",
       " (0.006227130680824808, 'Seasons'),\n",
       " (0.004449250515509851, 'height'),\n",
       " (0.0027141570712988197, 'bats_L'),\n",
       " (0.002372503913122167, 'throws_L'),\n",
       " (0.0010085867075912511, 'throws_R'),\n",
       " (0.0005390785385742566, 'bats_R')]"
      ]
     },
     "execution_count": 353,
     "metadata": {},
     "output_type": "execute_result"
    }
   ],
   "source": [
    "# List the features sorted in descending order by feature importance\n",
    "sorted(zip(clf.feature_importances_, data.columns), reverse=True)"
   ]
  },
  {
   "cell_type": "code",
   "execution_count": 354,
   "metadata": {},
   "outputs": [
    {
     "data": {
      "text/plain": [
       "<BarContainer object of 26 artists>"
      ]
     },
     "execution_count": 354,
     "metadata": {},
     "output_type": "execute_result"
    },
    {
     "data": {
      "image/png": "[encoded data removed]",
      "text/plain": [
       "<Figure size 432x288 with 1 Axes>"
      ]
     },
     "metadata": {
      "needs_background": "light"
     },
     "output_type": "display_data"
    }
   ],
   "source": [
    "plt.barh(feature_names,clf.feature_importances_)"
   ]
  },
  {
   "cell_type": "code",
   "execution_count": 355,
   "metadata": {},
   "outputs": [
    {
     "data": {
      "text/html": [
       "<div>\n",
       "<style scoped>\n",
       "    .dataframe tbody tr th:only-of-type {\n",
       "        vertical-align: middle;\n",
       "    }\n",
       "\n",
       "    .dataframe tbody tr th {\n",
       "        vertical-align: top;\n",
       "    }\n",
       "\n",
       "    .dataframe thead th {\n",
       "        text-align: right;\n",
       "    }\n",
       "</style>\n",
       "<table border=\"1\" class=\"dataframe\">\n",
       "  <thead>\n",
       "    <tr style=\"text-align: right;\">\n",
       "      <th></th>\n",
       "      <th>0</th>\n",
       "      <th>1</th>\n",
       "      <th>2</th>\n",
       "      <th>3</th>\n",
       "      <th>4</th>\n",
       "      <th>5</th>\n",
       "      <th>6</th>\n",
       "      <th>7</th>\n",
       "      <th>8</th>\n",
       "      <th>9</th>\n",
       "      <th>...</th>\n",
       "      <th>18</th>\n",
       "      <th>19</th>\n",
       "      <th>20</th>\n",
       "      <th>21</th>\n",
       "      <th>22</th>\n",
       "      <th>23</th>\n",
       "      <th>24</th>\n",
       "      <th>25</th>\n",
       "      <th>predicted</th>\n",
       "      <th>actual</th>\n",
       "    </tr>\n",
       "  </thead>\n",
       "  <tbody>\n",
       "    <tr>\n",
       "      <th>0</th>\n",
       "      <td>-0.143402</td>\n",
       "      <td>0.644215</td>\n",
       "      <td>-0.572503</td>\n",
       "      <td>0.658189</td>\n",
       "      <td>-0.647725</td>\n",
       "      <td>0.650338</td>\n",
       "      <td>0.987501</td>\n",
       "      <td>2.779308</td>\n",
       "      <td>1.410357</td>\n",
       "      <td>0.909812</td>\n",
       "      <td>...</td>\n",
       "      <td>2.712745</td>\n",
       "      <td>2.380524</td>\n",
       "      <td>2.381079</td>\n",
       "      <td>-0.737260</td>\n",
       "      <td>1.455326</td>\n",
       "      <td>-0.244226</td>\n",
       "      <td>0.937065</td>\n",
       "      <td>2.489993</td>\n",
       "      <td>1</td>\n",
       "      <td>1</td>\n",
       "    </tr>\n",
       "    <tr>\n",
       "      <th>1</th>\n",
       "      <td>-1.882697</td>\n",
       "      <td>-2.399975</td>\n",
       "      <td>-0.572503</td>\n",
       "      <td>0.658189</td>\n",
       "      <td>-0.647725</td>\n",
       "      <td>0.650338</td>\n",
       "      <td>0.750668</td>\n",
       "      <td>0.255197</td>\n",
       "      <td>0.268212</td>\n",
       "      <td>2.509055</td>\n",
       "      <td>...</td>\n",
       "      <td>-0.489028</td>\n",
       "      <td>0.082060</td>\n",
       "      <td>-0.157516</td>\n",
       "      <td>3.763509</td>\n",
       "      <td>-0.276225</td>\n",
       "      <td>0.208753</td>\n",
       "      <td>2.438233</td>\n",
       "      <td>-0.905380</td>\n",
       "      <td>0</td>\n",
       "      <td>0</td>\n",
       "    </tr>\n",
       "    <tr>\n",
       "      <th>2</th>\n",
       "      <td>-0.391872</td>\n",
       "      <td>0.209330</td>\n",
       "      <td>-0.572503</td>\n",
       "      <td>0.658189</td>\n",
       "      <td>-0.647725</td>\n",
       "      <td>0.650338</td>\n",
       "      <td>0.513835</td>\n",
       "      <td>1.609598</td>\n",
       "      <td>0.789190</td>\n",
       "      <td>0.286659</td>\n",
       "      <td>...</td>\n",
       "      <td>0.782909</td>\n",
       "      <td>0.534866</td>\n",
       "      <td>1.283611</td>\n",
       "      <td>-0.334687</td>\n",
       "      <td>0.957828</td>\n",
       "      <td>0.942486</td>\n",
       "      <td>0.302998</td>\n",
       "      <td>1.253449</td>\n",
       "      <td>1</td>\n",
       "      <td>0</td>\n",
       "    </tr>\n",
       "    <tr>\n",
       "      <th>3</th>\n",
       "      <td>-1.137285</td>\n",
       "      <td>-1.095322</td>\n",
       "      <td>-0.572503</td>\n",
       "      <td>0.658189</td>\n",
       "      <td>-0.647725</td>\n",
       "      <td>0.650338</td>\n",
       "      <td>-1.143998</td>\n",
       "      <td>-1.053031</td>\n",
       "      <td>-1.054272</td>\n",
       "      <td>-1.533169</td>\n",
       "      <td>...</td>\n",
       "      <td>-0.883767</td>\n",
       "      <td>-0.833882</td>\n",
       "      <td>-1.061113</td>\n",
       "      <td>-0.688951</td>\n",
       "      <td>-1.066622</td>\n",
       "      <td>0.309209</td>\n",
       "      <td>-1.528751</td>\n",
       "      <td>-0.604784</td>\n",
       "      <td>0</td>\n",
       "      <td>0</td>\n",
       "    </tr>\n",
       "    <tr>\n",
       "      <th>4</th>\n",
       "      <td>0.105069</td>\n",
       "      <td>-0.660438</td>\n",
       "      <td>-0.572503</td>\n",
       "      <td>0.658189</td>\n",
       "      <td>-0.647725</td>\n",
       "      <td>0.650338</td>\n",
       "      <td>-1.143998</td>\n",
       "      <td>0.870834</td>\n",
       "      <td>0.689002</td>\n",
       "      <td>-0.182085</td>\n",
       "      <td>...</td>\n",
       "      <td>0.641208</td>\n",
       "      <td>0.452225</td>\n",
       "      <td>0.806970</td>\n",
       "      <td>-0.197812</td>\n",
       "      <td>0.410796</td>\n",
       "      <td>1.713491</td>\n",
       "      <td>0.102481</td>\n",
       "      <td>0.665919</td>\n",
       "      <td>0</td>\n",
       "      <td>0</td>\n",
       "    </tr>\n",
       "    <tr>\n",
       "      <th>...</th>\n",
       "      <td>...</td>\n",
       "      <td>...</td>\n",
       "      <td>...</td>\n",
       "      <td>...</td>\n",
       "      <td>...</td>\n",
       "      <td>...</td>\n",
       "      <td>...</td>\n",
       "      <td>...</td>\n",
       "      <td>...</td>\n",
       "      <td>...</td>\n",
       "      <td>...</td>\n",
       "      <td>...</td>\n",
       "      <td>...</td>\n",
       "      <td>...</td>\n",
       "      <td>...</td>\n",
       "      <td>...</td>\n",
       "      <td>...</td>\n",
       "      <td>...</td>\n",
       "      <td>...</td>\n",
       "      <td>...</td>\n",
       "      <td>...</td>\n",
       "    </tr>\n",
       "    <tr>\n",
       "      <th>392</th>\n",
       "      <td>-0.888814</td>\n",
       "      <td>-0.660438</td>\n",
       "      <td>-0.572503</td>\n",
       "      <td>0.658189</td>\n",
       "      <td>1.543866</td>\n",
       "      <td>-1.537663</td>\n",
       "      <td>-0.670331</td>\n",
       "      <td>-1.083813</td>\n",
       "      <td>-1.414950</td>\n",
       "      <td>-0.579138</td>\n",
       "      <td>...</td>\n",
       "      <td>-1.170543</td>\n",
       "      <td>-1.155839</td>\n",
       "      <td>-1.166817</td>\n",
       "      <td>-0.173657</td>\n",
       "      <td>-1.197996</td>\n",
       "      <td>-0.501676</td>\n",
       "      <td>-0.623715</td>\n",
       "      <td>-1.076174</td>\n",
       "      <td>0</td>\n",
       "      <td>0</td>\n",
       "    </tr>\n",
       "    <tr>\n",
       "      <th>393</th>\n",
       "      <td>-1.882697</td>\n",
       "      <td>-1.095322</td>\n",
       "      <td>-0.572503</td>\n",
       "      <td>0.658189</td>\n",
       "      <td>-0.647725</td>\n",
       "      <td>0.650338</td>\n",
       "      <td>-1.143998</td>\n",
       "      <td>-0.191139</td>\n",
       "      <td>-0.212692</td>\n",
       "      <td>-0.849355</td>\n",
       "      <td>...</td>\n",
       "      <td>0.610843</td>\n",
       "      <td>-0.635887</td>\n",
       "      <td>-0.120252</td>\n",
       "      <td>-0.487665</td>\n",
       "      <td>0.005906</td>\n",
       "      <td>1.527134</td>\n",
       "      <td>-0.883845</td>\n",
       "      <td>0.030568</td>\n",
       "      <td>0</td>\n",
       "      <td>0</td>\n",
       "    </tr>\n",
       "    <tr>\n",
       "      <th>394</th>\n",
       "      <td>-0.888814</td>\n",
       "      <td>-1.095322</td>\n",
       "      <td>1.746717</td>\n",
       "      <td>-1.519320</td>\n",
       "      <td>1.543866</td>\n",
       "      <td>-1.537663</td>\n",
       "      <td>2.645334</td>\n",
       "      <td>1.624989</td>\n",
       "      <td>2.031523</td>\n",
       "      <td>0.970473</td>\n",
       "      <td>...</td>\n",
       "      <td>1.876033</td>\n",
       "      <td>1.493850</td>\n",
       "      <td>1.901272</td>\n",
       "      <td>-0.423253</td>\n",
       "      <td>1.791298</td>\n",
       "      <td>0.266300</td>\n",
       "      <td>1.115905</td>\n",
       "      <td>2.066426</td>\n",
       "      <td>1</td>\n",
       "      <td>0</td>\n",
       "    </tr>\n",
       "    <tr>\n",
       "      <th>395</th>\n",
       "      <td>-0.143402</td>\n",
       "      <td>-1.095322</td>\n",
       "      <td>-0.572503</td>\n",
       "      <td>0.658189</td>\n",
       "      <td>-0.647725</td>\n",
       "      <td>0.650338</td>\n",
       "      <td>0.513835</td>\n",
       "      <td>0.193634</td>\n",
       "      <td>0.228136</td>\n",
       "      <td>1.516421</td>\n",
       "      <td>...</td>\n",
       "      <td>0.212730</td>\n",
       "      <td>0.471163</td>\n",
       "      <td>0.222433</td>\n",
       "      <td>2.201525</td>\n",
       "      <td>0.096360</td>\n",
       "      <td>-0.040705</td>\n",
       "      <td>1.533197</td>\n",
       "      <td>-0.181216</td>\n",
       "      <td>0</td>\n",
       "      <td>0</td>\n",
       "    </tr>\n",
       "    <tr>\n",
       "      <th>396</th>\n",
       "      <td>-0.391872</td>\n",
       "      <td>0.209330</td>\n",
       "      <td>1.746717</td>\n",
       "      <td>-1.519320</td>\n",
       "      <td>-0.647725</td>\n",
       "      <td>0.650338</td>\n",
       "      <td>0.040168</td>\n",
       "      <td>-0.021839</td>\n",
       "      <td>0.228136</td>\n",
       "      <td>-0.413699</td>\n",
       "      <td>...</td>\n",
       "      <td>0.219478</td>\n",
       "      <td>0.188805</td>\n",
       "      <td>0.031728</td>\n",
       "      <td>-0.560128</td>\n",
       "      <td>0.033904</td>\n",
       "      <td>-0.193661</td>\n",
       "      <td>-0.450295</td>\n",
       "      <td>0.283342</td>\n",
       "      <td>0</td>\n",
       "      <td>0</td>\n",
       "    </tr>\n",
       "  </tbody>\n",
       "</table>\n",
       "<p>397 rows × 28 columns</p>\n",
       "</div>"
      ],
      "text/plain": [
       "            0         1         2         3         4         5         6  \\\n",
       "0   -0.143402  0.644215 -0.572503  0.658189 -0.647725  0.650338  0.987501   \n",
       "1   -1.882697 -2.399975 -0.572503  0.658189 -0.647725  0.650338  0.750668   \n",
       "2   -0.391872  0.209330 -0.572503  0.658189 -0.647725  0.650338  0.513835   \n",
       "3   -1.137285 -1.095322 -0.572503  0.658189 -0.647725  0.650338 -1.143998   \n",
       "4    0.105069 -0.660438 -0.572503  0.658189 -0.647725  0.650338 -1.143998   \n",
       "..        ...       ...       ...       ...       ...       ...       ...   \n",
       "392 -0.888814 -0.660438 -0.572503  0.658189  1.543866 -1.537663 -0.670331   \n",
       "393 -1.882697 -1.095322 -0.572503  0.658189 -0.647725  0.650338 -1.143998   \n",
       "394 -0.888814 -1.095322  1.746717 -1.519320  1.543866 -1.537663  2.645334   \n",
       "395 -0.143402 -1.095322 -0.572503  0.658189 -0.647725  0.650338  0.513835   \n",
       "396 -0.391872  0.209330  1.746717 -1.519320 -0.647725  0.650338  0.040168   \n",
       "\n",
       "            7         8         9  ...        18        19        20  \\\n",
       "0    2.779308  1.410357  0.909812  ...  2.712745  2.380524  2.381079   \n",
       "1    0.255197  0.268212  2.509055  ... -0.489028  0.082060 -0.157516   \n",
       "2    1.609598  0.789190  0.286659  ...  0.782909  0.534866  1.283611   \n",
       "3   -1.053031 -1.054272 -1.533169  ... -0.883767 -0.833882 -1.061113   \n",
       "4    0.870834  0.689002 -0.182085  ...  0.641208  0.452225  0.806970   \n",
       "..        ...       ...       ...  ...       ...       ...       ...   \n",
       "392 -1.083813 -1.414950 -0.579138  ... -1.170543 -1.155839 -1.166817   \n",
       "393 -0.191139 -0.212692 -0.849355  ...  0.610843 -0.635887 -0.120252   \n",
       "394  1.624989  2.031523  0.970473  ...  1.876033  1.493850  1.901272   \n",
       "395  0.193634  0.228136  1.516421  ...  0.212730  0.471163  0.222433   \n",
       "396 -0.021839  0.228136 -0.413699  ...  0.219478  0.188805  0.031728   \n",
       "\n",
       "           21        22        23        24        25  predicted  actual  \n",
       "0   -0.737260  1.455326 -0.244226  0.937065  2.489993          1       1  \n",
       "1    3.763509 -0.276225  0.208753  2.438233 -0.905380          0       0  \n",
       "2   -0.334687  0.957828  0.942486  0.302998  1.253449          1       0  \n",
       "3   -0.688951 -1.066622  0.309209 -1.528751 -0.604784          0       0  \n",
       "4   -0.197812  0.410796  1.713491  0.102481  0.665919          0       0  \n",
       "..        ...       ...       ...       ...       ...        ...     ...  \n",
       "392 -0.173657 -1.197996 -0.501676 -0.623715 -1.076174          0       0  \n",
       "393 -0.487665  0.005906  1.527134 -0.883845  0.030568          0       0  \n",
       "394 -0.423253  1.791298  0.266300  1.115905  2.066426          1       0  \n",
       "395  2.201525  0.096360 -0.040705  1.533197 -0.181216          0       0  \n",
       "396 -0.560128  0.033904 -0.193661 -0.450295  0.283342          0       0  \n",
       "\n",
       "[397 rows x 28 columns]"
      ]
     },
     "execution_count": 355,
     "metadata": {},
     "output_type": "execute_result"
    }
   ],
   "source": [
    "predictions_df"
   ]
  },
  {
   "cell_type": "code",
   "execution_count": 356,
   "metadata": {},
   "outputs": [],
   "source": [
    "import os\n",
    "from xgboost import XGBClassifier\n",
    "from sklearn.metrics import accuracy_score"
   ]
  },
  {
   "cell_type": "code",
   "execution_count": 357,
   "metadata": {},
   "outputs": [],
   "source": [
    "# fit model to training data\n",
    "XGmodel = XGBClassifier(scale_pos_weight=1)\n",
    "XGmodel.fit(X_train_scaled, y_train)\n",
    "y_pred = XGmodel.predict(X_test_scaled)\n",
    "accuracy = accuracy_score(y_test, y_pred)"
   ]
  },
  {
   "cell_type": "code",
   "execution_count": 358,
   "metadata": {},
   "outputs": [
    {
     "name": "stdout",
     "output_type": "stream",
     "text": [
      "[[375   6]\n",
      " [  5  11]]\n",
      "1    11\n",
      "0     5\n",
      "Name: predicted, dtype: int64\n"
     ]
    }
   ],
   "source": [
    "from sklearn.metrics import confusion_matrix\n",
    "print(confusion_matrix(y_test, y_pred))\n",
    "predictions_df = pd.concat([pd.DataFrame(X_test_scaled),\n",
    "#                            .copy().assign(\n",
    "                           pd.DataFrame(dict(\n",
    "    predicted= y_pred,\n",
    "    actual=y_test\n",
    ")).reset_index(drop=True)\n",
    "                           ], axis=1)\n",
    "actual_inductees = predictions_df.loc[predictions_df.actual==1]\n",
    "predictions_for_actual_inductees = actual_inductees.predicted.value_counts()\n",
    "print(predictions_for_actual_inductees)\n"
   ]
  },
  {
   "cell_type": "code",
   "execution_count": 359,
   "metadata": {},
   "outputs": [
    {
     "data": {
      "text/plain": [
       "<BarContainer object of 26 artists>"
      ]
     },
     "execution_count": 359,
     "metadata": {},
     "output_type": "execute_result"
    },
    {
     "data": {
      "image/png": "[encoded data removed]",
      "text/plain": [
       "<Figure size 432x288 with 1 Axes>"
      ]
     },
     "metadata": {
      "needs_background": "light"
     },
     "output_type": "display_data"
    }
   ],
   "source": [
    "plt.barh(feature_names,XGmodel.feature_importances_)"
   ]
  },
  {
   "cell_type": "code",
   "execution_count": 360,
   "metadata": {},
   "outputs": [
    {
     "data": {
      "text/html": [
       "<div>\n",
       "<style scoped>\n",
       "    .dataframe tbody tr th:only-of-type {\n",
       "        vertical-align: middle;\n",
       "    }\n",
       "\n",
       "    .dataframe tbody tr th {\n",
       "        vertical-align: top;\n",
       "    }\n",
       "\n",
       "    .dataframe thead th {\n",
       "        text-align: right;\n",
       "    }\n",
       "</style>\n",
       "<table border=\"1\" class=\"dataframe\">\n",
       "  <thead>\n",
       "    <tr style=\"text-align: right;\">\n",
       "      <th></th>\n",
       "      <th>weight</th>\n",
       "      <th>height</th>\n",
       "      <th>bats_L</th>\n",
       "      <th>bats_R</th>\n",
       "      <th>throws_L</th>\n",
       "      <th>throws_R</th>\n",
       "      <th>Seasons</th>\n",
       "      <th>Wins</th>\n",
       "      <th>Losses</th>\n",
       "      <th>Games</th>\n",
       "      <th>...</th>\n",
       "      <th>Earned_Runs</th>\n",
       "      <th>Home_Runs</th>\n",
       "      <th>Walks</th>\n",
       "      <th>Strikeouts</th>\n",
       "      <th>Batters_Faced</th>\n",
       "      <th>Games_Finished</th>\n",
       "      <th>Runs_Allowed</th>\n",
       "      <th>Retired_Years</th>\n",
       "      <th>Total_Games</th>\n",
       "      <th>Games_Started</th>\n",
       "    </tr>\n",
       "  </thead>\n",
       "  <tbody>\n",
       "    <tr>\n",
       "      <th>0</th>\n",
       "      <td>215.0</td>\n",
       "      <td>75.0</td>\n",
       "      <td>0</td>\n",
       "      <td>1</td>\n",
       "      <td>0</td>\n",
       "      <td>1</td>\n",
       "      <td>9</td>\n",
       "      <td>16</td>\n",
       "      <td>18</td>\n",
       "      <td>331</td>\n",
       "      <td>...</td>\n",
       "      <td>160</td>\n",
       "      <td>41</td>\n",
       "      <td>183</td>\n",
       "      <td>340</td>\n",
       "      <td>0.0</td>\n",
       "      <td>141</td>\n",
       "      <td>169</td>\n",
       "      <td>6.720548</td>\n",
       "      <td>331</td>\n",
       "      <td>0.0</td>\n",
       "    </tr>\n",
       "    <tr>\n",
       "      <th>1</th>\n",
       "      <td>190.0</td>\n",
       "      <td>75.0</td>\n",
       "      <td>0</td>\n",
       "      <td>1</td>\n",
       "      <td>0</td>\n",
       "      <td>1</td>\n",
       "      <td>13</td>\n",
       "      <td>66</td>\n",
       "      <td>60</td>\n",
       "      <td>448</td>\n",
       "      <td>...</td>\n",
       "      <td>468</td>\n",
       "      <td>89</td>\n",
       "      <td>457</td>\n",
       "      <td>641</td>\n",
       "      <td>4730.0</td>\n",
       "      <td>235</td>\n",
       "      <td>503</td>\n",
       "      <td>31.624658</td>\n",
       "      <td>448</td>\n",
       "      <td>91.0</td>\n",
       "    </tr>\n",
       "    <tr>\n",
       "      <th>2</th>\n",
       "      <td>235.0</td>\n",
       "      <td>74.0</td>\n",
       "      <td>1</td>\n",
       "      <td>0</td>\n",
       "      <td>1</td>\n",
       "      <td>0</td>\n",
       "      <td>12</td>\n",
       "      <td>8</td>\n",
       "      <td>29</td>\n",
       "      <td>400</td>\n",
       "      <td>...</td>\n",
       "      <td>146</td>\n",
       "      <td>43</td>\n",
       "      <td>123</td>\n",
       "      <td>290</td>\n",
       "      <td>0.0</td>\n",
       "      <td>101</td>\n",
       "      <td>155</td>\n",
       "      <td>0.608219</td>\n",
       "      <td>400</td>\n",
       "      <td>6.0</td>\n",
       "    </tr>\n",
       "    <tr>\n",
       "      <th>3</th>\n",
       "      <td>175.0</td>\n",
       "      <td>71.0</td>\n",
       "      <td>0</td>\n",
       "      <td>1</td>\n",
       "      <td>0</td>\n",
       "      <td>1</td>\n",
       "      <td>7</td>\n",
       "      <td>22</td>\n",
       "      <td>40</td>\n",
       "      <td>79</td>\n",
       "      <td>...</td>\n",
       "      <td>285</td>\n",
       "      <td>18</td>\n",
       "      <td>192</td>\n",
       "      <td>161</td>\n",
       "      <td>0.0</td>\n",
       "      <td>14</td>\n",
       "      <td>442</td>\n",
       "      <td>125.712329</td>\n",
       "      <td>79</td>\n",
       "      <td>0.0</td>\n",
       "    </tr>\n",
       "    <tr>\n",
       "      <th>4</th>\n",
       "      <td>210.0</td>\n",
       "      <td>73.0</td>\n",
       "      <td>0</td>\n",
       "      <td>1</td>\n",
       "      <td>0</td>\n",
       "      <td>1</td>\n",
       "      <td>1</td>\n",
       "      <td>0</td>\n",
       "      <td>0</td>\n",
       "      <td>7</td>\n",
       "      <td>...</td>\n",
       "      <td>13</td>\n",
       "      <td>7</td>\n",
       "      <td>11</td>\n",
       "      <td>12</td>\n",
       "      <td>0.0</td>\n",
       "      <td>2</td>\n",
       "      <td>15</td>\n",
       "      <td>0.605479</td>\n",
       "      <td>8</td>\n",
       "      <td>1.0</td>\n",
       "    </tr>\n",
       "  </tbody>\n",
       "</table>\n",
       "<p>5 rows × 26 columns</p>\n",
       "</div>"
      ],
      "text/plain": [
       "   weight  height  bats_L  bats_R  throws_L  throws_R  Seasons  Wins  Losses  \\\n",
       "0   215.0    75.0       0       1         0         1        9    16      18   \n",
       "1   190.0    75.0       0       1         0         1       13    66      60   \n",
       "2   235.0    74.0       1       0         1         0       12     8      29   \n",
       "3   175.0    71.0       0       1         0         1        7    22      40   \n",
       "4   210.0    73.0       0       1         0         1        1     0       0   \n",
       "\n",
       "   Games  ...  Earned_Runs  Home_Runs  Walks  Strikeouts  Batters_Faced  \\\n",
       "0    331  ...          160         41    183         340            0.0   \n",
       "1    448  ...          468         89    457         641         4730.0   \n",
       "2    400  ...          146         43    123         290            0.0   \n",
       "3     79  ...          285         18    192         161            0.0   \n",
       "4      7  ...           13          7     11          12            0.0   \n",
       "\n",
       "   Games_Finished  Runs_Allowed  Retired_Years  Total_Games  Games_Started  \n",
       "0             141           169       6.720548          331            0.0  \n",
       "1             235           503      31.624658          448           91.0  \n",
       "2             101           155       0.608219          400            6.0  \n",
       "3              14           442     125.712329           79            0.0  \n",
       "4               2            15       0.605479            8            1.0  \n",
       "\n",
       "[5 rows x 26 columns]"
      ]
     },
     "execution_count": 360,
     "metadata": {},
     "output_type": "execute_result"
    }
   ],
   "source": [
    "# Run all data through the model to determine who should be in the hall of fame.\n",
    "data_total = pitchers_df.drop(['inducted', \n",
    "                                  'playerID', \n",
    "                                  'nameFirst', \n",
    "                                  'nameLast', \n",
    "                                  'finalGame',\n",
    "                                  'yearID',\n",
    "                                  'Primary_Position',\n",
    "                                  'Hall_Eligible'], axis=1)\n",
    "data_total.fillna(0, inplace=True)\n",
    "data_total['Batters_Faced'].fillna(0, inplace=True)\n",
    "data_total['Batters_Faced']=pd.to_numeric(data['Batters_Faced'])\n",
    "# data_total.head()\n",
    "data_total=data_total.fillna(0)\n",
    "data_total.head()"
   ]
  },
  {
   "cell_type": "code",
   "execution_count": 361,
   "metadata": {},
   "outputs": [],
   "source": [
    "data_total_scaler = StandardScaler().fit(data_total)\n",
    "data_total_scaled = data_total_scaler.transform(data_total)\n",
    "data_total_predicted = XGmodel.predict(data_total_scaled)"
   ]
  },
  {
   "cell_type": "code",
   "execution_count": 362,
   "metadata": {},
   "outputs": [
    {
     "data": {
      "text/html": [
       "<div>\n",
       "<style scoped>\n",
       "    .dataframe tbody tr th:only-of-type {\n",
       "        vertical-align: middle;\n",
       "    }\n",
       "\n",
       "    .dataframe tbody tr th {\n",
       "        vertical-align: top;\n",
       "    }\n",
       "\n",
       "    .dataframe thead th {\n",
       "        text-align: right;\n",
       "    }\n",
       "</style>\n",
       "<table border=\"1\" class=\"dataframe\">\n",
       "  <thead>\n",
       "    <tr style=\"text-align: right;\">\n",
       "      <th></th>\n",
       "      <th>playerID</th>\n",
       "      <th>nameFirst</th>\n",
       "      <th>nameLast</th>\n",
       "      <th>weight</th>\n",
       "      <th>height</th>\n",
       "      <th>bats_L</th>\n",
       "      <th>bats_R</th>\n",
       "      <th>throws_L</th>\n",
       "      <th>throws_R</th>\n",
       "      <th>Seasons</th>\n",
       "      <th>...</th>\n",
       "      <th>finalGame</th>\n",
       "      <th>Retired_Years</th>\n",
       "      <th>inducted</th>\n",
       "      <th>yearID</th>\n",
       "      <th>Total_Games</th>\n",
       "      <th>Games_Started</th>\n",
       "      <th>Primary_Position</th>\n",
       "      <th>Hall_Eligible</th>\n",
       "      <th>model_predict</th>\n",
       "      <th>Comparison</th>\n",
       "    </tr>\n",
       "  </thead>\n",
       "  <tbody>\n",
       "    <tr>\n",
       "      <th>0</th>\n",
       "      <td>aardsda01</td>\n",
       "      <td>David</td>\n",
       "      <td>Aardsma</td>\n",
       "      <td>215.0</td>\n",
       "      <td>75.0</td>\n",
       "      <td>0</td>\n",
       "      <td>1</td>\n",
       "      <td>0</td>\n",
       "      <td>1</td>\n",
       "      <td>9</td>\n",
       "      <td>...</td>\n",
       "      <td>2015-08-23</td>\n",
       "      <td>6.720548</td>\n",
       "      <td>0</td>\n",
       "      <td>0.0</td>\n",
       "      <td>331</td>\n",
       "      <td>0.0</td>\n",
       "      <td>Pitcher</td>\n",
       "      <td>0</td>\n",
       "      <td>0</td>\n",
       "      <td>True</td>\n",
       "    </tr>\n",
       "    <tr>\n",
       "      <th>1</th>\n",
       "      <td>aasedo01</td>\n",
       "      <td>Don</td>\n",
       "      <td>Aase</td>\n",
       "      <td>190.0</td>\n",
       "      <td>75.0</td>\n",
       "      <td>0</td>\n",
       "      <td>1</td>\n",
       "      <td>0</td>\n",
       "      <td>1</td>\n",
       "      <td>13</td>\n",
       "      <td>...</td>\n",
       "      <td>1990-10-03</td>\n",
       "      <td>31.624658</td>\n",
       "      <td>0</td>\n",
       "      <td>0.0</td>\n",
       "      <td>448</td>\n",
       "      <td>91.0</td>\n",
       "      <td>Pitcher</td>\n",
       "      <td>1</td>\n",
       "      <td>0</td>\n",
       "      <td>True</td>\n",
       "    </tr>\n",
       "    <tr>\n",
       "      <th>2</th>\n",
       "      <td>abadfe01</td>\n",
       "      <td>Fernando</td>\n",
       "      <td>Abad</td>\n",
       "      <td>235.0</td>\n",
       "      <td>74.0</td>\n",
       "      <td>1</td>\n",
       "      <td>0</td>\n",
       "      <td>1</td>\n",
       "      <td>0</td>\n",
       "      <td>12</td>\n",
       "      <td>...</td>\n",
       "      <td>2021-10-01</td>\n",
       "      <td>0.608219</td>\n",
       "      <td>0</td>\n",
       "      <td>0.0</td>\n",
       "      <td>400</td>\n",
       "      <td>6.0</td>\n",
       "      <td>Pitcher</td>\n",
       "      <td>0</td>\n",
       "      <td>0</td>\n",
       "      <td>True</td>\n",
       "    </tr>\n",
       "    <tr>\n",
       "      <th>3</th>\n",
       "      <td>abbeybe01</td>\n",
       "      <td>Bert</td>\n",
       "      <td>Abbey</td>\n",
       "      <td>175.0</td>\n",
       "      <td>71.0</td>\n",
       "      <td>0</td>\n",
       "      <td>1</td>\n",
       "      <td>0</td>\n",
       "      <td>1</td>\n",
       "      <td>7</td>\n",
       "      <td>...</td>\n",
       "      <td>1896-09-23</td>\n",
       "      <td>125.712329</td>\n",
       "      <td>0</td>\n",
       "      <td>0.0</td>\n",
       "      <td>79</td>\n",
       "      <td>0.0</td>\n",
       "      <td>Pitcher</td>\n",
       "      <td>0</td>\n",
       "      <td>0</td>\n",
       "      <td>True</td>\n",
       "    </tr>\n",
       "    <tr>\n",
       "      <th>4</th>\n",
       "      <td>abbotco01</td>\n",
       "      <td>Cory</td>\n",
       "      <td>Abbott</td>\n",
       "      <td>210.0</td>\n",
       "      <td>73.0</td>\n",
       "      <td>0</td>\n",
       "      <td>1</td>\n",
       "      <td>0</td>\n",
       "      <td>1</td>\n",
       "      <td>1</td>\n",
       "      <td>...</td>\n",
       "      <td>2021-10-02</td>\n",
       "      <td>0.605479</td>\n",
       "      <td>0</td>\n",
       "      <td>0.0</td>\n",
       "      <td>8</td>\n",
       "      <td>1.0</td>\n",
       "      <td>Pitcher</td>\n",
       "      <td>0</td>\n",
       "      <td>0</td>\n",
       "      <td>True</td>\n",
       "    </tr>\n",
       "  </tbody>\n",
       "</table>\n",
       "<p>5 rows × 36 columns</p>\n",
       "</div>"
      ],
      "text/plain": [
       "    playerID nameFirst nameLast  weight  height  bats_L  bats_R  throws_L  \\\n",
       "0  aardsda01     David  Aardsma   215.0    75.0       0       1         0   \n",
       "1   aasedo01       Don     Aase   190.0    75.0       0       1         0   \n",
       "2   abadfe01  Fernando     Abad   235.0    74.0       1       0         1   \n",
       "3  abbeybe01      Bert    Abbey   175.0    71.0       0       1         0   \n",
       "4  abbotco01      Cory   Abbott   210.0    73.0       0       1         0   \n",
       "\n",
       "   throws_R  Seasons  ...   finalGame  Retired_Years  inducted  yearID  \\\n",
       "0         1        9  ...  2015-08-23       6.720548         0     0.0   \n",
       "1         1       13  ...  1990-10-03      31.624658         0     0.0   \n",
       "2         0       12  ...  2021-10-01       0.608219         0     0.0   \n",
       "3         1        7  ...  1896-09-23     125.712329         0     0.0   \n",
       "4         1        1  ...  2021-10-02       0.605479         0     0.0   \n",
       "\n",
       "   Total_Games  Games_Started  Primary_Position  Hall_Eligible  model_predict  \\\n",
       "0          331            0.0           Pitcher              0              0   \n",
       "1          448           91.0           Pitcher              1              0   \n",
       "2          400            6.0           Pitcher              0              0   \n",
       "3           79            0.0           Pitcher              0              0   \n",
       "4            8            1.0           Pitcher              0              0   \n",
       "\n",
       "   Comparison  \n",
       "0        True  \n",
       "1        True  \n",
       "2        True  \n",
       "3        True  \n",
       "4        True  \n",
       "\n",
       "[5 rows x 36 columns]"
      ]
     },
     "execution_count": 362,
     "metadata": {},
     "output_type": "execute_result"
    }
   ],
   "source": [
    "pitchers_predict_df = pd.concat([pitchers_df, pd.Series(data_total_predicted)], axis=1)\n",
    "pitchers_predict_df = pitchers_predict_df.rename(columns={0:'model_predict'})\n",
    "pitchers_predict_df['Comparison']=pitchers_predict_df['inducted']==pitchers_predict_df['model_predict']\n",
    "pitchers_predict_df.head()"
   ]
  },
  {
   "cell_type": "code",
   "execution_count": 363,
   "metadata": {},
   "outputs": [],
   "source": [
    "from sklearn.neighbors import KNeighborsClassifier"
   ]
  },
  {
   "cell_type": "code",
   "execution_count": 364,
   "metadata": {},
   "outputs": [
    {
     "data": {
      "text/plain": [
       "KNeighborsClassifier(metric='euclidean')"
      ]
     },
     "execution_count": 364,
     "metadata": {},
     "output_type": "execute_result"
    }
   ],
   "source": [
    "knn = KNeighborsClassifier(n_neighbors=5, metric='euclidean')\n",
    "knn.fit(X_train_scaled, y_train)"
   ]
  },
  {
   "cell_type": "code",
   "execution_count": 365,
   "metadata": {},
   "outputs": [],
   "source": [
    "y_pred = knn.predict(X_test_scaled)"
   ]
  },
  {
   "cell_type": "code",
   "execution_count": 366,
   "metadata": {},
   "outputs": [],
   "source": [
    "from imblearn.over_sampling import ADASYN "
   ]
  },
  {
   "cell_type": "code",
   "execution_count": 367,
   "metadata": {},
   "outputs": [],
   "source": [
    "ada = ADASYN()\n",
    "X_ada, y_ada = ada.fit_sample(X_train_scaled,y_train)"
   ]
  },
  {
   "cell_type": "code",
   "execution_count": 368,
   "metadata": {},
   "outputs": [
    {
     "data": {
      "text/plain": [
       "0.9521410579345088"
      ]
     },
     "execution_count": 368,
     "metadata": {},
     "output_type": "execute_result"
    }
   ],
   "source": [
    "clf_ada = BalancedRandomForestClassifier(random_state=0)\n",
    "clf_ada = clf.fit(X_ada, y_ada)\n",
    "clf.score(X_test_scaled, y_test)"
   ]
  },
  {
   "cell_type": "code",
   "execution_count": 369,
   "metadata": {},
   "outputs": [
    {
     "name": "stdout",
     "output_type": "stream",
     "text": [
      "[[364  17]\n",
      " [  2  14]]\n"
     ]
    }
   ],
   "source": [
    "y_predicted_ada = clf_ada.predict(X_test_scaled)\n",
    "# from sklearn.metrics import confusion_matrix\n",
    "print(confusion_matrix(y_test, y_predicted_ada))\n",
    "\n",
    "predictions_df = pd.concat([pd.DataFrame(X_test_scaled),\n",
    "#                            .copy().assign(\n",
    "                           pd.DataFrame(dict(\n",
    "    predicted= y_predicted_ada,\n",
    "    actual=y_test\n",
    ")).reset_index(drop=True)\n",
    "                           ], axis=1)\n",
    "# pd.Series(y_test).value_counts()#[:20]\n",
    "actual_inductees = predictions_df.loc[predictions_df.actual==1]\n",
    "predictions_for_actual_inductees = actual_inductees.predicted.value_counts()\n"
   ]
  },
  {
   "cell_type": "code",
   "execution_count": 370,
   "metadata": {},
   "outputs": [
    {
     "data": {
      "text/plain": [
       "<BarContainer object of 26 artists>"
      ]
     },
     "execution_count": 370,
     "metadata": {},
     "output_type": "execute_result"
    },
    {
     "data": {
      "image/png": "[encoded data removed]",
      "text/plain": [
       "<Figure size 432x288 with 1 Axes>"
      ]
     },
     "metadata": {
      "needs_background": "light"
     },
     "output_type": "display_data"
    }
   ],
   "source": [
    "plt.barh(feature_names,clf_ada.feature_importances_)"
   ]
  },
  {
   "cell_type": "code",
   "execution_count": 371,
   "metadata": {},
   "outputs": [
    {
     "name": "stdout",
     "output_type": "stream",
     "text": [
      "2274 2274\n"
     ]
    }
   ],
   "source": [
    "from imblearn.combine import SMOTETomek\n",
    "smote_tomek = SMOTETomek(random_state=0)\n",
    "X_resampled, y_resampled = smote_tomek.fit_resample(X_train_scaled,y_train)\n",
    "x_GB = XGBClassifier(scale_pos_weight=1)\n",
    "x_GB.fit(X_resampled, y_resampled)\n",
    "#y_pred_smote_tomek\n",
    "y_GB = x_GB.predict(X_test_scaled)\n",
    "print(len(X_resampled), len(y_resampled))"
   ]
  },
  {
   "cell_type": "code",
   "execution_count": 372,
   "metadata": {},
   "outputs": [
    {
     "data": {
      "text/plain": [
       "(2274, 26)"
      ]
     },
     "execution_count": 372,
     "metadata": {},
     "output_type": "execute_result"
    }
   ],
   "source": [
    "X_resampled_df = pd.DataFrame(X_resampled)\n",
    "X_resampled_df.shape"
   ]
  },
  {
   "cell_type": "code",
   "execution_count": 373,
   "metadata": {},
   "outputs": [
    {
     "data": {
      "text/plain": [
       "(397,)"
      ]
     },
     "execution_count": 373,
     "metadata": {},
     "output_type": "execute_result"
    }
   ],
   "source": [
    "y_GB.shape"
   ]
  },
  {
   "cell_type": "code",
   "execution_count": 374,
   "metadata": {},
   "outputs": [
    {
     "data": {
      "text/plain": [
       "(397,)"
      ]
     },
     "execution_count": 374,
     "metadata": {},
     "output_type": "execute_result"
    }
   ],
   "source": [
    "y_test.shape"
   ]
  },
  {
   "cell_type": "code",
   "execution_count": 375,
   "metadata": {},
   "outputs": [
    {
     "data": {
      "text/plain": [
       "(397, 2)"
      ]
     },
     "execution_count": 375,
     "metadata": {},
     "output_type": "execute_result"
    }
   ],
   "source": [
    "y_sample_check = pd.DataFrame(dict(predicted= y_GB,actual=y_test)).reset_index(drop=True)\n",
    "y_sample_check.shape"
   ]
  },
  {
   "cell_type": "code",
   "execution_count": 376,
   "metadata": {},
   "outputs": [
    {
     "name": "stdout",
     "output_type": "stream",
     "text": [
      "              precision    recall  f1-score   support\n",
      "\n",
      "           0       0.99      0.97      0.98       381\n",
      "           1       0.48      0.75      0.59        16\n",
      "\n",
      "    accuracy                           0.96       397\n",
      "   macro avg       0.73      0.86      0.78       397\n",
      "weighted avg       0.97      0.96      0.96       397\n",
      "\n"
     ]
    }
   ],
   "source": [
    "predictions_df = pd.concat([pd.DataFrame(X_test_scaled),\n",
    "                           pd.DataFrame(dict(\n",
    "    predicted= y_GB,\n",
    "    actual=y_test)).reset_index(drop=True) ], axis=1)\n",
    "actual_inductees = predictions_df.loc[predictions_df.actual==1]\n",
    "predictions_for_actual_inductees = actual_inductees.predicted.value_counts()\n",
    "print(classification_report(y_test,y_GB))"
   ]
  }
 ],
 "metadata": {
  "interpreter": {
   "hash": "93bd853f96cb809137bd5d63c1afc0b90ba524c51c69796064c9bdd19cca3416"
  },
  "kernelspec": {
   "display_name": "Python 3.7.11 ('mlenv')",
   "language": "python",
   "name": "python3"
  },
  "language_info": {
   "codemirror_mode": {
    "name": "ipython",
    "version": 3
   },
   "file_extension": ".py",
   "mimetype": "text/x-python",
   "name": "python",
   "nbconvert_exporter": "python",
   "pygments_lexer": "ipython3",
   "version": "3.7.11"
  },
  "orig_nbformat": 4
 },
 "nbformat": 4,
 "nbformat_minor": 2
}
