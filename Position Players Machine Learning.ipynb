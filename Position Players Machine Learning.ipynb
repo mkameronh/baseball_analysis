{
 "cells": [
  {
   "cell_type": "code",
   "execution_count": 1,
   "id": "13c91df1",
   "metadata": {},
   "outputs": [],
   "source": [
    "import pandas as pd\n",
    "from pathlib import Path\n",
    "import matplotlib.pyplot as plt\n",
    "from sklearn.linear_model import LinearRegression"
   ]
  },
  {
   "cell_type": "code",
   "execution_count": 5,
   "id": "bbda3a5e",
   "metadata": {},
   "outputs": [
    {
     "data": {
      "text/html": [
       "<div>\n",
       "<style scoped>\n",
       "    .dataframe tbody tr th:only-of-type {\n",
       "        vertical-align: middle;\n",
       "    }\n",
       "\n",
       "    .dataframe tbody tr th {\n",
       "        vertical-align: top;\n",
       "    }\n",
       "\n",
       "    .dataframe thead th {\n",
       "        text-align: right;\n",
       "    }\n",
       "</style>\n",
       "<table border=\"1\" class=\"dataframe\">\n",
       "  <thead>\n",
       "    <tr style=\"text-align: right;\">\n",
       "      <th></th>\n",
       "      <th>playerID</th>\n",
       "      <th>nameFirst</th>\n",
       "      <th>nameLast</th>\n",
       "      <th>weight</th>\n",
       "      <th>height</th>\n",
       "      <th>bats_L</th>\n",
       "      <th>bats_R</th>\n",
       "      <th>throws_L</th>\n",
       "      <th>throws_R</th>\n",
       "      <th>Seasons</th>\n",
       "      <th>...</th>\n",
       "      <th>SecondBase</th>\n",
       "      <th>ThirdBase</th>\n",
       "      <th>ShortStop</th>\n",
       "      <th>LeftField</th>\n",
       "      <th>CenterField</th>\n",
       "      <th>RightField</th>\n",
       "      <th>Outfield</th>\n",
       "      <th>DH</th>\n",
       "      <th>Primary_Position</th>\n",
       "      <th>Hall_Eligible</th>\n",
       "    </tr>\n",
       "  </thead>\n",
       "  <tbody>\n",
       "    <tr>\n",
       "      <th>0</th>\n",
       "      <td>aaronha01</td>\n",
       "      <td>Hank</td>\n",
       "      <td>Aaron</td>\n",
       "      <td>180.0</td>\n",
       "      <td>72.0</td>\n",
       "      <td>0</td>\n",
       "      <td>1</td>\n",
       "      <td>0</td>\n",
       "      <td>1</td>\n",
       "      <td>23</td>\n",
       "      <td>...</td>\n",
       "      <td>0.013038</td>\n",
       "      <td>0.002122</td>\n",
       "      <td>0.000000</td>\n",
       "      <td>0.095512</td>\n",
       "      <td>0.093390</td>\n",
       "      <td>0.659187</td>\n",
       "      <td>0.836871</td>\n",
       "      <td>0.060946</td>\n",
       "      <td>Outfield</td>\n",
       "      <td>eligible</td>\n",
       "    </tr>\n",
       "    <tr>\n",
       "      <th>1</th>\n",
       "      <td>aaronto01</td>\n",
       "      <td>Tommie</td>\n",
       "      <td>Aaron</td>\n",
       "      <td>190.0</td>\n",
       "      <td>75.0</td>\n",
       "      <td>0</td>\n",
       "      <td>1</td>\n",
       "      <td>0</td>\n",
       "      <td>1</td>\n",
       "      <td>7</td>\n",
       "      <td>...</td>\n",
       "      <td>0.016018</td>\n",
       "      <td>0.022883</td>\n",
       "      <td>0.000000</td>\n",
       "      <td>0.308924</td>\n",
       "      <td>0.002288</td>\n",
       "      <td>0.004577</td>\n",
       "      <td>0.313501</td>\n",
       "      <td>0.000000</td>\n",
       "      <td>FirstBase</td>\n",
       "      <td>not_eligible</td>\n",
       "    </tr>\n",
       "    <tr>\n",
       "      <th>2</th>\n",
       "      <td>abadan01</td>\n",
       "      <td>Andy</td>\n",
       "      <td>Abad</td>\n",
       "      <td>184.0</td>\n",
       "      <td>73.0</td>\n",
       "      <td>1</td>\n",
       "      <td>0</td>\n",
       "      <td>1</td>\n",
       "      <td>0</td>\n",
       "      <td>3</td>\n",
       "      <td>...</td>\n",
       "      <td>0.000000</td>\n",
       "      <td>0.000000</td>\n",
       "      <td>0.000000</td>\n",
       "      <td>0.000000</td>\n",
       "      <td>0.000000</td>\n",
       "      <td>0.066667</td>\n",
       "      <td>0.066667</td>\n",
       "      <td>0.000000</td>\n",
       "      <td>FirstBase</td>\n",
       "      <td>not_eligible</td>\n",
       "    </tr>\n",
       "    <tr>\n",
       "      <th>3</th>\n",
       "      <td>abadijo01</td>\n",
       "      <td>John</td>\n",
       "      <td>Abadie</td>\n",
       "      <td>192.0</td>\n",
       "      <td>72.0</td>\n",
       "      <td>0</td>\n",
       "      <td>1</td>\n",
       "      <td>0</td>\n",
       "      <td>1</td>\n",
       "      <td>3</td>\n",
       "      <td>...</td>\n",
       "      <td>0.000000</td>\n",
       "      <td>0.000000</td>\n",
       "      <td>0.000000</td>\n",
       "      <td>0.000000</td>\n",
       "      <td>0.000000</td>\n",
       "      <td>0.000000</td>\n",
       "      <td>0.000000</td>\n",
       "      <td>0.000000</td>\n",
       "      <td>FirstBase</td>\n",
       "      <td>not_eligible</td>\n",
       "    </tr>\n",
       "    <tr>\n",
       "      <th>4</th>\n",
       "      <td>abbated01</td>\n",
       "      <td>Ed</td>\n",
       "      <td>Abbaticchio</td>\n",
       "      <td>170.0</td>\n",
       "      <td>71.0</td>\n",
       "      <td>0</td>\n",
       "      <td>1</td>\n",
       "      <td>0</td>\n",
       "      <td>1</td>\n",
       "      <td>11</td>\n",
       "      <td>...</td>\n",
       "      <td>0.490058</td>\n",
       "      <td>0.023392</td>\n",
       "      <td>0.453801</td>\n",
       "      <td>0.000000</td>\n",
       "      <td>0.002339</td>\n",
       "      <td>0.001170</td>\n",
       "      <td>0.003509</td>\n",
       "      <td>0.000000</td>\n",
       "      <td>SecondBase</td>\n",
       "      <td>eligible</td>\n",
       "    </tr>\n",
       "    <tr>\n",
       "      <th>5</th>\n",
       "      <td>abbeych01</td>\n",
       "      <td>Charlie</td>\n",
       "      <td>Abbey</td>\n",
       "      <td>169.0</td>\n",
       "      <td>68.0</td>\n",
       "      <td>1</td>\n",
       "      <td>0</td>\n",
       "      <td>1</td>\n",
       "      <td>0</td>\n",
       "      <td>5</td>\n",
       "      <td>...</td>\n",
       "      <td>0.000000</td>\n",
       "      <td>0.000000</td>\n",
       "      <td>0.000000</td>\n",
       "      <td>0.203540</td>\n",
       "      <td>0.409292</td>\n",
       "      <td>0.382743</td>\n",
       "      <td>0.997788</td>\n",
       "      <td>0.000000</td>\n",
       "      <td>Outfield</td>\n",
       "      <td>not_eligible</td>\n",
       "    </tr>\n",
       "    <tr>\n",
       "      <th>6</th>\n",
       "      <td>abbotfr01</td>\n",
       "      <td>Fred</td>\n",
       "      <td>Abbott</td>\n",
       "      <td>180.0</td>\n",
       "      <td>70.0</td>\n",
       "      <td>0</td>\n",
       "      <td>1</td>\n",
       "      <td>0</td>\n",
       "      <td>1</td>\n",
       "      <td>3</td>\n",
       "      <td>...</td>\n",
       "      <td>0.000000</td>\n",
       "      <td>0.000000</td>\n",
       "      <td>0.000000</td>\n",
       "      <td>0.000000</td>\n",
       "      <td>0.000000</td>\n",
       "      <td>0.000000</td>\n",
       "      <td>0.000000</td>\n",
       "      <td>0.000000</td>\n",
       "      <td>Catcher</td>\n",
       "      <td>not_eligible</td>\n",
       "    </tr>\n",
       "    <tr>\n",
       "      <th>7</th>\n",
       "      <td>abbotje01</td>\n",
       "      <td>Jeff</td>\n",
       "      <td>Abbott</td>\n",
       "      <td>190.0</td>\n",
       "      <td>74.0</td>\n",
       "      <td>0</td>\n",
       "      <td>1</td>\n",
       "      <td>1</td>\n",
       "      <td>0</td>\n",
       "      <td>5</td>\n",
       "      <td>...</td>\n",
       "      <td>0.000000</td>\n",
       "      <td>0.000000</td>\n",
       "      <td>0.000000</td>\n",
       "      <td>0.270386</td>\n",
       "      <td>0.347639</td>\n",
       "      <td>0.236052</td>\n",
       "      <td>0.793991</td>\n",
       "      <td>0.051502</td>\n",
       "      <td>Outfield</td>\n",
       "      <td>not_eligible</td>\n",
       "    </tr>\n",
       "    <tr>\n",
       "      <th>8</th>\n",
       "      <td>abbotku01</td>\n",
       "      <td>Kurt</td>\n",
       "      <td>Abbott</td>\n",
       "      <td>180.0</td>\n",
       "      <td>71.0</td>\n",
       "      <td>0</td>\n",
       "      <td>1</td>\n",
       "      <td>0</td>\n",
       "      <td>1</td>\n",
       "      <td>11</td>\n",
       "      <td>...</td>\n",
       "      <td>0.246439</td>\n",
       "      <td>0.061254</td>\n",
       "      <td>0.497151</td>\n",
       "      <td>0.045584</td>\n",
       "      <td>0.005698</td>\n",
       "      <td>0.011396</td>\n",
       "      <td>0.061254</td>\n",
       "      <td>0.008547</td>\n",
       "      <td>ShortStop</td>\n",
       "      <td>eligible</td>\n",
       "    </tr>\n",
       "    <tr>\n",
       "      <th>9</th>\n",
       "      <td>abbotod01</td>\n",
       "      <td>Ody</td>\n",
       "      <td>Abbott</td>\n",
       "      <td>165.0</td>\n",
       "      <td>69.0</td>\n",
       "      <td>1</td>\n",
       "      <td>0</td>\n",
       "      <td>0</td>\n",
       "      <td>1</td>\n",
       "      <td>1</td>\n",
       "      <td>...</td>\n",
       "      <td>0.000000</td>\n",
       "      <td>0.000000</td>\n",
       "      <td>0.000000</td>\n",
       "      <td>0.000000</td>\n",
       "      <td>0.954545</td>\n",
       "      <td>0.000000</td>\n",
       "      <td>0.954545</td>\n",
       "      <td>0.000000</td>\n",
       "      <td>Outfield</td>\n",
       "      <td>not_eligible</td>\n",
       "    </tr>\n",
       "  </tbody>\n",
       "</table>\n",
       "<p>10 rows × 45 columns</p>\n",
       "</div>"
      ],
      "text/plain": [
       "    playerID nameFirst     nameLast  weight  height  bats_L  bats_R  throws_L  \\\n",
       "0  aaronha01      Hank        Aaron   180.0    72.0       0       1         0   \n",
       "1  aaronto01    Tommie        Aaron   190.0    75.0       0       1         0   \n",
       "2   abadan01      Andy         Abad   184.0    73.0       1       0         1   \n",
       "3  abadijo01      John       Abadie   192.0    72.0       0       1         0   \n",
       "4  abbated01        Ed  Abbaticchio   170.0    71.0       0       1         0   \n",
       "5  abbeych01   Charlie        Abbey   169.0    68.0       1       0         1   \n",
       "6  abbotfr01      Fred       Abbott   180.0    70.0       0       1         0   \n",
       "7  abbotje01      Jeff       Abbott   190.0    74.0       0       1         1   \n",
       "8  abbotku01      Kurt       Abbott   180.0    71.0       0       1         0   \n",
       "9  abbotod01       Ody       Abbott   165.0    69.0       1       0         0   \n",
       "\n",
       "   throws_R  Seasons  ...  SecondBase  ThirdBase  ShortStop  LeftField  \\\n",
       "0         1       23  ...    0.013038   0.002122   0.000000   0.095512   \n",
       "1         1        7  ...    0.016018   0.022883   0.000000   0.308924   \n",
       "2         0        3  ...    0.000000   0.000000   0.000000   0.000000   \n",
       "3         1        3  ...    0.000000   0.000000   0.000000   0.000000   \n",
       "4         1       11  ...    0.490058   0.023392   0.453801   0.000000   \n",
       "5         0        5  ...    0.000000   0.000000   0.000000   0.203540   \n",
       "6         1        3  ...    0.000000   0.000000   0.000000   0.000000   \n",
       "7         0        5  ...    0.000000   0.000000   0.000000   0.270386   \n",
       "8         1       11  ...    0.246439   0.061254   0.497151   0.045584   \n",
       "9         1        1  ...    0.000000   0.000000   0.000000   0.000000   \n",
       "\n",
       "   CenterField  RightField  Outfield        DH  Primary_Position  \\\n",
       "0     0.093390    0.659187  0.836871  0.060946          Outfield   \n",
       "1     0.002288    0.004577  0.313501  0.000000         FirstBase   \n",
       "2     0.000000    0.066667  0.066667  0.000000         FirstBase   \n",
       "3     0.000000    0.000000  0.000000  0.000000         FirstBase   \n",
       "4     0.002339    0.001170  0.003509  0.000000        SecondBase   \n",
       "5     0.409292    0.382743  0.997788  0.000000          Outfield   \n",
       "6     0.000000    0.000000  0.000000  0.000000           Catcher   \n",
       "7     0.347639    0.236052  0.793991  0.051502          Outfield   \n",
       "8     0.005698    0.011396  0.061254  0.008547         ShortStop   \n",
       "9     0.954545    0.000000  0.954545  0.000000          Outfield   \n",
       "\n",
       "   Hall_Eligible  \n",
       "0       eligible  \n",
       "1   not_eligible  \n",
       "2   not_eligible  \n",
       "3   not_eligible  \n",
       "4       eligible  \n",
       "5   not_eligible  \n",
       "6   not_eligible  \n",
       "7   not_eligible  \n",
       "8       eligible  \n",
       "9   not_eligible  \n",
       "\n",
       "[10 rows x 45 columns]"
      ]
     },
     "execution_count": 5,
     "metadata": {},
     "output_type": "execute_result"
    }
   ],
   "source": [
    "PositionPlayers_df = pd.read_csv(\"PositionPlayers_Complete\")\n",
    "\n",
    "Pitchers_df.head(10)"
   ]
  },
  {
   "cell_type": "code",
   "execution_count": 35,
   "id": "30e1fb97",
   "metadata": {},
   "outputs": [
    {
     "data": {
      "image/png": "[encoded data removed]",
      "text/plain": [
       "<Figure size 432x288 with 1 Axes>"
      ]
     },
     "metadata": {
      "needs_background": "light"
     },
     "output_type": "display_data"
    }
   ],
   "source": [
    "plt.scatter(PositionPlayers_df.DH, PositionPlayers_df. Seasons)\n",
    "plt.xlabel('DH')\n",
    "plt.ylabel('Season')\n",
    "plt.show()"
   ]
  },
  {
   "cell_type": "code",
   "execution_count": 27,
   "id": "fbb13214",
   "metadata": {},
   "outputs": [],
   "source": [
    "x = PositionPlayers_df. Seasons .values.reshape(-1, 1)"
   ]
  },
  {
   "cell_type": "code",
   "execution_count": 28,
   "id": "0c0133c8",
   "metadata": {},
   "outputs": [
    {
     "data": {
      "text/plain": [
       "array([[23],\n",
       "       [ 7],\n",
       "       [ 3],\n",
       "       [ 3],\n",
       "       [11]], dtype=int64)"
      ]
     },
     "execution_count": 28,
     "metadata": {},
     "output_type": "execute_result"
    }
   ],
   "source": [
    "x[:5]"
   ]
  },
  {
   "cell_type": "code",
   "execution_count": 22,
   "id": "7ac59e60",
   "metadata": {},
   "outputs": [
    {
     "data": {
      "text/plain": [
       "(10506, 1)"
      ]
     },
     "execution_count": 22,
     "metadata": {},
     "output_type": "execute_result"
    }
   ],
   "source": [
    "x.shape"
   ]
  },
  {
   "cell_type": "code",
   "execution_count": 29,
   "id": "599fc1ac",
   "metadata": {},
   "outputs": [],
   "source": [
    "y = PositionPlayers_df.DH"
   ]
  },
  {
   "cell_type": "code",
   "execution_count": 30,
   "id": "c20555f4",
   "metadata": {},
   "outputs": [],
   "source": [
    "model = LinearRegression()"
   ]
  },
  {
   "cell_type": "code",
   "execution_count": 31,
   "id": "c3034ae6",
   "metadata": {},
   "outputs": [
    {
     "data": {
      "text/plain": [
       "LinearRegression()"
      ]
     },
     "execution_count": 31,
     "metadata": {},
     "output_type": "execute_result"
    }
   ],
   "source": [
    "model.fit(x, y)"
   ]
  },
  {
   "cell_type": "code",
   "execution_count": 32,
   "id": "fbb99f02",
   "metadata": {},
   "outputs": [
    {
     "name": "stdout",
     "output_type": "stream",
     "text": [
      "(10506,)\n"
     ]
    }
   ],
   "source": [
    "y_pred = model.predict(x)\n",
    "print(y_pred.shape)"
   ]
  },
  {
   "cell_type": "code",
   "execution_count": 33,
   "id": "cbb77588",
   "metadata": {},
   "outputs": [
    {
     "data": {
      "image/png": "[encoded data removed]",
      "text/plain": [
       "<Figure size 432x288 with 1 Axes>"
      ]
     },
     "metadata": {
      "needs_background": "light"
     },
     "output_type": "display_data"
    }
   ],
   "source": [
    "plt.scatter(x, y)\n",
    "plt.plot(x, y_pred, color='red')\n",
    "plt.show()"
   ]
  },
  {
   "cell_type": "code",
   "execution_count": 34,
   "id": "fa81aa91",
   "metadata": {},
   "outputs": [
    {
     "name": "stdout",
     "output_type": "stream",
     "text": [
      "[0.00075268]\n",
      "0.01731895883282309\n"
     ]
    }
   ],
   "source": [
    "print(model.coef_)\n",
    "print(model.intercept_)"
   ]
  },
  {
   "cell_type": "code",
   "execution_count": null,
   "id": "b267b72e",
   "metadata": {},
   "outputs": [],
   "source": []
  },
  {
   "cell_type": "code",
   "execution_count": null,
   "id": "e1e70a4f",
   "metadata": {},
   "outputs": [],
   "source": []
  },
  {
   "cell_type": "code",
   "execution_count": null,
   "id": "417c6620",
   "metadata": {},
   "outputs": [],
   "source": []
  },
  {
   "cell_type": "code",
   "execution_count": null,
   "id": "ddcc2bfd",
   "metadata": {},
   "outputs": [],
   "source": []
  }
 ],
 "metadata": {
  "kernelspec": {
   "display_name": "mlenv",
   "language": "python",
   "name": "mlenv"
  },
  "language_info": {
   "codemirror_mode": {
    "name": "ipython",
    "version": 3
   },
   "file_extension": ".py",
   "mimetype": "text/x-python",
   "name": "python",
   "nbconvert_exporter": "python",
   "pygments_lexer": "ipython3",
   "version": "3.7.11"
  }
 },
 "nbformat": 4,
 "nbformat_minor": 5
}
