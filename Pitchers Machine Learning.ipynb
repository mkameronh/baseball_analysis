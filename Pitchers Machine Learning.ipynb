{
 "cells": [
  {
   "cell_type": "code",
   "execution_count": 10,
   "id": "7f4ed4a3",
   "metadata": {},
   "outputs": [],
   "source": [
    "import pandas as pd\n",
    "from pathlib import Path\n",
    "import matplotlib.pyplot as plt\n",
    "from sklearn.linear_model import LinearRegression"
   ]
  },
  {
   "cell_type": "code",
   "execution_count": 11,
   "id": "386dbb46",
   "metadata": {},
   "outputs": [
    {
     "data": {
      "text/html": [
       "<div>\n",
       "<style scoped>\n",
       "    .dataframe tbody tr th:only-of-type {\n",
       "        vertical-align: middle;\n",
       "    }\n",
       "\n",
       "    .dataframe tbody tr th {\n",
       "        vertical-align: top;\n",
       "    }\n",
       "\n",
       "    .dataframe thead th {\n",
       "        text-align: right;\n",
       "    }\n",
       "</style>\n",
       "<table border=\"1\" class=\"dataframe\">\n",
       "  <thead>\n",
       "    <tr style=\"text-align: right;\">\n",
       "      <th></th>\n",
       "      <th>playerID</th>\n",
       "      <th>nameFirst</th>\n",
       "      <th>nameLast</th>\n",
       "      <th>weight</th>\n",
       "      <th>height</th>\n",
       "      <th>bats_L</th>\n",
       "      <th>bats_R</th>\n",
       "      <th>throws_L</th>\n",
       "      <th>throws_R</th>\n",
       "      <th>Seasons</th>\n",
       "      <th>...</th>\n",
       "      <th>Games_Finished</th>\n",
       "      <th>Runs_Allowed</th>\n",
       "      <th>finalGame</th>\n",
       "      <th>Retired_Years</th>\n",
       "      <th>inducted</th>\n",
       "      <th>yearID</th>\n",
       "      <th>Total_Games</th>\n",
       "      <th>Games_Started</th>\n",
       "      <th>Primary_Position</th>\n",
       "      <th>Hall_Eligible</th>\n",
       "    </tr>\n",
       "  </thead>\n",
       "  <tbody>\n",
       "    <tr>\n",
       "      <th>0</th>\n",
       "      <td>aardsda01</td>\n",
       "      <td>David</td>\n",
       "      <td>Aardsma</td>\n",
       "      <td>215.0</td>\n",
       "      <td>75.0</td>\n",
       "      <td>0</td>\n",
       "      <td>1</td>\n",
       "      <td>0</td>\n",
       "      <td>1</td>\n",
       "      <td>9</td>\n",
       "      <td>...</td>\n",
       "      <td>141</td>\n",
       "      <td>169</td>\n",
       "      <td>2015-08-23</td>\n",
       "      <td>6.720548</td>\n",
       "      <td>N</td>\n",
       "      <td>0.0</td>\n",
       "      <td>331</td>\n",
       "      <td>0.0</td>\n",
       "      <td>Pitcher</td>\n",
       "      <td>not_eligible</td>\n",
       "    </tr>\n",
       "    <tr>\n",
       "      <th>1</th>\n",
       "      <td>aasedo01</td>\n",
       "      <td>Don</td>\n",
       "      <td>Aase</td>\n",
       "      <td>190.0</td>\n",
       "      <td>75.0</td>\n",
       "      <td>0</td>\n",
       "      <td>1</td>\n",
       "      <td>0</td>\n",
       "      <td>1</td>\n",
       "      <td>13</td>\n",
       "      <td>...</td>\n",
       "      <td>235</td>\n",
       "      <td>503</td>\n",
       "      <td>1990-10-03</td>\n",
       "      <td>31.624658</td>\n",
       "      <td>N</td>\n",
       "      <td>0.0</td>\n",
       "      <td>448</td>\n",
       "      <td>91.0</td>\n",
       "      <td>Pitcher</td>\n",
       "      <td>eligible</td>\n",
       "    </tr>\n",
       "    <tr>\n",
       "      <th>2</th>\n",
       "      <td>abadfe01</td>\n",
       "      <td>Fernando</td>\n",
       "      <td>Abad</td>\n",
       "      <td>235.0</td>\n",
       "      <td>74.0</td>\n",
       "      <td>1</td>\n",
       "      <td>0</td>\n",
       "      <td>1</td>\n",
       "      <td>0</td>\n",
       "      <td>12</td>\n",
       "      <td>...</td>\n",
       "      <td>101</td>\n",
       "      <td>155</td>\n",
       "      <td>2021-10-01</td>\n",
       "      <td>0.608219</td>\n",
       "      <td>N</td>\n",
       "      <td>0.0</td>\n",
       "      <td>400</td>\n",
       "      <td>6.0</td>\n",
       "      <td>Pitcher</td>\n",
       "      <td>not_eligible</td>\n",
       "    </tr>\n",
       "    <tr>\n",
       "      <th>3</th>\n",
       "      <td>abbeybe01</td>\n",
       "      <td>Bert</td>\n",
       "      <td>Abbey</td>\n",
       "      <td>175.0</td>\n",
       "      <td>71.0</td>\n",
       "      <td>0</td>\n",
       "      <td>1</td>\n",
       "      <td>0</td>\n",
       "      <td>1</td>\n",
       "      <td>7</td>\n",
       "      <td>...</td>\n",
       "      <td>14</td>\n",
       "      <td>442</td>\n",
       "      <td>1896-09-23</td>\n",
       "      <td>125.712329</td>\n",
       "      <td>N</td>\n",
       "      <td>0.0</td>\n",
       "      <td>79</td>\n",
       "      <td>0.0</td>\n",
       "      <td>Pitcher</td>\n",
       "      <td>not_eligible</td>\n",
       "    </tr>\n",
       "    <tr>\n",
       "      <th>4</th>\n",
       "      <td>abbotco01</td>\n",
       "      <td>Cory</td>\n",
       "      <td>Abbott</td>\n",
       "      <td>210.0</td>\n",
       "      <td>73.0</td>\n",
       "      <td>0</td>\n",
       "      <td>1</td>\n",
       "      <td>0</td>\n",
       "      <td>1</td>\n",
       "      <td>1</td>\n",
       "      <td>...</td>\n",
       "      <td>2</td>\n",
       "      <td>15</td>\n",
       "      <td>2021-10-02</td>\n",
       "      <td>0.605479</td>\n",
       "      <td>N</td>\n",
       "      <td>0.0</td>\n",
       "      <td>8</td>\n",
       "      <td>1.0</td>\n",
       "      <td>Pitcher</td>\n",
       "      <td>not_eligible</td>\n",
       "    </tr>\n",
       "    <tr>\n",
       "      <th>5</th>\n",
       "      <td>abbotda01</td>\n",
       "      <td>Dan</td>\n",
       "      <td>Abbott</td>\n",
       "      <td>190.0</td>\n",
       "      <td>71.0</td>\n",
       "      <td>0</td>\n",
       "      <td>1</td>\n",
       "      <td>0</td>\n",
       "      <td>1</td>\n",
       "      <td>1</td>\n",
       "      <td>...</td>\n",
       "      <td>2</td>\n",
       "      <td>14</td>\n",
       "      <td>1890-05-23</td>\n",
       "      <td>132.054795</td>\n",
       "      <td>N</td>\n",
       "      <td>0.0</td>\n",
       "      <td>3</td>\n",
       "      <td>0.0</td>\n",
       "      <td>Pitcher</td>\n",
       "      <td>not_eligible</td>\n",
       "    </tr>\n",
       "    <tr>\n",
       "      <th>6</th>\n",
       "      <td>abbotgl01</td>\n",
       "      <td>Glenn</td>\n",
       "      <td>Abbott</td>\n",
       "      <td>200.0</td>\n",
       "      <td>78.0</td>\n",
       "      <td>0</td>\n",
       "      <td>1</td>\n",
       "      <td>0</td>\n",
       "      <td>1</td>\n",
       "      <td>13</td>\n",
       "      <td>...</td>\n",
       "      <td>13</td>\n",
       "      <td>707</td>\n",
       "      <td>1984-08-08</td>\n",
       "      <td>37.780822</td>\n",
       "      <td>N</td>\n",
       "      <td>0.0</td>\n",
       "      <td>248</td>\n",
       "      <td>204.0</td>\n",
       "      <td>Pitcher</td>\n",
       "      <td>eligible</td>\n",
       "    </tr>\n",
       "    <tr>\n",
       "      <th>7</th>\n",
       "      <td>abbotji01</td>\n",
       "      <td>Jim</td>\n",
       "      <td>Abbott</td>\n",
       "      <td>200.0</td>\n",
       "      <td>75.0</td>\n",
       "      <td>1</td>\n",
       "      <td>0</td>\n",
       "      <td>1</td>\n",
       "      <td>0</td>\n",
       "      <td>12</td>\n",
       "      <td>...</td>\n",
       "      <td>5</td>\n",
       "      <td>880</td>\n",
       "      <td>1999-07-21</td>\n",
       "      <td>22.821918</td>\n",
       "      <td>N</td>\n",
       "      <td>2005.0</td>\n",
       "      <td>263</td>\n",
       "      <td>254.0</td>\n",
       "      <td>Pitcher</td>\n",
       "      <td>eligible</td>\n",
       "    </tr>\n",
       "    <tr>\n",
       "      <th>8</th>\n",
       "      <td>abbotky01</td>\n",
       "      <td>Kyle</td>\n",
       "      <td>Abbott</td>\n",
       "      <td>200.0</td>\n",
       "      <td>76.0</td>\n",
       "      <td>1</td>\n",
       "      <td>0</td>\n",
       "      <td>1</td>\n",
       "      <td>0</td>\n",
       "      <td>4</td>\n",
       "      <td>...</td>\n",
       "      <td>4</td>\n",
       "      <td>112</td>\n",
       "      <td>1996-08-24</td>\n",
       "      <td>25.728767</td>\n",
       "      <td>N</td>\n",
       "      <td>0.0</td>\n",
       "      <td>57</td>\n",
       "      <td>22.0</td>\n",
       "      <td>Pitcher</td>\n",
       "      <td>not_eligible</td>\n",
       "    </tr>\n",
       "    <tr>\n",
       "      <th>9</th>\n",
       "      <td>abbotpa01</td>\n",
       "      <td>Paul</td>\n",
       "      <td>Abbott</td>\n",
       "      <td>185.0</td>\n",
       "      <td>75.0</td>\n",
       "      <td>0</td>\n",
       "      <td>1</td>\n",
       "      <td>0</td>\n",
       "      <td>1</td>\n",
       "      <td>13</td>\n",
       "      <td>...</td>\n",
       "      <td>17</td>\n",
       "      <td>421</td>\n",
       "      <td>2004-08-07</td>\n",
       "      <td>17.769863</td>\n",
       "      <td>N</td>\n",
       "      <td>0.0</td>\n",
       "      <td>162</td>\n",
       "      <td>112.0</td>\n",
       "      <td>Pitcher</td>\n",
       "      <td>eligible</td>\n",
       "    </tr>\n",
       "  </tbody>\n",
       "</table>\n",
       "<p>10 rows × 34 columns</p>\n",
       "</div>"
      ],
      "text/plain": [
       "    playerID nameFirst nameLast  weight  height  bats_L  bats_R  throws_L  \\\n",
       "0  aardsda01     David  Aardsma   215.0    75.0       0       1         0   \n",
       "1   aasedo01       Don     Aase   190.0    75.0       0       1         0   \n",
       "2   abadfe01  Fernando     Abad   235.0    74.0       1       0         1   \n",
       "3  abbeybe01      Bert    Abbey   175.0    71.0       0       1         0   \n",
       "4  abbotco01      Cory   Abbott   210.0    73.0       0       1         0   \n",
       "5  abbotda01       Dan   Abbott   190.0    71.0       0       1         0   \n",
       "6  abbotgl01     Glenn   Abbott   200.0    78.0       0       1         0   \n",
       "7  abbotji01       Jim   Abbott   200.0    75.0       1       0         1   \n",
       "8  abbotky01      Kyle   Abbott   200.0    76.0       1       0         1   \n",
       "9  abbotpa01      Paul   Abbott   185.0    75.0       0       1         0   \n",
       "\n",
       "   throws_R  Seasons  ...  Games_Finished  Runs_Allowed   finalGame  \\\n",
       "0         1        9  ...             141           169  2015-08-23   \n",
       "1         1       13  ...             235           503  1990-10-03   \n",
       "2         0       12  ...             101           155  2021-10-01   \n",
       "3         1        7  ...              14           442  1896-09-23   \n",
       "4         1        1  ...               2            15  2021-10-02   \n",
       "5         1        1  ...               2            14  1890-05-23   \n",
       "6         1       13  ...              13           707  1984-08-08   \n",
       "7         0       12  ...               5           880  1999-07-21   \n",
       "8         0        4  ...               4           112  1996-08-24   \n",
       "9         1       13  ...              17           421  2004-08-07   \n",
       "\n",
       "   Retired_Years  inducted  yearID  Total_Games  Games_Started  \\\n",
       "0       6.720548         N     0.0          331            0.0   \n",
       "1      31.624658         N     0.0          448           91.0   \n",
       "2       0.608219         N     0.0          400            6.0   \n",
       "3     125.712329         N     0.0           79            0.0   \n",
       "4       0.605479         N     0.0            8            1.0   \n",
       "5     132.054795         N     0.0            3            0.0   \n",
       "6      37.780822         N     0.0          248          204.0   \n",
       "7      22.821918         N  2005.0          263          254.0   \n",
       "8      25.728767         N     0.0           57           22.0   \n",
       "9      17.769863         N     0.0          162          112.0   \n",
       "\n",
       "   Primary_Position  Hall_Eligible  \n",
       "0           Pitcher   not_eligible  \n",
       "1           Pitcher       eligible  \n",
       "2           Pitcher   not_eligible  \n",
       "3           Pitcher   not_eligible  \n",
       "4           Pitcher   not_eligible  \n",
       "5           Pitcher   not_eligible  \n",
       "6           Pitcher       eligible  \n",
       "7           Pitcher       eligible  \n",
       "8           Pitcher   not_eligible  \n",
       "9           Pitcher       eligible  \n",
       "\n",
       "[10 rows x 34 columns]"
      ]
     },
     "execution_count": 11,
     "metadata": {},
     "output_type": "execute_result"
    }
   ],
   "source": [
    "Pitchers_df = pd.read_csv('Combined CSV\\Pitchers_Complete.csv')\n",
    "\n",
    "Pitchers_df.head(10)"
   ]
  },
  {
   "cell_type": "code",
   "execution_count": 12,
   "id": "2035d0d7",
   "metadata": {},
   "outputs": [
    {
     "data": {
      "image/png": "[encoded data removed]",
      "text/plain": [
       "<Figure size 432x288 with 1 Axes>"
      ]
     },
     "metadata": {
      "needs_background": "light"
     },
     "output_type": "display_data"
    }
   ],
   "source": [
    "plt.scatter(Pitchers_df.Retired_Years, Pitchers_df.Total_Games)\n",
    "plt.xlabel('Retired Years')\n",
    "plt.ylabel('Total Games')\n",
    "plt.show()"
   ]
  },
  {
   "cell_type": "code",
   "execution_count": 13,
   "id": "ccf69c6f",
   "metadata": {},
   "outputs": [],
   "source": [
    "x = Pitchers_df.Retired_Years.values.reshape(-1, 1)"
   ]
  },
  {
   "cell_type": "code",
   "execution_count": 14,
   "id": "48ef28b3",
   "metadata": {},
   "outputs": [
    {
     "data": {
      "text/plain": [
       "array([[  6.72054795],\n",
       "       [ 31.62465753],\n",
       "       [  0.60821918],\n",
       "       [125.71232877],\n",
       "       [  0.60547945]])"
      ]
     },
     "execution_count": 14,
     "metadata": {},
     "output_type": "execute_result"
    }
   ],
   "source": [
    "x[:5]"
   ]
  },
  {
   "cell_type": "code",
   "execution_count": 15,
   "id": "ae96c406",
   "metadata": {},
   "outputs": [
    {
     "data": {
      "text/plain": [
       "(9427, 1)"
      ]
     },
     "execution_count": 15,
     "metadata": {},
     "output_type": "execute_result"
    }
   ],
   "source": [
    "x.shape"
   ]
  },
  {
   "cell_type": "code",
   "execution_count": 16,
   "id": "7cab9882",
   "metadata": {},
   "outputs": [],
   "source": [
    "y = Pitchers_df.Total_Games"
   ]
  },
  {
   "cell_type": "code",
   "execution_count": 17,
   "id": "6c7ece92",
   "metadata": {},
   "outputs": [],
   "source": [
    "model = LinearRegression()"
   ]
  },
  {
   "cell_type": "code",
   "execution_count": 18,
   "id": "0ec9dcef",
   "metadata": {},
   "outputs": [
    {
     "data": {
      "text/plain": [
       "LinearRegression()"
      ]
     },
     "execution_count": 18,
     "metadata": {},
     "output_type": "execute_result"
    }
   ],
   "source": [
    "model.fit(x, y)"
   ]
  },
  {
   "cell_type": "code",
   "execution_count": 19,
   "id": "7f26e6da",
   "metadata": {},
   "outputs": [
    {
     "name": "stdout",
     "output_type": "stream",
     "text": [
      "(9427,)\n"
     ]
    }
   ],
   "source": [
    "y_pred = model.predict(x)\n",
    "print(y_pred.shape)"
   ]
  },
  {
   "cell_type": "code",
   "execution_count": 20,
   "id": "fab3daf9",
   "metadata": {},
   "outputs": [
    {
     "data": {
      "image/png": "[encoded data removed]",
      "text/plain": [
       "<Figure size 432x288 with 1 Axes>"
      ]
     },
     "metadata": {
      "needs_background": "light"
     },
     "output_type": "display_data"
    }
   ],
   "source": [
    "plt.scatter(x, y)\n",
    "plt.plot(x, y_pred, color='red')\n",
    "plt.show()"
   ]
  },
  {
   "cell_type": "code",
   "execution_count": 21,
   "id": "ddaa3e6f",
   "metadata": {},
   "outputs": [
    {
     "name": "stdout",
     "output_type": "stream",
     "text": [
      "[-0.71453591]\n",
      "160.75512618849092\n"
     ]
    }
   ],
   "source": [
    "print(model.coef_)\n",
    "print(model.intercept_)"
   ]
  },
  {
   "cell_type": "code",
   "execution_count": null,
   "id": "6f89d5ed",
   "metadata": {},
   "outputs": [],
   "source": []
  },
  {
   "cell_type": "code",
   "execution_count": null,
   "id": "0dc7383e",
   "metadata": {},
   "outputs": [],
   "source": []
  },
  {
   "cell_type": "code",
   "execution_count": null,
   "id": "ed748f15",
   "metadata": {},
   "outputs": [],
   "source": []
  },
  {
   "cell_type": "code",
   "execution_count": null,
   "id": "8da56f8d",
   "metadata": {},
   "outputs": [],
   "source": []
  },
  {
   "cell_type": "code",
   "execution_count": null,
   "id": "300c4e02",
   "metadata": {},
   "outputs": [],
   "source": []
  },
  {
   "cell_type": "code",
   "execution_count": null,
   "id": "08324cc1",
   "metadata": {},
   "outputs": [],
   "source": []
  },
  {
   "cell_type": "code",
   "execution_count": null,
   "id": "b9469e0e",
   "metadata": {},
   "outputs": [],
   "source": []
  },
  {
   "cell_type": "code",
   "execution_count": null,
   "id": "5ca77770",
   "metadata": {},
   "outputs": [],
   "source": []
  },
  {
   "cell_type": "code",
   "execution_count": null,
   "id": "325271c6",
   "metadata": {},
   "outputs": [],
   "source": []
  },
  {
   "cell_type": "code",
   "execution_count": null,
   "id": "dc6e362f",
   "metadata": {},
   "outputs": [],
   "source": []
  },
  {
   "cell_type": "code",
   "execution_count": null,
   "id": "83095fc7",
   "metadata": {},
   "outputs": [],
   "source": []
  },
  {
   "cell_type": "code",
   "execution_count": null,
   "id": "f6d4299c",
   "metadata": {},
   "outputs": [],
   "source": []
  },
  {
   "cell_type": "code",
   "execution_count": null,
   "id": "442b3fb7",
   "metadata": {},
   "outputs": [],
   "source": []
  },
  {
   "cell_type": "code",
   "execution_count": null,
   "id": "e0d0d26c",
   "metadata": {},
   "outputs": [],
   "source": []
  }
 ],
 "metadata": {
  "kernelspec": {
   "display_name": "mlenv",
   "language": "python",
   "name": "mlenv"
  },
  "language_info": {
   "codemirror_mode": {
    "name": "ipython",
    "version": 3
   },
   "file_extension": ".py",
   "mimetype": "text/x-python",
   "name": "python",
   "nbconvert_exporter": "python",
   "pygments_lexer": "ipython3",
   "version": "3.7.11"
  }
 },
 "nbformat": 4,
 "nbformat_minor": 5
}
