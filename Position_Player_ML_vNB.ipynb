{
 "cells": [
  {
   "cell_type": "code",
   "execution_count": 398,
   "id": "4a8f2402",
   "metadata": {},
   "outputs": [],
   "source": [
    "import warnings\n",
    "warnings.filterwarnings('ignore')"
   ]
  },
  {
   "cell_type": "code",
   "execution_count": 399,
   "id": "c41a9dac",
   "metadata": {},
   "outputs": [],
   "source": [
    "from imblearn.ensemble import BalancedRandomForestClassifier\n",
    "import pandas as pd\n",
    "import numpy as np\n",
    "import matplotlib.pyplot as plt"
   ]
  },
  {
   "cell_type": "code",
   "execution_count": 400,
   "id": "a701d8fc",
   "metadata": {},
   "outputs": [],
   "source": [
    "from sklearn.metrics import balanced_accuracy_score\n",
    "from sklearn.metrics import confusion_matrix\n",
    "from imblearn.metrics import classification_report_imbalanced"
   ]
  },
  {
   "cell_type": "code",
   "execution_count": 401,
   "id": "604b650d",
   "metadata": {},
   "outputs": [],
   "source": [
    "Position_Player_df = pd.read_csv('Combined CSV\\PositionPlayers_Complete.csv')"
   ]
  },
  {
   "cell_type": "code",
   "execution_count": 402,
   "id": "684f4a30",
   "metadata": {},
   "outputs": [
    {
     "data": {
      "text/plain": [
       "(10506, 45)"
      ]
     },
     "execution_count": 402,
     "metadata": {},
     "output_type": "execute_result"
    }
   ],
   "source": [
    "Position_Player_df.shape"
   ]
  },
  {
   "cell_type": "code",
   "execution_count": 403,
   "id": "e44c89fb",
   "metadata": {},
   "outputs": [
    {
     "data": {
      "text/plain": [
       "Index(['playerID', 'nameFirst', 'nameLast', 'weight', 'height', 'bats_L',\n",
       "       'bats_R', 'throws_L', 'throws_R', 'Seasons', 'Games', 'At_Bats', 'Runs',\n",
       "       'Hits', 'Doubles', 'Triples', 'Homeruns', 'RBIs', 'Stolen_Bases',\n",
       "       'Walks', 'Intentional_Walks', 'Strike_Outs', 'Hit_by_Pitch', 'Sac_Hits',\n",
       "       'Sac_Flys', 'Double_Plays', 'finalGame', 'Retired_Years', 'inducted',\n",
       "       'yearID', 'Total_Games', 'Games_Started', 'Pitcher', 'Catcher',\n",
       "       'FirstBase', 'SecondBase', 'ThirdBase', 'ShortStop', 'LeftField',\n",
       "       'CenterField', 'RightField', 'Outfield', 'DH', 'Primary_Position',\n",
       "       'Hall_Eligible'],\n",
       "      dtype='object')"
      ]
     },
     "execution_count": 403,
     "metadata": {},
     "output_type": "execute_result"
    }
   ],
   "source": [
    "Position_Player_df.columns"
   ]
  },
  {
   "cell_type": "code",
   "execution_count": 404,
   "id": "a9dec071",
   "metadata": {},
   "outputs": [
    {
     "data": {
      "text/html": [
       "<div>\n",
       "<style scoped>\n",
       "    .dataframe tbody tr th:only-of-type {\n",
       "        vertical-align: middle;\n",
       "    }\n",
       "\n",
       "    .dataframe tbody tr th {\n",
       "        vertical-align: top;\n",
       "    }\n",
       "\n",
       "    .dataframe thead th {\n",
       "        text-align: right;\n",
       "    }\n",
       "</style>\n",
       "<table border=\"1\" class=\"dataframe\">\n",
       "  <thead>\n",
       "    <tr style=\"text-align: right;\">\n",
       "      <th></th>\n",
       "      <th>playerID</th>\n",
       "      <th>nameFirst</th>\n",
       "      <th>nameLast</th>\n",
       "      <th>weight</th>\n",
       "      <th>height</th>\n",
       "      <th>bats_L</th>\n",
       "      <th>bats_R</th>\n",
       "      <th>throws_L</th>\n",
       "      <th>throws_R</th>\n",
       "      <th>Seasons</th>\n",
       "      <th>...</th>\n",
       "      <th>SecondBase</th>\n",
       "      <th>ThirdBase</th>\n",
       "      <th>ShortStop</th>\n",
       "      <th>LeftField</th>\n",
       "      <th>CenterField</th>\n",
       "      <th>RightField</th>\n",
       "      <th>Outfield</th>\n",
       "      <th>DH</th>\n",
       "      <th>Primary_Position</th>\n",
       "      <th>Hall_Eligible</th>\n",
       "    </tr>\n",
       "  </thead>\n",
       "  <tbody>\n",
       "    <tr>\n",
       "      <th>0</th>\n",
       "      <td>aaronha01</td>\n",
       "      <td>Hank</td>\n",
       "      <td>Aaron</td>\n",
       "      <td>180.0</td>\n",
       "      <td>72.0</td>\n",
       "      <td>0</td>\n",
       "      <td>1</td>\n",
       "      <td>0</td>\n",
       "      <td>1</td>\n",
       "      <td>23</td>\n",
       "      <td>...</td>\n",
       "      <td>0.013038</td>\n",
       "      <td>0.002122</td>\n",
       "      <td>0.000000</td>\n",
       "      <td>0.095512</td>\n",
       "      <td>0.093390</td>\n",
       "      <td>0.659187</td>\n",
       "      <td>0.836871</td>\n",
       "      <td>0.060946</td>\n",
       "      <td>Outfield</td>\n",
       "      <td>1</td>\n",
       "    </tr>\n",
       "    <tr>\n",
       "      <th>1</th>\n",
       "      <td>aaronto01</td>\n",
       "      <td>Tommie</td>\n",
       "      <td>Aaron</td>\n",
       "      <td>190.0</td>\n",
       "      <td>75.0</td>\n",
       "      <td>0</td>\n",
       "      <td>1</td>\n",
       "      <td>0</td>\n",
       "      <td>1</td>\n",
       "      <td>7</td>\n",
       "      <td>...</td>\n",
       "      <td>0.016018</td>\n",
       "      <td>0.022883</td>\n",
       "      <td>0.000000</td>\n",
       "      <td>0.308924</td>\n",
       "      <td>0.002288</td>\n",
       "      <td>0.004577</td>\n",
       "      <td>0.313501</td>\n",
       "      <td>0.000000</td>\n",
       "      <td>FirstBase</td>\n",
       "      <td>0</td>\n",
       "    </tr>\n",
       "    <tr>\n",
       "      <th>2</th>\n",
       "      <td>abadan01</td>\n",
       "      <td>Andy</td>\n",
       "      <td>Abad</td>\n",
       "      <td>184.0</td>\n",
       "      <td>73.0</td>\n",
       "      <td>1</td>\n",
       "      <td>0</td>\n",
       "      <td>1</td>\n",
       "      <td>0</td>\n",
       "      <td>3</td>\n",
       "      <td>...</td>\n",
       "      <td>0.000000</td>\n",
       "      <td>0.000000</td>\n",
       "      <td>0.000000</td>\n",
       "      <td>0.000000</td>\n",
       "      <td>0.000000</td>\n",
       "      <td>0.066667</td>\n",
       "      <td>0.066667</td>\n",
       "      <td>0.000000</td>\n",
       "      <td>FirstBase</td>\n",
       "      <td>0</td>\n",
       "    </tr>\n",
       "    <tr>\n",
       "      <th>3</th>\n",
       "      <td>abadijo01</td>\n",
       "      <td>John</td>\n",
       "      <td>Abadie</td>\n",
       "      <td>192.0</td>\n",
       "      <td>72.0</td>\n",
       "      <td>0</td>\n",
       "      <td>1</td>\n",
       "      <td>0</td>\n",
       "      <td>1</td>\n",
       "      <td>3</td>\n",
       "      <td>...</td>\n",
       "      <td>0.000000</td>\n",
       "      <td>0.000000</td>\n",
       "      <td>0.000000</td>\n",
       "      <td>0.000000</td>\n",
       "      <td>0.000000</td>\n",
       "      <td>0.000000</td>\n",
       "      <td>0.000000</td>\n",
       "      <td>0.000000</td>\n",
       "      <td>FirstBase</td>\n",
       "      <td>0</td>\n",
       "    </tr>\n",
       "    <tr>\n",
       "      <th>4</th>\n",
       "      <td>abbated01</td>\n",
       "      <td>Ed</td>\n",
       "      <td>Abbaticchio</td>\n",
       "      <td>170.0</td>\n",
       "      <td>71.0</td>\n",
       "      <td>0</td>\n",
       "      <td>1</td>\n",
       "      <td>0</td>\n",
       "      <td>1</td>\n",
       "      <td>11</td>\n",
       "      <td>...</td>\n",
       "      <td>0.490058</td>\n",
       "      <td>0.023392</td>\n",
       "      <td>0.453801</td>\n",
       "      <td>0.000000</td>\n",
       "      <td>0.002339</td>\n",
       "      <td>0.001170</td>\n",
       "      <td>0.003509</td>\n",
       "      <td>0.000000</td>\n",
       "      <td>SecondBase</td>\n",
       "      <td>1</td>\n",
       "    </tr>\n",
       "  </tbody>\n",
       "</table>\n",
       "<p>5 rows × 45 columns</p>\n",
       "</div>"
      ],
      "text/plain": [
       "    playerID nameFirst     nameLast  weight  height  bats_L  bats_R  throws_L  \\\n",
       "0  aaronha01      Hank        Aaron   180.0    72.0       0       1         0   \n",
       "1  aaronto01    Tommie        Aaron   190.0    75.0       0       1         0   \n",
       "2   abadan01      Andy         Abad   184.0    73.0       1       0         1   \n",
       "3  abadijo01      John       Abadie   192.0    72.0       0       1         0   \n",
       "4  abbated01        Ed  Abbaticchio   170.0    71.0       0       1         0   \n",
       "\n",
       "   throws_R  Seasons  ...  SecondBase  ThirdBase  ShortStop  LeftField  \\\n",
       "0         1       23  ...    0.013038   0.002122   0.000000   0.095512   \n",
       "1         1        7  ...    0.016018   0.022883   0.000000   0.308924   \n",
       "2         0        3  ...    0.000000   0.000000   0.000000   0.000000   \n",
       "3         1        3  ...    0.000000   0.000000   0.000000   0.000000   \n",
       "4         1       11  ...    0.490058   0.023392   0.453801   0.000000   \n",
       "\n",
       "   CenterField  RightField  Outfield        DH  Primary_Position  \\\n",
       "0     0.093390    0.659187  0.836871  0.060946          Outfield   \n",
       "1     0.002288    0.004577  0.313501  0.000000         FirstBase   \n",
       "2     0.000000    0.066667  0.066667  0.000000         FirstBase   \n",
       "3     0.000000    0.000000  0.000000  0.000000         FirstBase   \n",
       "4     0.002339    0.001170  0.003509  0.000000        SecondBase   \n",
       "\n",
       "   Hall_Eligible  \n",
       "0              1  \n",
       "1              0  \n",
       "2              0  \n",
       "3              0  \n",
       "4              1  \n",
       "\n",
       "[5 rows x 45 columns]"
      ]
     },
     "execution_count": 404,
     "metadata": {},
     "output_type": "execute_result"
    }
   ],
   "source": [
    "Position_Player_df.head()"
   ]
  },
  {
   "cell_type": "code",
   "execution_count": 405,
   "id": "c0c33610",
   "metadata": {},
   "outputs": [
    {
     "data": {
      "text/html": [
       "<div>\n",
       "<style scoped>\n",
       "    .dataframe tbody tr th:only-of-type {\n",
       "        vertical-align: middle;\n",
       "    }\n",
       "\n",
       "    .dataframe tbody tr th {\n",
       "        vertical-align: top;\n",
       "    }\n",
       "\n",
       "    .dataframe thead th {\n",
       "        text-align: right;\n",
       "    }\n",
       "</style>\n",
       "<table border=\"1\" class=\"dataframe\">\n",
       "  <thead>\n",
       "    <tr style=\"text-align: right;\">\n",
       "      <th></th>\n",
       "      <th>playerID</th>\n",
       "      <th>nameFirst</th>\n",
       "      <th>nameLast</th>\n",
       "      <th>weight</th>\n",
       "      <th>height</th>\n",
       "      <th>bats_L</th>\n",
       "      <th>bats_R</th>\n",
       "      <th>throws_L</th>\n",
       "      <th>throws_R</th>\n",
       "      <th>Seasons</th>\n",
       "      <th>...</th>\n",
       "      <th>SecondBase</th>\n",
       "      <th>ThirdBase</th>\n",
       "      <th>ShortStop</th>\n",
       "      <th>LeftField</th>\n",
       "      <th>CenterField</th>\n",
       "      <th>RightField</th>\n",
       "      <th>Outfield</th>\n",
       "      <th>DH</th>\n",
       "      <th>Primary_Position</th>\n",
       "      <th>Hall_Eligible</th>\n",
       "    </tr>\n",
       "  </thead>\n",
       "  <tbody>\n",
       "    <tr>\n",
       "      <th>0</th>\n",
       "      <td>aaronha01</td>\n",
       "      <td>Hank</td>\n",
       "      <td>Aaron</td>\n",
       "      <td>180.0</td>\n",
       "      <td>72.0</td>\n",
       "      <td>0</td>\n",
       "      <td>1</td>\n",
       "      <td>0</td>\n",
       "      <td>1</td>\n",
       "      <td>23</td>\n",
       "      <td>...</td>\n",
       "      <td>0.013038</td>\n",
       "      <td>0.002122</td>\n",
       "      <td>0.000000</td>\n",
       "      <td>0.095512</td>\n",
       "      <td>0.093390</td>\n",
       "      <td>0.659187</td>\n",
       "      <td>0.836871</td>\n",
       "      <td>0.060946</td>\n",
       "      <td>Outfield</td>\n",
       "      <td>1</td>\n",
       "    </tr>\n",
       "    <tr>\n",
       "      <th>4</th>\n",
       "      <td>abbated01</td>\n",
       "      <td>Ed</td>\n",
       "      <td>Abbaticchio</td>\n",
       "      <td>170.0</td>\n",
       "      <td>71.0</td>\n",
       "      <td>0</td>\n",
       "      <td>1</td>\n",
       "      <td>0</td>\n",
       "      <td>1</td>\n",
       "      <td>11</td>\n",
       "      <td>...</td>\n",
       "      <td>0.490058</td>\n",
       "      <td>0.023392</td>\n",
       "      <td>0.453801</td>\n",
       "      <td>0.000000</td>\n",
       "      <td>0.002339</td>\n",
       "      <td>0.001170</td>\n",
       "      <td>0.003509</td>\n",
       "      <td>0.000000</td>\n",
       "      <td>SecondBase</td>\n",
       "      <td>1</td>\n",
       "    </tr>\n",
       "    <tr>\n",
       "      <th>8</th>\n",
       "      <td>abbotku01</td>\n",
       "      <td>Kurt</td>\n",
       "      <td>Abbott</td>\n",
       "      <td>180.0</td>\n",
       "      <td>71.0</td>\n",
       "      <td>0</td>\n",
       "      <td>1</td>\n",
       "      <td>0</td>\n",
       "      <td>1</td>\n",
       "      <td>11</td>\n",
       "      <td>...</td>\n",
       "      <td>0.246439</td>\n",
       "      <td>0.061254</td>\n",
       "      <td>0.497151</td>\n",
       "      <td>0.045584</td>\n",
       "      <td>0.005698</td>\n",
       "      <td>0.011396</td>\n",
       "      <td>0.061254</td>\n",
       "      <td>0.008547</td>\n",
       "      <td>ShortStop</td>\n",
       "      <td>1</td>\n",
       "    </tr>\n",
       "    <tr>\n",
       "      <th>15</th>\n",
       "      <td>abramca01</td>\n",
       "      <td>Cal</td>\n",
       "      <td>Abrams</td>\n",
       "      <td>185.0</td>\n",
       "      <td>72.0</td>\n",
       "      <td>1</td>\n",
       "      <td>0</td>\n",
       "      <td>1</td>\n",
       "      <td>0</td>\n",
       "      <td>12</td>\n",
       "      <td>...</td>\n",
       "      <td>0.000000</td>\n",
       "      <td>0.000000</td>\n",
       "      <td>0.000000</td>\n",
       "      <td>0.167549</td>\n",
       "      <td>0.176367</td>\n",
       "      <td>0.477954</td>\n",
       "      <td>0.776014</td>\n",
       "      <td>0.000000</td>\n",
       "      <td>Outfield</td>\n",
       "      <td>1</td>\n",
       "    </tr>\n",
       "    <tr>\n",
       "      <th>16</th>\n",
       "      <td>abreubo01</td>\n",
       "      <td>Bobby</td>\n",
       "      <td>Abreu</td>\n",
       "      <td>220.0</td>\n",
       "      <td>72.0</td>\n",
       "      <td>1</td>\n",
       "      <td>0</td>\n",
       "      <td>0</td>\n",
       "      <td>1</td>\n",
       "      <td>22</td>\n",
       "      <td>...</td>\n",
       "      <td>0.000000</td>\n",
       "      <td>0.000000</td>\n",
       "      <td>0.000000</td>\n",
       "      <td>0.058557</td>\n",
       "      <td>0.008660</td>\n",
       "      <td>0.820619</td>\n",
       "      <td>0.881649</td>\n",
       "      <td>0.066392</td>\n",
       "      <td>Outfield</td>\n",
       "      <td>1</td>\n",
       "    </tr>\n",
       "  </tbody>\n",
       "</table>\n",
       "<p>5 rows × 45 columns</p>\n",
       "</div>"
      ],
      "text/plain": [
       "     playerID nameFirst     nameLast  weight  height  bats_L  bats_R  \\\n",
       "0   aaronha01      Hank        Aaron   180.0    72.0       0       1   \n",
       "4   abbated01        Ed  Abbaticchio   170.0    71.0       0       1   \n",
       "8   abbotku01      Kurt       Abbott   180.0    71.0       0       1   \n",
       "15  abramca01       Cal       Abrams   185.0    72.0       1       0   \n",
       "16  abreubo01     Bobby        Abreu   220.0    72.0       1       0   \n",
       "\n",
       "    throws_L  throws_R  Seasons  ...  SecondBase  ThirdBase  ShortStop  \\\n",
       "0          0         1       23  ...    0.013038   0.002122   0.000000   \n",
       "4          0         1       11  ...    0.490058   0.023392   0.453801   \n",
       "8          0         1       11  ...    0.246439   0.061254   0.497151   \n",
       "15         1         0       12  ...    0.000000   0.000000   0.000000   \n",
       "16         0         1       22  ...    0.000000   0.000000   0.000000   \n",
       "\n",
       "    LeftField  CenterField  RightField  Outfield        DH  Primary_Position  \\\n",
       "0    0.095512     0.093390    0.659187  0.836871  0.060946          Outfield   \n",
       "4    0.000000     0.002339    0.001170  0.003509  0.000000        SecondBase   \n",
       "8    0.045584     0.005698    0.011396  0.061254  0.008547         ShortStop   \n",
       "15   0.167549     0.176367    0.477954  0.776014  0.000000          Outfield   \n",
       "16   0.058557     0.008660    0.820619  0.881649  0.066392          Outfield   \n",
       "\n",
       "    Hall_Eligible  \n",
       "0               1  \n",
       "4               1  \n",
       "8               1  \n",
       "15              1  \n",
       "16              1  \n",
       "\n",
       "[5 rows x 45 columns]"
      ]
     },
     "execution_count": 405,
     "metadata": {},
     "output_type": "execute_result"
    }
   ],
   "source": [
    "Position_Player_train_model = Position_Player_df[Position_Player_df['Hall_Eligible']==1]\n",
    "Position_Player_train_model.head()"
   ]
  },
  {
   "cell_type": "code",
   "execution_count": 406,
   "id": "e6391751",
   "metadata": {},
   "outputs": [
    {
     "name": "stdout",
     "output_type": "stream",
     "text": [
      "15.210191082802547\n"
     ]
    }
   ],
   "source": [
    "scale_pos_weight = (Position_Player_train_model.inducted.value_counts()[0])/Position_Player_train_model.inducted.value_counts()[1]\n",
    "print(scale_pos_weight)"
   ]
  },
  {
   "cell_type": "code",
   "execution_count": 407,
   "id": "b1aef8de",
   "metadata": {},
   "outputs": [],
   "source": [
    "# Getting data ready for machine learning\n",
    "data = Position_Player_train_model.drop(['inducted', \n",
    "                                  'playerID', \n",
    "                                  'nameFirst', \n",
    "                                  'nameLast', \n",
    "                                  'finalGame', \n",
    "                                  'yearID',\n",
    "                                  'Primary_Position',\n",
    "                                  'Hall_Eligible'], axis=1)\n",
    "data.fillna(0, inplace=True)\n",
    "target = Position_Player_train_model['inducted']\n",
    "target.fillna(0, inplace=True)\n",
    "feature_names = data.columns"
   ]
  },
  {
   "cell_type": "code",
   "execution_count": 408,
   "id": "4f20efb9",
   "metadata": {},
   "outputs": [],
   "source": [
    "from sklearn.model_selection import train_test_split\n",
    "from sklearn.preprocessing import StandardScaler\n",
    "\n",
    "X_train, X_test, y_train, y_test = train_test_split(data, target, random_state=42)\n",
    "X_scaler = StandardScaler().fit(X_train)\n",
    "X_train_scaled = X_scaler.transform(X_train)\n",
    "X_test_scaled = X_scaler.transform(X_test)"
   ]
  },
  {
   "cell_type": "code",
   "execution_count": 409,
   "id": "ef8f1c30",
   "metadata": {},
   "outputs": [
    {
     "data": {
      "text/plain": [
       "637"
      ]
     },
     "execution_count": 409,
     "metadata": {},
     "output_type": "execute_result"
    }
   ],
   "source": [
    "len(X_test)"
   ]
  },
  {
   "cell_type": "code",
   "execution_count": 410,
   "id": "bbd20a00",
   "metadata": {},
   "outputs": [
    {
     "data": {
      "text/plain": [
       "0.8838304552590267"
      ]
     },
     "execution_count": 410,
     "metadata": {},
     "output_type": "execute_result"
    }
   ],
   "source": [
    "#CLF = Classifier\n",
    "clf = BalancedRandomForestClassifier(n_estimators=100, random_state=1)\n",
    "clf = clf.fit(X_train_scaled, y_train)\n",
    "clf.score(X_test_scaled, y_test)"
   ]
  },
  {
   "cell_type": "code",
   "execution_count": 411,
   "id": "dff0e2a4",
   "metadata": {},
   "outputs": [
    {
     "name": "stdout",
     "output_type": "stream",
     "text": [
      "[[525  73]\n",
      " [  1  38]]\n"
     ]
    }
   ],
   "source": [
    "y_predicted = clf.predict(X_test_scaled)\n",
    "from sklearn.metrics import confusion_matrix, classification_report\n",
    "from imblearn.metrics import classification_report_imbalanced\n",
    "print(confusion_matrix(y_test, y_predicted))\n",
    "\n",
    "predictions_df = pd.concat([pd.DataFrame(X_test_scaled),              \n",
    "                            pd.DataFrame(dict(predicted= y_predicted,actual=y_test\n",
    "                            )).reset_index(drop=True)], axis=1)"
   ]
  },
  {
   "cell_type": "code",
   "execution_count": 412,
   "id": "a4fe955c",
   "metadata": {},
   "outputs": [
    {
     "name": "stdout",
     "output_type": "stream",
     "text": [
      "                   pre       rec       spe        f1       geo       iba       sup\n",
      "\n",
      "          0       1.00      0.88      0.97      0.93      0.92      0.85       598\n",
      "          1       0.34      0.97      0.88      0.51      0.92      0.86        39\n",
      "\n",
      "avg / total       0.96      0.88      0.97      0.91      0.92      0.85       637\n",
      "\n"
     ]
    }
   ],
   "source": [
    "# Print the imbalanced classification report\n",
    "print(classification_report_imbalanced(y_test, y_predicted))"
   ]
  },
  {
   "cell_type": "code",
   "execution_count": 413,
   "id": "b834f051",
   "metadata": {},
   "outputs": [
    {
     "data": {
      "text/plain": [
       "0.9261426978818283"
      ]
     },
     "execution_count": 413,
     "metadata": {},
     "output_type": "execute_result"
    }
   ],
   "source": [
    "# Calculated the balanced accuracy score\n",
    "balanced_accuracy_score(y_test, y_predicted) "
   ]
  },
  {
   "cell_type": "code",
   "execution_count": 414,
   "id": "756082b4",
   "metadata": {},
   "outputs": [
    {
     "data": {
      "text/plain": [
       "[(0.1356805553950914, 'RBIs'),\n",
       " (0.12081400576157915, 'Hits'),\n",
       " (0.09969822741173245, 'Runs'),\n",
       " (0.08626270782509667, 'At_Bats'),\n",
       " (0.0662839731510912, 'Total_Games'),\n",
       " (0.06600611702712983, 'Doubles'),\n",
       " (0.06146691390840423, 'Games'),\n",
       " (0.056121565194252376, 'Walks'),\n",
       " (0.0324881254899708, 'Triples'),\n",
       " (0.03067906309280309, 'Games_Started'),\n",
       " (0.028529556404944482, 'Retired_Years'),\n",
       " (0.02356021652549601, 'Hit_by_Pitch'),\n",
       " (0.016871415681282427, 'Stolen_Bases'),\n",
       " (0.01670100630903571, 'Sac_Flys'),\n",
       " (0.01648650264154889, 'Seasons'),\n",
       " (0.015647408827684093, 'Sac_Hits'),\n",
       " (0.013872259517066207, 'Strike_Outs'),\n",
       " (0.013360746320866028, 'Double_Plays'),\n",
       " (0.012562675747931549, 'Intentional_Walks'),\n",
       " (0.009638449707912947, 'Homeruns'),\n",
       " (0.00826124482025766, 'height'),\n",
       " (0.007948467121688674, 'Outfield'),\n",
       " (0.007891240100142293, 'LeftField'),\n",
       " (0.007597610828345199, 'FirstBase'),\n",
       " (0.007264990772095899, 'RightField'),\n",
       " (0.006861464651195357, 'weight'),\n",
       " (0.0057817977065267555, 'ThirdBase'),\n",
       " (0.004722404938556408, 'CenterField'),\n",
       " (0.003943883912882208, 'SecondBase'),\n",
       " (0.00346740032200289, 'ShortStop'),\n",
       " (0.003095873281055078, 'DH'),\n",
       " (0.0023754299123569206, 'Catcher'),\n",
       " (0.00229901936960139, 'Pitcher'),\n",
       " (0.0017002587000829697, 'throws_L'),\n",
       " (0.001469636898651539, 'bats_L'),\n",
       " (0.0013314098184318054, 'throws_R'),\n",
       " (0.0012563749052075304, 'bats_R')]"
      ]
     },
     "execution_count": 414,
     "metadata": {},
     "output_type": "execute_result"
    }
   ],
   "source": [
    "# List the features sorted in descending order by feature importance\n",
    "sorted(zip(clf.feature_importances_, data.columns), reverse=True)"
   ]
  },
  {
   "cell_type": "code",
   "execution_count": 415,
   "id": "053b640a",
   "metadata": {},
   "outputs": [
    {
     "data": {
      "text/plain": [
       "<BarContainer object of 37 artists>"
      ]
     },
     "execution_count": 415,
     "metadata": {},
     "output_type": "execute_result"
    },
    {
     "data": {
      "image/png": "[encoded data removed]",
      "text/plain": [
       "<Figure size 432x288 with 1 Axes>"
      ]
     },
     "metadata": {
      "needs_background": "light"
     },
     "output_type": "display_data"
    }
   ],
   "source": [
    "plt.barh(feature_names,clf.feature_importances_)"
   ]
  },
  {
   "cell_type": "code",
   "execution_count": 416,
   "id": "773ed078",
   "metadata": {},
   "outputs": [
    {
     "data": {
      "text/html": [
       "<div>\n",
       "<style scoped>\n",
       "    .dataframe tbody tr th:only-of-type {\n",
       "        vertical-align: middle;\n",
       "    }\n",
       "\n",
       "    .dataframe tbody tr th {\n",
       "        vertical-align: top;\n",
       "    }\n",
       "\n",
       "    .dataframe thead th {\n",
       "        text-align: right;\n",
       "    }\n",
       "</style>\n",
       "<table border=\"1\" class=\"dataframe\">\n",
       "  <thead>\n",
       "    <tr style=\"text-align: right;\">\n",
       "      <th></th>\n",
       "      <th>0</th>\n",
       "      <th>1</th>\n",
       "      <th>2</th>\n",
       "      <th>3</th>\n",
       "      <th>4</th>\n",
       "      <th>5</th>\n",
       "      <th>6</th>\n",
       "      <th>7</th>\n",
       "      <th>8</th>\n",
       "      <th>9</th>\n",
       "      <th>...</th>\n",
       "      <th>29</th>\n",
       "      <th>30</th>\n",
       "      <th>31</th>\n",
       "      <th>32</th>\n",
       "      <th>33</th>\n",
       "      <th>34</th>\n",
       "      <th>35</th>\n",
       "      <th>36</th>\n",
       "      <th>predicted</th>\n",
       "      <th>actual</th>\n",
       "    </tr>\n",
       "  </thead>\n",
       "  <tbody>\n",
       "    <tr>\n",
       "      <th>0</th>\n",
       "      <td>-0.687935</td>\n",
       "      <td>-0.762919</td>\n",
       "      <td>1.500142</td>\n",
       "      <td>-1.205173</td>\n",
       "      <td>-0.385624</td>\n",
       "      <td>0.389202</td>\n",
       "      <td>0.047816</td>\n",
       "      <td>1.775483</td>\n",
       "      <td>1.982616</td>\n",
       "      <td>2.053922</td>\n",
       "      <td>...</td>\n",
       "      <td>-0.439544</td>\n",
       "      <td>-0.468612</td>\n",
       "      <td>-0.433741</td>\n",
       "      <td>-0.360659</td>\n",
       "      <td>3.672978</td>\n",
       "      <td>-0.439346</td>\n",
       "      <td>1.628617</td>\n",
       "      <td>-0.343150</td>\n",
       "      <td>1</td>\n",
       "      <td>1</td>\n",
       "    </tr>\n",
       "    <tr>\n",
       "      <th>1</th>\n",
       "      <td>-0.792241</td>\n",
       "      <td>-2.088475</td>\n",
       "      <td>-0.666604</td>\n",
       "      <td>0.829756</td>\n",
       "      <td>-0.385624</td>\n",
       "      <td>0.389202</td>\n",
       "      <td>0.551867</td>\n",
       "      <td>0.984215</td>\n",
       "      <td>1.391951</td>\n",
       "      <td>2.668048</td>\n",
       "      <td>...</td>\n",
       "      <td>-0.403658</td>\n",
       "      <td>-0.451074</td>\n",
       "      <td>-0.387346</td>\n",
       "      <td>1.053822</td>\n",
       "      <td>1.308413</td>\n",
       "      <td>0.685063</td>\n",
       "      <td>1.648160</td>\n",
       "      <td>-0.343150</td>\n",
       "      <td>1</td>\n",
       "      <td>1</td>\n",
       "    </tr>\n",
       "    <tr>\n",
       "      <th>2</th>\n",
       "      <td>0.459431</td>\n",
       "      <td>0.562636</td>\n",
       "      <td>-0.666604</td>\n",
       "      <td>0.829756</td>\n",
       "      <td>-0.385624</td>\n",
       "      <td>0.389202</td>\n",
       "      <td>-0.960285</td>\n",
       "      <td>-1.398340</td>\n",
       "      <td>-1.309635</td>\n",
       "      <td>-1.199359</td>\n",
       "      <td>...</td>\n",
       "      <td>-0.443496</td>\n",
       "      <td>-0.468612</td>\n",
       "      <td>-0.433741</td>\n",
       "      <td>-0.577104</td>\n",
       "      <td>-0.481891</td>\n",
       "      <td>-0.544261</td>\n",
       "      <td>-0.834139</td>\n",
       "      <td>-0.343150</td>\n",
       "      <td>0</td>\n",
       "      <td>0</td>\n",
       "    </tr>\n",
       "    <tr>\n",
       "      <th>3</th>\n",
       "      <td>0.459431</td>\n",
       "      <td>1.446340</td>\n",
       "      <td>-0.666604</td>\n",
       "      <td>0.829756</td>\n",
       "      <td>-0.385624</td>\n",
       "      <td>0.389202</td>\n",
       "      <td>-0.456234</td>\n",
       "      <td>0.431028</td>\n",
       "      <td>0.019249</td>\n",
       "      <td>-0.074343</td>\n",
       "      <td>...</td>\n",
       "      <td>-0.443496</td>\n",
       "      <td>-0.232784</td>\n",
       "      <td>-0.433741</td>\n",
       "      <td>-0.170741</td>\n",
       "      <td>0.704451</td>\n",
       "      <td>0.899981</td>\n",
       "      <td>0.737135</td>\n",
       "      <td>-0.343150</td>\n",
       "      <td>0</td>\n",
       "      <td>0</td>\n",
       "    </tr>\n",
       "    <tr>\n",
       "      <th>4</th>\n",
       "      <td>0.094360</td>\n",
       "      <td>0.120784</td>\n",
       "      <td>-0.666604</td>\n",
       "      <td>-1.205173</td>\n",
       "      <td>2.593202</td>\n",
       "      <td>-2.569357</td>\n",
       "      <td>1.811993</td>\n",
       "      <td>0.157936</td>\n",
       "      <td>-0.228911</td>\n",
       "      <td>-0.111403</td>\n",
       "      <td>...</td>\n",
       "      <td>-0.443496</td>\n",
       "      <td>-0.468612</td>\n",
       "      <td>-0.433741</td>\n",
       "      <td>0.495809</td>\n",
       "      <td>1.061359</td>\n",
       "      <td>0.973792</td>\n",
       "      <td>1.200423</td>\n",
       "      <td>-0.165415</td>\n",
       "      <td>0</td>\n",
       "      <td>0</td>\n",
       "    </tr>\n",
       "    <tr>\n",
       "      <th>...</th>\n",
       "      <td>...</td>\n",
       "      <td>...</td>\n",
       "      <td>...</td>\n",
       "      <td>...</td>\n",
       "      <td>...</td>\n",
       "      <td>...</td>\n",
       "      <td>...</td>\n",
       "      <td>...</td>\n",
       "      <td>...</td>\n",
       "      <td>...</td>\n",
       "      <td>...</td>\n",
       "      <td>...</td>\n",
       "      <td>...</td>\n",
       "      <td>...</td>\n",
       "      <td>...</td>\n",
       "      <td>...</td>\n",
       "      <td>...</td>\n",
       "      <td>...</td>\n",
       "      <td>...</td>\n",
       "      <td>...</td>\n",
       "      <td>...</td>\n",
       "    </tr>\n",
       "    <tr>\n",
       "      <th>632</th>\n",
       "      <td>-0.427170</td>\n",
       "      <td>-0.321068</td>\n",
       "      <td>-0.666604</td>\n",
       "      <td>0.829756</td>\n",
       "      <td>-0.385624</td>\n",
       "      <td>0.389202</td>\n",
       "      <td>-0.456234</td>\n",
       "      <td>0.238463</td>\n",
       "      <td>0.263384</td>\n",
       "      <td>-0.029343</td>\n",
       "      <td>...</td>\n",
       "      <td>-0.440197</td>\n",
       "      <td>3.402142</td>\n",
       "      <td>-0.430667</td>\n",
       "      <td>-0.577104</td>\n",
       "      <td>-0.481891</td>\n",
       "      <td>-0.544261</td>\n",
       "      <td>-0.834139</td>\n",
       "      <td>-0.268119</td>\n",
       "      <td>0</td>\n",
       "      <td>0</td>\n",
       "    </tr>\n",
       "    <tr>\n",
       "      <th>633</th>\n",
       "      <td>-0.687935</td>\n",
       "      <td>0.120784</td>\n",
       "      <td>-0.666604</td>\n",
       "      <td>0.829756</td>\n",
       "      <td>-0.385624</td>\n",
       "      <td>0.389202</td>\n",
       "      <td>-0.456234</td>\n",
       "      <td>0.406520</td>\n",
       "      <td>0.264278</td>\n",
       "      <td>0.383604</td>\n",
       "      <td>...</td>\n",
       "      <td>-0.013161</td>\n",
       "      <td>-0.085058</td>\n",
       "      <td>2.716466</td>\n",
       "      <td>-0.573596</td>\n",
       "      <td>-0.472097</td>\n",
       "      <td>-0.544261</td>\n",
       "      <td>-0.826851</td>\n",
       "      <td>-0.333162</td>\n",
       "      <td>0</td>\n",
       "      <td>0</td>\n",
       "    </tr>\n",
       "    <tr>\n",
       "      <th>634</th>\n",
       "      <td>-0.166405</td>\n",
       "      <td>-0.762919</td>\n",
       "      <td>-0.666604</td>\n",
       "      <td>0.829756</td>\n",
       "      <td>-0.385624</td>\n",
       "      <td>0.389202</td>\n",
       "      <td>-0.708260</td>\n",
       "      <td>0.466040</td>\n",
       "      <td>0.669382</td>\n",
       "      <td>0.267132</td>\n",
       "      <td>...</td>\n",
       "      <td>-0.443496</td>\n",
       "      <td>3.669062</td>\n",
       "      <td>-0.433741</td>\n",
       "      <td>-0.577104</td>\n",
       "      <td>-0.481891</td>\n",
       "      <td>-0.544261</td>\n",
       "      <td>-0.834139</td>\n",
       "      <td>-0.343150</td>\n",
       "      <td>0</td>\n",
       "      <td>0</td>\n",
       "    </tr>\n",
       "    <tr>\n",
       "      <th>635</th>\n",
       "      <td>1.137419</td>\n",
       "      <td>3.213747</td>\n",
       "      <td>-0.666604</td>\n",
       "      <td>0.829756</td>\n",
       "      <td>-0.385624</td>\n",
       "      <td>0.389202</td>\n",
       "      <td>0.299841</td>\n",
       "      <td>0.336496</td>\n",
       "      <td>0.445815</td>\n",
       "      <td>0.534489</td>\n",
       "      <td>...</td>\n",
       "      <td>-0.443496</td>\n",
       "      <td>-0.468612</td>\n",
       "      <td>-0.433741</td>\n",
       "      <td>-0.183572</td>\n",
       "      <td>-0.481891</td>\n",
       "      <td>-0.533537</td>\n",
       "      <td>-0.627861</td>\n",
       "      <td>0.232506</td>\n",
       "      <td>0</td>\n",
       "      <td>0</td>\n",
       "    </tr>\n",
       "    <tr>\n",
       "      <th>636</th>\n",
       "      <td>0.094360</td>\n",
       "      <td>0.562636</td>\n",
       "      <td>1.500142</td>\n",
       "      <td>-1.205173</td>\n",
       "      <td>2.593202</td>\n",
       "      <td>-2.569357</td>\n",
       "      <td>-0.708260</td>\n",
       "      <td>0.686615</td>\n",
       "      <td>0.673406</td>\n",
       "      <td>0.285662</td>\n",
       "      <td>...</td>\n",
       "      <td>-0.443496</td>\n",
       "      <td>-0.468612</td>\n",
       "      <td>-0.433741</td>\n",
       "      <td>-0.451120</td>\n",
       "      <td>-0.481891</td>\n",
       "      <td>-0.481895</td>\n",
       "      <td>-0.735984</td>\n",
       "      <td>0.750893</td>\n",
       "      <td>0</td>\n",
       "      <td>0</td>\n",
       "    </tr>\n",
       "  </tbody>\n",
       "</table>\n",
       "<p>637 rows × 39 columns</p>\n",
       "</div>"
      ],
      "text/plain": [
       "            0         1         2         3         4         5         6  \\\n",
       "0   -0.687935 -0.762919  1.500142 -1.205173 -0.385624  0.389202  0.047816   \n",
       "1   -0.792241 -2.088475 -0.666604  0.829756 -0.385624  0.389202  0.551867   \n",
       "2    0.459431  0.562636 -0.666604  0.829756 -0.385624  0.389202 -0.960285   \n",
       "3    0.459431  1.446340 -0.666604  0.829756 -0.385624  0.389202 -0.456234   \n",
       "4    0.094360  0.120784 -0.666604 -1.205173  2.593202 -2.569357  1.811993   \n",
       "..        ...       ...       ...       ...       ...       ...       ...   \n",
       "632 -0.427170 -0.321068 -0.666604  0.829756 -0.385624  0.389202 -0.456234   \n",
       "633 -0.687935  0.120784 -0.666604  0.829756 -0.385624  0.389202 -0.456234   \n",
       "634 -0.166405 -0.762919 -0.666604  0.829756 -0.385624  0.389202 -0.708260   \n",
       "635  1.137419  3.213747 -0.666604  0.829756 -0.385624  0.389202  0.299841   \n",
       "636  0.094360  0.562636  1.500142 -1.205173  2.593202 -2.569357 -0.708260   \n",
       "\n",
       "            7         8         9  ...        29        30        31  \\\n",
       "0    1.775483  1.982616  2.053922  ... -0.439544 -0.468612 -0.433741   \n",
       "1    0.984215  1.391951  2.668048  ... -0.403658 -0.451074 -0.387346   \n",
       "2   -1.398340 -1.309635 -1.199359  ... -0.443496 -0.468612 -0.433741   \n",
       "3    0.431028  0.019249 -0.074343  ... -0.443496 -0.232784 -0.433741   \n",
       "4    0.157936 -0.228911 -0.111403  ... -0.443496 -0.468612 -0.433741   \n",
       "..        ...       ...       ...  ...       ...       ...       ...   \n",
       "632  0.238463  0.263384 -0.029343  ... -0.440197  3.402142 -0.430667   \n",
       "633  0.406520  0.264278  0.383604  ... -0.013161 -0.085058  2.716466   \n",
       "634  0.466040  0.669382  0.267132  ... -0.443496  3.669062 -0.433741   \n",
       "635  0.336496  0.445815  0.534489  ... -0.443496 -0.468612 -0.433741   \n",
       "636  0.686615  0.673406  0.285662  ... -0.443496 -0.468612 -0.433741   \n",
       "\n",
       "           32        33        34        35        36  predicted  actual  \n",
       "0   -0.360659  3.672978 -0.439346  1.628617 -0.343150          1       1  \n",
       "1    1.053822  1.308413  0.685063  1.648160 -0.343150          1       1  \n",
       "2   -0.577104 -0.481891 -0.544261 -0.834139 -0.343150          0       0  \n",
       "3   -0.170741  0.704451  0.899981  0.737135 -0.343150          0       0  \n",
       "4    0.495809  1.061359  0.973792  1.200423 -0.165415          0       0  \n",
       "..        ...       ...       ...       ...       ...        ...     ...  \n",
       "632 -0.577104 -0.481891 -0.544261 -0.834139 -0.268119          0       0  \n",
       "633 -0.573596 -0.472097 -0.544261 -0.826851 -0.333162          0       0  \n",
       "634 -0.577104 -0.481891 -0.544261 -0.834139 -0.343150          0       0  \n",
       "635 -0.183572 -0.481891 -0.533537 -0.627861  0.232506          0       0  \n",
       "636 -0.451120 -0.481891 -0.481895 -0.735984  0.750893          0       0  \n",
       "\n",
       "[637 rows x 39 columns]"
      ]
     },
     "execution_count": 416,
     "metadata": {},
     "output_type": "execute_result"
    }
   ],
   "source": [
    "predictions_df"
   ]
  },
  {
   "cell_type": "code",
   "execution_count": 417,
   "id": "bb78b5bc",
   "metadata": {},
   "outputs": [],
   "source": [
    "import os\n",
    "import xgboost\n",
    "from xgboost import XGBClassifier\n",
    "from sklearn.metrics import accuracy_score"
   ]
  },
  {
   "cell_type": "code",
   "execution_count": 418,
   "id": "01f7447c",
   "metadata": {},
   "outputs": [],
   "source": [
    "# fit model to training data\n",
    "XGmodel = XGBClassifier(scale_pos_weight=1)\n",
    "XGmodel.fit(X_train_scaled, y_train)\n",
    "y_pred = XGmodel.predict(X_test_scaled)\n",
    "accuracy = accuracy_score(y_test, y_pred)"
   ]
  },
  {
   "cell_type": "code",
   "execution_count": 419,
   "id": "fd6e5cce",
   "metadata": {},
   "outputs": [
    {
     "name": "stdout",
     "output_type": "stream",
     "text": [
      "[[589   9]\n",
      " [ 15  24]]\n",
      "1    24\n",
      "0    15\n",
      "Name: predicted, dtype: int64\n"
     ]
    }
   ],
   "source": [
    "from sklearn.metrics import confusion_matrix\n",
    "print(confusion_matrix(y_test, y_pred))\n",
    "predictions_df = pd.concat([pd.DataFrame(X_test_scaled),\n",
    "                           pd.DataFrame(dict(\n",
    "    predicted= y_pred,\n",
    "    actual=y_test\n",
    ")).reset_index(drop=True)\n",
    "                           ], axis=1)\n",
    "actual_inductees = predictions_df.loc[predictions_df.actual==1]\n",
    "predictions_for_actual_inductees = actual_inductees.predicted.value_counts()\n",
    "print(predictions_for_actual_inductees)"
   ]
  },
  {
   "cell_type": "code",
   "execution_count": 420,
   "id": "bb529830",
   "metadata": {},
   "outputs": [
    {
     "data": {
      "text/plain": [
       "<BarContainer object of 37 artists>"
      ]
     },
     "execution_count": 420,
     "metadata": {},
     "output_type": "execute_result"
    },
    {
     "data": {
      "image/png": "[encoded data removed]",
      "text/plain": [
       "<Figure size 432x288 with 1 Axes>"
      ]
     },
     "metadata": {
      "needs_background": "light"
     },
     "output_type": "display_data"
    }
   ],
   "source": [
    "plt.barh(feature_names,XGmodel.feature_importances_)"
   ]
  },
  {
   "cell_type": "code",
   "execution_count": 421,
   "id": "81e97de4",
   "metadata": {},
   "outputs": [
    {
     "data": {
      "text/html": [
       "<div>\n",
       "<style scoped>\n",
       "    .dataframe tbody tr th:only-of-type {\n",
       "        vertical-align: middle;\n",
       "    }\n",
       "\n",
       "    .dataframe tbody tr th {\n",
       "        vertical-align: top;\n",
       "    }\n",
       "\n",
       "    .dataframe thead th {\n",
       "        text-align: right;\n",
       "    }\n",
       "</style>\n",
       "<table border=\"1\" class=\"dataframe\">\n",
       "  <thead>\n",
       "    <tr style=\"text-align: right;\">\n",
       "      <th></th>\n",
       "      <th>weight</th>\n",
       "      <th>height</th>\n",
       "      <th>bats_L</th>\n",
       "      <th>bats_R</th>\n",
       "      <th>throws_L</th>\n",
       "      <th>throws_R</th>\n",
       "      <th>Seasons</th>\n",
       "      <th>Games</th>\n",
       "      <th>At_Bats</th>\n",
       "      <th>Runs</th>\n",
       "      <th>...</th>\n",
       "      <th>Catcher</th>\n",
       "      <th>FirstBase</th>\n",
       "      <th>SecondBase</th>\n",
       "      <th>ThirdBase</th>\n",
       "      <th>ShortStop</th>\n",
       "      <th>LeftField</th>\n",
       "      <th>CenterField</th>\n",
       "      <th>RightField</th>\n",
       "      <th>Outfield</th>\n",
       "      <th>DH</th>\n",
       "    </tr>\n",
       "  </thead>\n",
       "  <tbody>\n",
       "    <tr>\n",
       "      <th>0</th>\n",
       "      <td>180.0</td>\n",
       "      <td>72.0</td>\n",
       "      <td>0</td>\n",
       "      <td>1</td>\n",
       "      <td>0</td>\n",
       "      <td>1</td>\n",
       "      <td>23</td>\n",
       "      <td>3298</td>\n",
       "      <td>12364</td>\n",
       "      <td>2174</td>\n",
       "      <td>...</td>\n",
       "      <td>0.0</td>\n",
       "      <td>0.063675</td>\n",
       "      <td>0.013038</td>\n",
       "      <td>0.002122</td>\n",
       "      <td>0.000000</td>\n",
       "      <td>0.095512</td>\n",
       "      <td>0.093390</td>\n",
       "      <td>0.659187</td>\n",
       "      <td>0.836871</td>\n",
       "      <td>0.060946</td>\n",
       "    </tr>\n",
       "    <tr>\n",
       "      <th>1</th>\n",
       "      <td>190.0</td>\n",
       "      <td>75.0</td>\n",
       "      <td>0</td>\n",
       "      <td>1</td>\n",
       "      <td>0</td>\n",
       "      <td>1</td>\n",
       "      <td>7</td>\n",
       "      <td>437</td>\n",
       "      <td>944</td>\n",
       "      <td>102</td>\n",
       "      <td>...</td>\n",
       "      <td>0.0</td>\n",
       "      <td>0.530892</td>\n",
       "      <td>0.016018</td>\n",
       "      <td>0.022883</td>\n",
       "      <td>0.000000</td>\n",
       "      <td>0.308924</td>\n",
       "      <td>0.002288</td>\n",
       "      <td>0.004577</td>\n",
       "      <td>0.313501</td>\n",
       "      <td>0.000000</td>\n",
       "    </tr>\n",
       "    <tr>\n",
       "      <th>2</th>\n",
       "      <td>184.0</td>\n",
       "      <td>73.0</td>\n",
       "      <td>1</td>\n",
       "      <td>0</td>\n",
       "      <td>1</td>\n",
       "      <td>0</td>\n",
       "      <td>3</td>\n",
       "      <td>15</td>\n",
       "      <td>21</td>\n",
       "      <td>1</td>\n",
       "      <td>...</td>\n",
       "      <td>0.0</td>\n",
       "      <td>0.533333</td>\n",
       "      <td>0.000000</td>\n",
       "      <td>0.000000</td>\n",
       "      <td>0.000000</td>\n",
       "      <td>0.000000</td>\n",
       "      <td>0.000000</td>\n",
       "      <td>0.066667</td>\n",
       "      <td>0.066667</td>\n",
       "      <td>0.000000</td>\n",
       "    </tr>\n",
       "    <tr>\n",
       "      <th>3</th>\n",
       "      <td>192.0</td>\n",
       "      <td>72.0</td>\n",
       "      <td>0</td>\n",
       "      <td>1</td>\n",
       "      <td>0</td>\n",
       "      <td>1</td>\n",
       "      <td>3</td>\n",
       "      <td>12</td>\n",
       "      <td>49</td>\n",
       "      <td>4</td>\n",
       "      <td>...</td>\n",
       "      <td>0.0</td>\n",
       "      <td>1.000000</td>\n",
       "      <td>0.000000</td>\n",
       "      <td>0.000000</td>\n",
       "      <td>0.000000</td>\n",
       "      <td>0.000000</td>\n",
       "      <td>0.000000</td>\n",
       "      <td>0.000000</td>\n",
       "      <td>0.000000</td>\n",
       "      <td>0.000000</td>\n",
       "    </tr>\n",
       "    <tr>\n",
       "      <th>4</th>\n",
       "      <td>170.0</td>\n",
       "      <td>71.0</td>\n",
       "      <td>0</td>\n",
       "      <td>1</td>\n",
       "      <td>0</td>\n",
       "      <td>1</td>\n",
       "      <td>11</td>\n",
       "      <td>855</td>\n",
       "      <td>3044</td>\n",
       "      <td>355</td>\n",
       "      <td>...</td>\n",
       "      <td>0.0</td>\n",
       "      <td>0.000000</td>\n",
       "      <td>0.490058</td>\n",
       "      <td>0.023392</td>\n",
       "      <td>0.453801</td>\n",
       "      <td>0.000000</td>\n",
       "      <td>0.002339</td>\n",
       "      <td>0.001170</td>\n",
       "      <td>0.003509</td>\n",
       "      <td>0.000000</td>\n",
       "    </tr>\n",
       "  </tbody>\n",
       "</table>\n",
       "<p>5 rows × 37 columns</p>\n",
       "</div>"
      ],
      "text/plain": [
       "   weight  height  bats_L  bats_R  throws_L  throws_R  Seasons  Games  \\\n",
       "0   180.0    72.0       0       1         0         1       23   3298   \n",
       "1   190.0    75.0       0       1         0         1        7    437   \n",
       "2   184.0    73.0       1       0         1         0        3     15   \n",
       "3   192.0    72.0       0       1         0         1        3     12   \n",
       "4   170.0    71.0       0       1         0         1       11    855   \n",
       "\n",
       "   At_Bats  Runs  ...  Catcher  FirstBase  SecondBase  ThirdBase  ShortStop  \\\n",
       "0    12364  2174  ...      0.0   0.063675    0.013038   0.002122   0.000000   \n",
       "1      944   102  ...      0.0   0.530892    0.016018   0.022883   0.000000   \n",
       "2       21     1  ...      0.0   0.533333    0.000000   0.000000   0.000000   \n",
       "3       49     4  ...      0.0   1.000000    0.000000   0.000000   0.000000   \n",
       "4     3044   355  ...      0.0   0.000000    0.490058   0.023392   0.453801   \n",
       "\n",
       "   LeftField  CenterField  RightField  Outfield        DH  \n",
       "0   0.095512     0.093390    0.659187  0.836871  0.060946  \n",
       "1   0.308924     0.002288    0.004577  0.313501  0.000000  \n",
       "2   0.000000     0.000000    0.066667  0.066667  0.000000  \n",
       "3   0.000000     0.000000    0.000000  0.000000  0.000000  \n",
       "4   0.000000     0.002339    0.001170  0.003509  0.000000  \n",
       "\n",
       "[5 rows x 37 columns]"
      ]
     },
     "execution_count": 421,
     "metadata": {},
     "output_type": "execute_result"
    }
   ],
   "source": [
    "# Run all data through the model to determine who should be in the hall of fame.\n",
    "data_total = Position_Player_df.drop(['inducted', \n",
    "                                  'playerID', \n",
    "                                  'nameFirst', \n",
    "                                  'nameLast', \n",
    "                                  'finalGame', \n",
    "                                  'yearID',\n",
    "                                  'Primary_Position',\n",
    "                                  'Hall_Eligible'], axis=1)\n",
    "data_total.fillna(0, inplace=True)\n",
    "data_total=data_total.fillna(0)\n",
    "data_total.head()"
   ]
  },
  {
   "cell_type": "code",
   "execution_count": 422,
   "id": "94b71958",
   "metadata": {},
   "outputs": [],
   "source": [
    "data_total_scaler = StandardScaler().fit(data_total)\n",
    "data_total_scaled = data_total_scaler.transform(data_total)\n",
    "data_total_predicted = XGmodel.predict(data_total_scaled)"
   ]
  },
  {
   "cell_type": "code",
   "execution_count": 423,
   "id": "d46ec4ed",
   "metadata": {},
   "outputs": [
    {
     "data": {
      "text/html": [
       "<div>\n",
       "<style scoped>\n",
       "    .dataframe tbody tr th:only-of-type {\n",
       "        vertical-align: middle;\n",
       "    }\n",
       "\n",
       "    .dataframe tbody tr th {\n",
       "        vertical-align: top;\n",
       "    }\n",
       "\n",
       "    .dataframe thead th {\n",
       "        text-align: right;\n",
       "    }\n",
       "</style>\n",
       "<table border=\"1\" class=\"dataframe\">\n",
       "  <thead>\n",
       "    <tr style=\"text-align: right;\">\n",
       "      <th></th>\n",
       "      <th>playerID</th>\n",
       "      <th>nameFirst</th>\n",
       "      <th>nameLast</th>\n",
       "      <th>weight</th>\n",
       "      <th>height</th>\n",
       "      <th>bats_L</th>\n",
       "      <th>bats_R</th>\n",
       "      <th>throws_L</th>\n",
       "      <th>throws_R</th>\n",
       "      <th>Seasons</th>\n",
       "      <th>...</th>\n",
       "      <th>ShortStop</th>\n",
       "      <th>LeftField</th>\n",
       "      <th>CenterField</th>\n",
       "      <th>RightField</th>\n",
       "      <th>Outfield</th>\n",
       "      <th>DH</th>\n",
       "      <th>Primary_Position</th>\n",
       "      <th>Hall_Eligible</th>\n",
       "      <th>model_predict</th>\n",
       "      <th>Comparison</th>\n",
       "    </tr>\n",
       "  </thead>\n",
       "  <tbody>\n",
       "    <tr>\n",
       "      <th>0</th>\n",
       "      <td>aaronha01</td>\n",
       "      <td>Hank</td>\n",
       "      <td>Aaron</td>\n",
       "      <td>180.0</td>\n",
       "      <td>72.0</td>\n",
       "      <td>0</td>\n",
       "      <td>1</td>\n",
       "      <td>0</td>\n",
       "      <td>1</td>\n",
       "      <td>23</td>\n",
       "      <td>...</td>\n",
       "      <td>0.000000</td>\n",
       "      <td>0.095512</td>\n",
       "      <td>0.093390</td>\n",
       "      <td>0.659187</td>\n",
       "      <td>0.836871</td>\n",
       "      <td>0.060946</td>\n",
       "      <td>Outfield</td>\n",
       "      <td>1</td>\n",
       "      <td>1</td>\n",
       "      <td>True</td>\n",
       "    </tr>\n",
       "    <tr>\n",
       "      <th>1</th>\n",
       "      <td>aaronto01</td>\n",
       "      <td>Tommie</td>\n",
       "      <td>Aaron</td>\n",
       "      <td>190.0</td>\n",
       "      <td>75.0</td>\n",
       "      <td>0</td>\n",
       "      <td>1</td>\n",
       "      <td>0</td>\n",
       "      <td>1</td>\n",
       "      <td>7</td>\n",
       "      <td>...</td>\n",
       "      <td>0.000000</td>\n",
       "      <td>0.308924</td>\n",
       "      <td>0.002288</td>\n",
       "      <td>0.004577</td>\n",
       "      <td>0.313501</td>\n",
       "      <td>0.000000</td>\n",
       "      <td>FirstBase</td>\n",
       "      <td>0</td>\n",
       "      <td>0</td>\n",
       "      <td>True</td>\n",
       "    </tr>\n",
       "    <tr>\n",
       "      <th>2</th>\n",
       "      <td>abadan01</td>\n",
       "      <td>Andy</td>\n",
       "      <td>Abad</td>\n",
       "      <td>184.0</td>\n",
       "      <td>73.0</td>\n",
       "      <td>1</td>\n",
       "      <td>0</td>\n",
       "      <td>1</td>\n",
       "      <td>0</td>\n",
       "      <td>3</td>\n",
       "      <td>...</td>\n",
       "      <td>0.000000</td>\n",
       "      <td>0.000000</td>\n",
       "      <td>0.000000</td>\n",
       "      <td>0.066667</td>\n",
       "      <td>0.066667</td>\n",
       "      <td>0.000000</td>\n",
       "      <td>FirstBase</td>\n",
       "      <td>0</td>\n",
       "      <td>0</td>\n",
       "      <td>True</td>\n",
       "    </tr>\n",
       "    <tr>\n",
       "      <th>3</th>\n",
       "      <td>abadijo01</td>\n",
       "      <td>John</td>\n",
       "      <td>Abadie</td>\n",
       "      <td>192.0</td>\n",
       "      <td>72.0</td>\n",
       "      <td>0</td>\n",
       "      <td>1</td>\n",
       "      <td>0</td>\n",
       "      <td>1</td>\n",
       "      <td>3</td>\n",
       "      <td>...</td>\n",
       "      <td>0.000000</td>\n",
       "      <td>0.000000</td>\n",
       "      <td>0.000000</td>\n",
       "      <td>0.000000</td>\n",
       "      <td>0.000000</td>\n",
       "      <td>0.000000</td>\n",
       "      <td>FirstBase</td>\n",
       "      <td>0</td>\n",
       "      <td>0</td>\n",
       "      <td>True</td>\n",
       "    </tr>\n",
       "    <tr>\n",
       "      <th>4</th>\n",
       "      <td>abbated01</td>\n",
       "      <td>Ed</td>\n",
       "      <td>Abbaticchio</td>\n",
       "      <td>170.0</td>\n",
       "      <td>71.0</td>\n",
       "      <td>0</td>\n",
       "      <td>1</td>\n",
       "      <td>0</td>\n",
       "      <td>1</td>\n",
       "      <td>11</td>\n",
       "      <td>...</td>\n",
       "      <td>0.453801</td>\n",
       "      <td>0.000000</td>\n",
       "      <td>0.002339</td>\n",
       "      <td>0.001170</td>\n",
       "      <td>0.003509</td>\n",
       "      <td>0.000000</td>\n",
       "      <td>SecondBase</td>\n",
       "      <td>1</td>\n",
       "      <td>0</td>\n",
       "      <td>True</td>\n",
       "    </tr>\n",
       "  </tbody>\n",
       "</table>\n",
       "<p>5 rows × 47 columns</p>\n",
       "</div>"
      ],
      "text/plain": [
       "    playerID nameFirst     nameLast  weight  height  bats_L  bats_R  throws_L  \\\n",
       "0  aaronha01      Hank        Aaron   180.0    72.0       0       1         0   \n",
       "1  aaronto01    Tommie        Aaron   190.0    75.0       0       1         0   \n",
       "2   abadan01      Andy         Abad   184.0    73.0       1       0         1   \n",
       "3  abadijo01      John       Abadie   192.0    72.0       0       1         0   \n",
       "4  abbated01        Ed  Abbaticchio   170.0    71.0       0       1         0   \n",
       "\n",
       "   throws_R  Seasons  ...  ShortStop  LeftField  CenterField  RightField  \\\n",
       "0         1       23  ...   0.000000   0.095512     0.093390    0.659187   \n",
       "1         1        7  ...   0.000000   0.308924     0.002288    0.004577   \n",
       "2         0        3  ...   0.000000   0.000000     0.000000    0.066667   \n",
       "3         1        3  ...   0.000000   0.000000     0.000000    0.000000   \n",
       "4         1       11  ...   0.453801   0.000000     0.002339    0.001170   \n",
       "\n",
       "   Outfield        DH  Primary_Position  Hall_Eligible  model_predict  \\\n",
       "0  0.836871  0.060946          Outfield              1              1   \n",
       "1  0.313501  0.000000         FirstBase              0              0   \n",
       "2  0.066667  0.000000         FirstBase              0              0   \n",
       "3  0.000000  0.000000         FirstBase              0              0   \n",
       "4  0.003509  0.000000        SecondBase              1              0   \n",
       "\n",
       "   Comparison  \n",
       "0        True  \n",
       "1        True  \n",
       "2        True  \n",
       "3        True  \n",
       "4        True  \n",
       "\n",
       "[5 rows x 47 columns]"
      ]
     },
     "execution_count": 423,
     "metadata": {},
     "output_type": "execute_result"
    }
   ],
   "source": [
    "postions_predict_df = pd.concat([Position_Player_df, pd.Series(data_total_predicted)], axis=1)\n",
    "postions_predict_df = postions_predict_df.rename(columns={0:'model_predict'})\n",
    "postions_predict_df['Comparison']=postions_predict_df['inducted']==postions_predict_df['model_predict']\n",
    "postions_predict_df.head()"
   ]
  },
  {
   "cell_type": "code",
   "execution_count": 424,
   "id": "c20cb154",
   "metadata": {},
   "outputs": [],
   "source": [
    "from sklearn.neighbors import KNeighborsClassifier"
   ]
  },
  {
   "cell_type": "code",
   "execution_count": 425,
   "id": "8dd1d014",
   "metadata": {},
   "outputs": [
    {
     "data": {
      "text/plain": [
       "KNeighborsClassifier(metric='euclidean')"
      ]
     },
     "execution_count": 425,
     "metadata": {},
     "output_type": "execute_result"
    }
   ],
   "source": [
    "knn = KNeighborsClassifier(n_neighbors=5, metric='euclidean')\n",
    "knn.fit(X_train_scaled, y_train)"
   ]
  },
  {
   "cell_type": "code",
   "execution_count": 426,
   "id": "921d6a2d",
   "metadata": {},
   "outputs": [],
   "source": [
    "y_pred = knn.predict(X_test_scaled)"
   ]
  },
  {
   "cell_type": "code",
   "execution_count": 427,
   "id": "719b573b",
   "metadata": {},
   "outputs": [],
   "source": [
    "from imblearn.over_sampling import ADASYN "
   ]
  },
  {
   "cell_type": "code",
   "execution_count": 428,
   "id": "0b591ec7",
   "metadata": {},
   "outputs": [],
   "source": [
    "ada = ADASYN()\n",
    "X_ada, y_ada = ada.fit_sample(X_train_scaled,y_train)"
   ]
  },
  {
   "cell_type": "code",
   "execution_count": 429,
   "id": "509a415b",
   "metadata": {},
   "outputs": [
    {
     "data": {
      "text/plain": [
       "0.945054945054945"
      ]
     },
     "execution_count": 429,
     "metadata": {},
     "output_type": "execute_result"
    }
   ],
   "source": [
    "clf_ada = BalancedRandomForestClassifier(random_state=0)\n",
    "clf_ada = clf.fit(X_ada, y_ada)\n",
    "clf.score(X_test_scaled, y_test)"
   ]
  },
  {
   "cell_type": "code",
   "execution_count": 430,
   "id": "1007876c",
   "metadata": {},
   "outputs": [
    {
     "name": "stdout",
     "output_type": "stream",
     "text": [
      "[[568  30]\n",
      " [  5  34]]\n"
     ]
    }
   ],
   "source": [
    "y_predicted_ada = clf_ada.predict(X_test_scaled)\n",
    "# from sklearn.metrics import confusion_matrix\n",
    "print(confusion_matrix(y_test, y_predicted_ada))\n",
    "\n",
    "predictions_df = pd.concat([pd.DataFrame(X_test_scaled),\n",
    "#                            .copy().assign(\n",
    "                           pd.DataFrame(dict(\n",
    "    predicted= y_predicted_ada,\n",
    "    actual=y_test\n",
    ")).reset_index(drop=True)\n",
    "                           ], axis=1)\n",
    "# pd.Series(y_test).value_counts()#[:20]\n",
    "actual_inductees = predictions_df.loc[predictions_df.actual==1]\n",
    "predictions_for_actual_inductees = actual_inductees.predicted.value_counts()"
   ]
  },
  {
   "cell_type": "code",
   "execution_count": 431,
   "id": "71208a66",
   "metadata": {},
   "outputs": [
    {
     "data": {
      "text/plain": [
       "<BarContainer object of 37 artists>"
      ]
     },
     "execution_count": 431,
     "metadata": {},
     "output_type": "execute_result"
    },
    {
     "data": {
      "image/png": "[encoded data removed]",
      "text/plain": [
       "<Figure size 432x288 with 1 Axes>"
      ]
     },
     "metadata": {
      "needs_background": "light"
     },
     "output_type": "display_data"
    }
   ],
   "source": [
    "plt.barh(feature_names,clf_ada.feature_importances_)"
   ]
  },
  {
   "cell_type": "code",
   "execution_count": 432,
   "id": "4dab81f7",
   "metadata": {},
   "outputs": [
    {
     "name": "stdout",
     "output_type": "stream",
     "text": [
      "3580 3580\n"
     ]
    }
   ],
   "source": [
    "from imblearn.combine import SMOTETomek\n",
    "smote_tomek = SMOTETomek(random_state=0)\n",
    "X_resampled, y_resampled = smote_tomek.fit_resample(X_train_scaled,y_train)\n",
    "x_GB = XGBClassifier(scale_pos_weight=1)\n",
    "x_GB.fit(X_resampled, y_resampled)\n",
    "y_GB = x_GB.predict(X_test_scaled)\n",
    "print(len(X_resampled), len(y_resampled))"
   ]
  },
  {
   "cell_type": "code",
   "execution_count": 433,
   "id": "4e7aba62",
   "metadata": {},
   "outputs": [
    {
     "data": {
      "text/plain": [
       "(3580, 37)"
      ]
     },
     "execution_count": 433,
     "metadata": {},
     "output_type": "execute_result"
    }
   ],
   "source": [
    "X_resampled_df = pd.DataFrame(X_resampled)\n",
    "X_resampled_df.shape"
   ]
  },
  {
   "cell_type": "code",
   "execution_count": 434,
   "id": "5b676c2f",
   "metadata": {},
   "outputs": [
    {
     "data": {
      "text/plain": [
       "(637,)"
      ]
     },
     "execution_count": 434,
     "metadata": {},
     "output_type": "execute_result"
    }
   ],
   "source": [
    "y_GB.shape"
   ]
  },
  {
   "cell_type": "code",
   "execution_count": 435,
   "id": "9d85e241",
   "metadata": {},
   "outputs": [
    {
     "data": {
      "text/plain": [
       "(637,)"
      ]
     },
     "execution_count": 435,
     "metadata": {},
     "output_type": "execute_result"
    }
   ],
   "source": [
    "y_test.shape"
   ]
  },
  {
   "cell_type": "code",
   "execution_count": 436,
   "id": "d55e65bd",
   "metadata": {},
   "outputs": [
    {
     "data": {
      "text/plain": [
       "(637, 2)"
      ]
     },
     "execution_count": 436,
     "metadata": {},
     "output_type": "execute_result"
    }
   ],
   "source": [
    "y_sample_check = pd.DataFrame(dict(predicted= y_GB,actual=y_test)).reset_index(drop=True)\n",
    "y_sample_check.shape"
   ]
  },
  {
   "cell_type": "code",
   "execution_count": 437,
   "id": "b5fc9c25",
   "metadata": {},
   "outputs": [
    {
     "name": "stdout",
     "output_type": "stream",
     "text": [
      "              precision    recall  f1-score   support\n",
      "\n",
      "           0       0.99      0.96      0.98       598\n",
      "           1       0.59      0.90      0.71        39\n",
      "\n",
      "    accuracy                           0.96       637\n",
      "   macro avg       0.79      0.93      0.85       637\n",
      "weighted avg       0.97      0.96      0.96       637\n",
      "\n"
     ]
    }
   ],
   "source": [
    "XGB_predictions_df = pd.concat([pd.DataFrame(X_test_scaled),\n",
    "                           pd.DataFrame(dict(\n",
    "    predicted= y_GB,\n",
    "    actual=y_test)).reset_index(drop=True) ], axis=1)\n",
    "actual_inductees = predictions_df.loc[predictions_df.actual==1]\n",
    "predictions_for_actual_inductees = actual_inductees.predicted.value_counts()\n",
    "print(classification_report(y_test,y_GB))"
   ]
  },
  {
   "cell_type": "code",
   "execution_count": null,
   "id": "774b093f",
   "metadata": {},
   "outputs": [],
   "source": []
  },
  {
   "cell_type": "code",
   "execution_count": null,
   "id": "b8271f97",
   "metadata": {},
   "outputs": [],
   "source": []
  }
 ],
 "metadata": {
  "kernelspec": {
   "display_name": "mlenv",
   "language": "python",
   "name": "mlenv"
  },
  "language_info": {
   "codemirror_mode": {
    "name": "ipython",
    "version": 3
   },
   "file_extension": ".py",
   "mimetype": "text/x-python",
   "name": "python",
   "nbconvert_exporter": "python",
   "pygments_lexer": "ipython3",
   "version": "3.7.11"
  }
 },
 "nbformat": 4,
 "nbformat_minor": 5
}
